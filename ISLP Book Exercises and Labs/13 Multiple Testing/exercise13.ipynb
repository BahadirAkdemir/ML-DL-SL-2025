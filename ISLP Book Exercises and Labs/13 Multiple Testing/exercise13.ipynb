{
 "cells": [
  {
   "cell_type": "markdown",
   "id": "bfb2382a-01ed-4975-a4a1-7f0e9e297d82",
   "metadata": {},
   "source": [
    "# <span style=\"color: rgb(0, 105, 175);font-family: 'NewComputerModernMath';\">*Exercise Solutions*</span>"
   ]
  },
  {
   "cell_type": "markdown",
   "id": "5faf80dd-9e05-42de-b12e-4096409692e1",
   "metadata": {},
   "source": [
    "## <span style=\"color: rgb(0, 105, 175);font-family: 'NewComputerModernMath';\">*Conceptual*</span>"
   ]
  },
  {
   "cell_type": "markdown",
   "id": "38110ffe-12c2-469e-ad5d-a170594a0a4a",
   "metadata": {},
   "source": [
    "### <span style=\"color: rgb(0, 105, 175);font-family: 'NewComputerModernMath';\">Q1</span>"
   ]
  },
  {
   "cell_type": "markdown",
   "id": "cbcbf36a-65bf-4415-8b64-cb799ed80ef8",
   "metadata": {},
   "source": [
    "#### <span style=\"font-family: NewComputerModernMath;\">_Suppose we test $ m $ null hypotheses, all of which are true._  \n",
    "#### <span style=\"font-family: NewComputerModernMath;\">_We control the Type I error for each null hypothesis at level $ \\alpha $. For each sub-problem, justify your answer._"
   ]
  },
  {
   "cell_type": "markdown",
   "id": "401d8d51-27e7-4c75-8c8c-4c3f69dd33ea",
   "metadata": {},
   "source": [
    "#### <span style=\"font-family: NewComputerModernMath;\">_(a) In total, how many Type I errors do we expect to make?_"
   ]
  },
  {
   "cell_type": "markdown",
   "id": "7d74d43c-991a-4bba-b481-02397b3edbc1",
   "metadata": {},
   "source": [
    "#### <span style=\"font-family: NewComputerModernMath;\">_(b) Suppose that the $ m $ tests that we perform are independent._  \n",
    "#### <span style=\"font-family: NewComputerModernMath;\">_What is the family-wise error rate associated with these $ m $ tests?_\n",
    "\n",
    "#### <span style=\"font-family: NewComputerModernMath;\">_*Hint:* If two events $ A $ and $ B $ are independent, then_  \n",
    "$$\n",
    "\\Pr(A \\cap B) = \\Pr(A) \\Pr(B).\n",
    "$$"
   ]
  },
  {
   "cell_type": "markdown",
   "id": "08947f77-87dd-4494-9fe8-f270334ae248",
   "metadata": {},
   "source": [
    "#### <span style=\"font-family: NewComputerModernMath;\">_(c) Suppose that $ m = 2 $, and that the $ p $-values for the two tests are positively correlated._  \n",
    "#### <span style=\"font-family: NewComputerModernMath;\">_If one is small, then the other will tend to be small as well, and if one is large, then the other will tend to be large. How does the family-wise error rate associated with these $ m = 2 $ tests qualitatively compare to the answer in (b) with $ m = 2 $?_\n",
    "\n",
    "#### <span style=\"font-family: NewComputerModernMath;\">_*Hint:* First, suppose that the two $ p $-values are perfectly correlated._"
   ]
  },
  {
   "cell_type": "markdown",
   "id": "58d0678c-3dd5-4ed5-bb8d-51fd6eba2946",
   "metadata": {},
   "source": [
    "#### <span style=\"font-family: NewComputerModernMath;\">_(d) Suppose again that $ m = 2 $, but now the $ p $-values for the two tests are negatively correlated._  \n",
    "#### <span style=\"font-family: NewComputerModernMath;\"> _If one is large, then the other will tend to be small. How does the family-wise error rate associated with these $ m = 2 $ tests qualitatively compare to the answer in (b) with $ m = 2 $?_\n",
    "\n",
    "#### <span style=\"font-family: NewComputerModernMath;\">_*Hint:* First, suppose that whenever one $ p $-value is less than $ \\alpha $, then the other will be greater than $ \\alpha $. In other words, we can _never reject both null hypotheses_._\n",
    "</span>"
   ]
  },
  {
   "cell_type": "markdown",
   "id": "439cef8c-ce16-4c25-93c9-24b3ee2abea3",
   "metadata": {},
   "source": [
    "### <span style=\"color: rgb(0, 105, 175);font-family: 'NewComputerModernMath';\">Q2</span>"
   ]
  },
  {
   "cell_type": "markdown",
   "id": "c377529b-a3a0-4b9c-be41-161f58b48748",
   "metadata": {},
   "source": [
    "#### <span style=\"font-family: NewComputerModernMath;\">_Suppose that we test $ m $ hypotheses, and control the Type I error for each hypothesis at level $ \\alpha $. Assume that all $ m $ $ p $-values are independent, and that all null hypotheses are true._"
   ]
  },
  {
   "cell_type": "markdown",
   "id": "a40581e2-112f-44df-8cce-c821f66f9561",
   "metadata": {},
   "source": [
    "#### <span style=\"font-family: NewComputerModernMath;\">_(a) Let the random variable $ A_j $ equal 1 if the $ j $th null hypothesis is rejected, and 0 otherwise. What is the distribution of $ A_j $?_"
   ]
  },
  {
   "cell_type": "markdown",
   "id": "df40fcf9-17f2-4cfe-be17-0d9bd55c6a79",
   "metadata": {},
   "source": [
    "#### <span style=\"font-family: NewComputerModernMath;\">_(b) What is the distribution of_  \n",
    "$$\n",
    "\\sum_{j=1}^{m} A_j?\n",
    "$$"
   ]
  },
  {
   "cell_type": "markdown",
   "id": "bbdd2dbe-740c-424f-8c47-fd88dbdbeb1a",
   "metadata": {},
   "source": [
    "#### <span style=\"font-family: NewComputerModernMath;\">_(c) What is the standard deviation of the number of Type I errors that we will make?_\n",
    "</span>"
   ]
  },
  {
   "cell_type": "markdown",
   "id": "fbbcc9b2-9d3f-4516-873e-aafc82b7b2ff",
   "metadata": {},
   "source": [
    "### <span style=\"color: rgb(0, 105, 175);font-family: 'NewComputerModernMath';\">Q3</span>"
   ]
  },
  {
   "cell_type": "markdown",
   "id": "40319421-be5d-419b-a87f-a94845a251e9",
   "metadata": {},
   "source": [
    "#### <span style=\"font-family: NewComputerModernMath;\">_Suppose we test $ m $ null hypotheses, and control the Type I error for the $ j $th null hypothesis at level $ \\alpha_j $, for $ j = 1, \\dots, m $. Argue that the family-wise error rate is no greater than_  \n",
    "$$\n",
    "\\sum_{j=1}^{m} \\alpha_j.\n",
    "$$\n",
    "\n",
    "#### <span style=\"font-family: NewComputerModernMath;\">_Table 13.4: $ p $-values for Exercise 4_\n",
    "| Null Hypothesis | $ p $-value |\n",
    "|----------------|-----------|\n",
    "| $ H_{01} $ | 0.0011 |\n",
    "| $ H_{02} $ | 0.031  |\n",
    "| $ H_{03} $ | 0.017  |\n",
    "| $ H_{04} $ | 0.32   |\n",
    "| $ H_{05} $ | 0.11   |\n",
    "| $ H_{06} $ | 0.90   |\n",
    "| $ H_{07} $ | 0.07   |\n",
    "| $ H_{08} $ | 0.006  |\n",
    "| $ H_{09} $ | 0.004  |\n",
    "| $ H_{10} $ | 0.0009 |\n",
    "\n",
    "</span>"
   ]
  },
  {
   "cell_type": "markdown",
   "id": "68215488-5022-4222-a25a-8f7b43adb7d0",
   "metadata": {},
   "source": [
    "### <span style=\"color: rgb(0, 105, 175);font-family: 'NewComputerModernMath';\">Q4</span>"
   ]
  },
  {
   "cell_type": "markdown",
   "id": "e97e67a3-aa86-467f-b112-49355ce705b4",
   "metadata": {},
   "source": [
    "#### <span style=\"font-family: NewComputerModernMath;\">_Suppose we test $ m = 10 $ hypotheses, and obtain the $ p $-values shown in Table <span style=\"color:blue;\">13.4</span>._"
   ]
  },
  {
   "cell_type": "markdown",
   "id": "e1706d86-721c-44bd-874e-198606088db4",
   "metadata": {},
   "source": [
    "#### <span style=\"font-family: NewComputerModernMath;\">_(a) Suppose that we wish to control the Type I error for each null hypothesis at level $ \\alpha = 0.05 $. Which null hypotheses will we reject?_"
   ]
  },
  {
   "cell_type": "markdown",
   "id": "57a20fe8-f35b-4b19-85b9-59008673fd8a",
   "metadata": {},
   "source": [
    "#### <span style=\"font-family: NewComputerModernMath;\">_(b) Now suppose that we wish to control the _Family-Wise Error Rate (FWER)_ at level $ \\alpha = 0.05 $. Which null hypotheses will we reject? Justify your answer._"
   ]
  },
  {
   "cell_type": "markdown",
   "id": "54951fb2-4aa2-4c33-9b7f-b7cf5b3c8691",
   "metadata": {},
   "source": [
    "#### <span style=\"font-family: NewComputerModernMath;\">_(c) Now suppose that we wish to control the _False Discovery Rate (FDR)_ at level $ q = 0.05 $. Which null hypotheses will we reject? Justify your answer._"
   ]
  },
  {
   "cell_type": "markdown",
   "id": "75e575aa-e58c-4304-b934-07f27cfa1e73",
   "metadata": {},
   "source": [
    "#### <span style=\"font-family: NewComputerModernMath;\">_(d) Now suppose that we wish to control the _False Discovery Rate (FDR)_ at level $ q = 0.2 $. Which null hypotheses will we reject? Justify your answer._"
   ]
  },
  {
   "cell_type": "markdown",
   "id": "8d24a776-09a4-485f-8615-b2930fa4d9fe",
   "metadata": {},
   "source": [
    "#### <span style=\"font-family: NewComputerModernMath;\">_(e) Of the null hypotheses rejected at _FDR level_ $ q = 0.2 $, approximately how many are false positives?  Justify your answer.</span>_"
   ]
  },
  {
   "cell_type": "markdown",
   "id": "7cbbe4a5-5510-4c9d-901f-63a19bf56a0f",
   "metadata": {},
   "source": [
    "### <span style=\"color: rgb(0, 105, 175);font-family: 'NewComputerModernMath';\">Q5</span>"
   ]
  },
  {
   "cell_type": "markdown",
   "id": "16c28ca3-8b97-4727-bff4-dca451ff0948",
   "metadata": {},
   "source": [
    "#### <span style=\"font-family: NewComputerModernMath;\">_For this problem, you will make up $ p $-values that lead to a certain number of rejections using the Bonferroni and Holm procedures._"
   ]
  },
  {
   "cell_type": "markdown",
   "id": "c898969f-96a6-44ca-8e10-0cd286686e25",
   "metadata": {},
   "source": [
    "#### <span style=\"font-family: NewComputerModernMath;\">_(a) Give an example of five $ p $-values (i.e. five numbers between 0 and 1 which, for the purpose of this problem, we will interpret as $ p $-values) for which both _Bonferroni’s method_ and _Holm’s method_ reject exactly _one null hypothesis_ when controlling the _Family-Wise Error Rate (FWER)_ at level $ 0.1 $._ "
   ]
  },
  {
   "cell_type": "markdown",
   "id": "8ab01973-9463-4022-9071-6634633aa1e7",
   "metadata": {},
   "source": [
    "#### <span style=\"font-family: NewComputerModernMath;\">_(b) Now give an example of five $ p $-values for which _Bonferroni_ rejects _one_ null hypothesis and _Holm_ rejects _more than one_ null hypothesis at level $ 0.1 $._\n",
    "</span>"
   ]
  },
  {
   "cell_type": "markdown",
   "id": "b7af34c3-b4a3-410c-a300-ca1e5bc6ef01",
   "metadata": {},
   "source": [
    "### <span style=\"color: rgb(0, 105, 175);font-family: 'NewComputerModernMath';\">Q6</span>"
   ]
  },
  {
   "cell_type": "markdown",
   "id": "d5013a54-155e-439e-a348-ca52795987ae",
   "metadata": {},
   "source": [
    "#### <span style=\"font-family: NewComputerModernMath;\">_For each of the three panels in Figure <span style=\"color:blue;\">13.3</span>, answer the following questions:_"
   ]
  },
  {
   "cell_type": "markdown",
   "id": "9aa2b277-79c4-4d31-89ad-e95397d05abc",
   "metadata": {},
   "source": [
    "#### <span style=\"font-family: NewComputerModernMath;\">_(a) How many _false positives, false negatives, true positives, true negatives, Type I errors, and Type II errors_ result from applying the _Bonferroni procedure_ to control the _Family-Wise Error Rate (FWER)_ at level $ \\alpha = 0.05 $?_"
   ]
  },
  {
   "cell_type": "markdown",
   "id": "75da2609-f278-4f2d-8b72-71dbf05f46f8",
   "metadata": {},
   "source": [
    "#### <span style=\"font-family: NewComputerModernMath;\">_(b) How many _false positives, false negatives, true positives, true negatives, Type I errors, and Type II errors_ result from applying the _Holm procedure_ to control the _FWER_ at level $ \\alpha = 0.05 $?_"
   ]
  },
  {
   "cell_type": "markdown",
   "id": "d0d4b9b9-770e-4c92-b6b4-aad10a207e31",
   "metadata": {},
   "source": [
    "#### <span style=\"font-family: NewComputerModernMath;\">_(c) What is the _false discovery proportion_ associated with using the _Bonferroni procedure_ to control the _FWER_ at level $ \\alpha = 0.05 $?_"
   ]
  },
  {
   "cell_type": "markdown",
   "id": "bbff5043-fd35-4462-b76c-47ce11db60bd",
   "metadata": {},
   "source": [
    "#### <span style=\"font-family: NewComputerModernMath;\">_(d) What is the _false discovery proportion_ associated with using the _Holm procedure_ to control the _FWER_ at level $ \\alpha = 0.05 $?_"
   ]
  },
  {
   "cell_type": "markdown",
   "id": "d95a6a00-2466-45ed-ba8e-a65ff33801c9",
   "metadata": {},
   "source": [
    "#### <span style=\"font-family: NewComputerModernMath;\">_(e) How would the answers to (a) and (c) change if we instead used the _Bonferroni procedure_ to control the _FWER_ at level $ \\alpha = 0.001 $?_\n",
    "</span>"
   ]
  },
  {
   "cell_type": "markdown",
   "id": "80487831-7134-4e3e-bbf9-413dd50dbd7b",
   "metadata": {},
   "source": [
    "## <span style=\"color: rgb(0, 105, 175);font-family: 'NewComputerModernMath';\">*Applied*</span>"
   ]
  },
  {
   "cell_type": "markdown",
   "id": "5cbaf56f-0a0a-4199-be41-cda3455d7479",
   "metadata": {},
   "source": [
    "### <span style=\"color: rgb(0, 105, 175);font-family: 'NewComputerModernMath';\">Q7</span>"
   ]
  },
  {
   "cell_type": "markdown",
   "id": "0bc630ab-a065-42da-86e4-f01ff4cf816b",
   "metadata": {},
   "source": [
    "#### <span style=\"font-family: NewComputerModernMath;\">_This problem makes use of the *Carseats* dataset in the *ISLP* package._"
   ]
  },
  {
   "cell_type": "markdown",
   "id": "bd55f39c-a1f6-452b-ab3e-76a1f47387b7",
   "metadata": {},
   "source": [
    "#### <span style=\"font-family: NewComputerModernMath;\">_(a) For each quantitative variable in the dataset besides *Sales*,  fit a linear model to predict *Sales* using that quantitative variable. Report the $ p $-values associated with the coefficients for the variables.  That is, for each model of the form:_  \n",
    "$$\n",
    "Y = \\beta_0 + \\beta_1 X + \\epsilon\n",
    "$$  \n",
    "#### <span style=\"font-family: NewComputerModernMath;\">_report the $ p $-value associated with the coefficient $ \\beta_1 $.  Here, $ Y $ represents *Sales* and $ X $ represents one of the other quantitative variables._"
   ]
  },
  {
   "cell_type": "markdown",
   "id": "79f18719-5c9c-47b4-9bdb-a801058596b6",
   "metadata": {},
   "source": [
    "#### <span style=\"font-family: NewComputerModernMath;\">_(b) Suppose we control the Type I error at level $ \\alpha = 0.05 $  for the $ p $-values obtained in (a). Which null hypotheses do we reject?_"
   ]
  },
  {
   "cell_type": "markdown",
   "id": "7221ae95-b676-4520-b0a5-cddc16e683a1",
   "metadata": {},
   "source": [
    "#### <span style=\"font-family: NewComputerModernMath;\">_(c) Now suppose we control the Family-Wise Error Rate (FWER)  at level $ 0.05 $ for the $ p $-values. Which null hypotheses do we reject?_"
   ]
  },
  {
   "cell_type": "markdown",
   "id": "5e68f7a5-18c1-4037-8185-717883e0cd2c",
   "metadata": {},
   "source": [
    "#### <span style=\"font-family: NewComputerModernMath;\">_(d) Finally, suppose we control the False Discovery Rate (FDR)  at level $ 0.2 $ for the $ p $-values. Which null hypotheses do we reject?_\n",
    "</span>"
   ]
  },
  {
   "cell_type": "markdown",
   "id": "60b02d24-408a-4874-bde4-38ffc4d4a043",
   "metadata": {},
   "source": [
    "### <span style=\"color: rgb(0, 105, 175);font-family: 'NewComputerModernMath';\">Q8</span>"
   ]
  },
  {
   "cell_type": "markdown",
   "id": "5fd8b7f0-be80-46e7-b5cd-4110a176655a",
   "metadata": {},
   "source": [
    "#### <span style=\"font-family: NewComputerModernMath;\">_In this problem, we will simulate data from $ m = 100 $ fund managers._\n",
    "\n",
    "```python\n",
    "rng = np.random.default_rng(1)\n",
    "n, m = 20, 100\n",
    "X = rng.normal(size=(n, m))\n",
    "```\n",
    "#### <span style=\"font-family: NewComputerModernMath;\"> _These data represent each fund manager’s percentage returns for each of $ n = 20 $ months. We wish to test the null hypothesis that each fund manager’s percentage returns have population mean equal to zero. Notice that we simulated the data in such a way that each fund manager’s percentage returns do have population mean zero; in other words, all $ m $ null hypotheses are true._"
   ]
  },
  {
   "cell_type": "markdown",
   "id": "02603f05-db08-4c34-8283-8428e175b90e",
   "metadata": {},
   "source": [
    "#### <span style=\"font-family: NewComputerModernMath;\">_(a) Conduct a one-sample $ t $-test for each fund manager, and plot a histogram of the $ p $-values obtained._"
   ]
  },
  {
   "cell_type": "markdown",
   "id": "1eb88d38-4177-4c81-ab90-8281375ca44c",
   "metadata": {},
   "source": [
    "#### <span style=\"font-family: NewComputerModernMath;\">_(b) If we control Type I error for each null hypothesis at level $ \\alpha = 0.05 $, then how many null hypotheses do we reject?_"
   ]
  },
  {
   "cell_type": "markdown",
   "id": "d631635e-b56d-44d3-ad8e-78e78f16a02f",
   "metadata": {},
   "source": [
    "#### <span style=\"font-family: NewComputerModernMath;\">_(c) If we control the FWER at level $ 0.05 $, then how many null hypotheses do we reject?_"
   ]
  },
  {
   "cell_type": "markdown",
   "id": "1b45eb4d-9bda-4f53-9c1f-cf689adfafd8",
   "metadata": {},
   "source": [
    "#### <span style=\"font-family: NewComputerModernMath;\">_(d) If we control the FDR at level $ 0.05 $, then how many null hypotheses do we reject?_"
   ]
  },
  {
   "cell_type": "markdown",
   "id": "75e327e8-cb19-452b-bc69-6f3581b37de8",
   "metadata": {},
   "source": [
    "#### <span style=\"font-family: NewComputerModernMath;\">_(e) Now suppose we “cherry-pick” the 10 fund managers who perform the best in our data. If we control the FWER for just these 10 fund managers at level $ 0.05 $, then how many null hypotheses do we reject? If we control the FDR for just these 10 fund managers at level $ 0.05 $, then how many null hypotheses do we reject?_"
   ]
  },
  {
   "cell_type": "markdown",
   "id": "d166e16e-9a57-46f1-8beb-d8f3e2544183",
   "metadata": {},
   "source": [
    "#### <span style=\"font-family: NewComputerModernMath;\">_(f) Explain why the analysis in (e) is misleading._  \n",
    "\n",
    "#### <span style=\"font-family: NewComputerModernMath;\">_*Hint:* The standard approaches for controlling the FWER and FDR assume that all tested null hypotheses are adjusted for multiplicity, and that no “cherry-picking” of the smallest $ p $-values has occurred. *What goes wrong if we cherry-pick?*_\n",
    "</span>"
   ]
  }
 ],
 "metadata": {
  "kernelspec": {
   "display_name": "Python 3 (ipykernel)",
   "language": "python",
   "name": "python3"
  },
  "language_info": {
   "codemirror_mode": {
    "name": "ipython",
    "version": 3
   },
   "file_extension": ".py",
   "mimetype": "text/x-python",
   "name": "python",
   "nbconvert_exporter": "python",
   "pygments_lexer": "ipython3",
   "version": "3.10.16"
  }
 },
 "nbformat": 4,
 "nbformat_minor": 5
}
