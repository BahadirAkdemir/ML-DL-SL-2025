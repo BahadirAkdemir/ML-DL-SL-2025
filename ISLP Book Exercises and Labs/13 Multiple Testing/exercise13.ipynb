{
 "cells": [
  {
   "cell_type": "markdown",
   "id": "bfb2382a-01ed-4975-a4a1-7f0e9e297d82",
   "metadata": {},
   "source": [
    "# <span style=\"color: rgb(0, 105, 175);font-family: 'NewComputerModernMath';\">*Exercise Solutions*</span>"
   ]
  },
  {
   "cell_type": "markdown",
   "id": "5faf80dd-9e05-42de-b12e-4096409692e1",
   "metadata": {},
   "source": [
    "## <span style=\"color: rgb(0, 105, 175);font-family: 'NewComputerModernMath';\">*Conceptual*</span>"
   ]
  },
  {
   "cell_type": "markdown",
   "id": "38110ffe-12c2-469e-ad5d-a170594a0a4a",
   "metadata": {},
   "source": [
    "### <span style=\"color: rgb(0, 105, 175);font-family: 'NewComputerModernMath';\">Q1</span>"
   ]
  },
  {
   "cell_type": "markdown",
   "id": "cbcbf36a-65bf-4415-8b64-cb799ed80ef8",
   "metadata": {},
   "source": [
    "#### <span style=\"font-family: NewComputerModernMath;\">_Suppose we test $ m $ null hypotheses, all of which are true._  \n",
    "#### <span style=\"font-family: NewComputerModernMath;\">_We control the Type I error for each null hypothesis at level $ \\alpha $. For each sub-problem, justify your answer._"
   ]
  },
  {
   "cell_type": "markdown",
   "id": "401d8d51-27e7-4c75-8c8c-4c3f69dd33ea",
   "metadata": {},
   "source": [
    "#### <span style=\"font-family: NewComputerModernMath;\">_(a) In total, how many Type I errors do we expect to make?_"
   ]
  },
  {
   "cell_type": "markdown",
   "id": "efe19f23-e293-4d2d-ad6a-338934b79efa",
   "metadata": {},
   "source": [
    "```m```"
   ]
  },
  {
   "cell_type": "markdown",
   "id": "7d74d43c-991a-4bba-b481-02397b3edbc1",
   "metadata": {},
   "source": [
    "#### <span style=\"font-family: NewComputerModernMath;\">_(b) Suppose that the $ m $ tests that we perform are independent._  \n",
    "#### <span style=\"font-family: NewComputerModernMath;\">_What is the family-wise error rate associated with these $ m $ tests?_\n",
    "\n",
    "#### <span style=\"font-family: NewComputerModernMath;\">_*Hint:* If two events $ A $ and $ B $ are independent, then_  \n",
    "$$\n",
    "\\Pr(A \\cap B) = \\Pr(A) \\Pr(B).\n",
    "$$"
   ]
  },
  {
   "cell_type": "markdown",
   "id": "c1c3d96d-eda8-4876-85da-dd4035457108",
   "metadata": {},
   "source": [
    "$1 - (1 - a)^m$"
   ]
  },
  {
   "cell_type": "markdown",
   "id": "08947f77-87dd-4494-9fe8-f270334ae248",
   "metadata": {},
   "source": [
    "#### <span style=\"font-family: NewComputerModernMath;\">_(c) Suppose that $ m = 2 $, and that the $ p $-values for the two tests are positively correlated._  \n",
    "#### <span style=\"font-family: NewComputerModernMath;\">_If one is small, then the other will tend to be small as well, and if one is large, then the other will tend to be large. How does the family-wise error rate associated with these $ m = 2 $ tests qualitatively compare to the answer in (b) with $ m = 2 $?_\n",
    "\n",
    "#### <span style=\"font-family: NewComputerModernMath;\">_*Hint:* First, suppose that the two $ p $-values are perfectly correlated._"
   ]
  },
  {
   "cell_type": "markdown",
   "id": "e0ed3535-f792-43f7-9bde-e379c2def4fe",
   "metadata": {},
   "source": [
    "If we suppose that two test are perfectly correlated, they behave same. If one of them rejects null hypothesis, other will also does. So:\n",
    "\n",
    "$$\n",
    "FWER(a) = 1 - (1-a) \\times 1 = a\n",
    "$$\n",
    "\n",
    "If we suppose that two test are not correlated, they behave independent. If one of them rejects null hypothesis, other may not. So:\n",
    "\n",
    "$$\n",
    "FWER(a) = 1 - (1-a) \\times (1-a) = 1 - (1-a)^2\n",
    "$$\n",
    "\n",
    "Therefore, FWER will be the following interval\n",
    "\n",
    "$$\n",
    "a \\le FWER(a) \\le 1 - (1-a)^2\n",
    "$$\n",
    "\n",
    "We can understand that if tests are positively correlated, the risk of making at least one false discovery is somewhat reduced compared to when tests are independent, because errors tend to occur together rather than accumulating independently."
   ]
  },
  {
   "cell_type": "markdown",
   "id": "58d0678c-3dd5-4ed5-bb8d-51fd6eba2946",
   "metadata": {},
   "source": [
    "#### <span style=\"font-family: NewComputerModernMath;\">_(d) Suppose again that $ m = 2 $, but now the $ p $-values for the two tests are negatively correlated._  \n",
    "#### <span style=\"font-family: NewComputerModernMath;\"> _If one is large, then the other will tend to be small. How does the family-wise error rate associated with these $ m = 2 $ tests qualitatively compare to the answer in (b) with $ m = 2 $?_\n",
    "\n",
    "#### <span style=\"font-family: NewComputerModernMath;\">_*Hint:* First, suppose that whenever one $ p $-value is less than $ \\alpha $, then the other will be greater than $ \\alpha $. In other words, we can _never reject both null hypotheses_._\n",
    "</span>"
   ]
  },
  {
   "cell_type": "markdown",
   "id": "7429c956-d32b-4113-b730-6548f19a019c",
   "metadata": {},
   "source": [
    "$FWER$ = P(at least one Type I error) = P(Test 1 rejects $H_0$ incorrectly)+P(Test 2 rejects $H_0$ incorrectly)−P(both reject $H_0$ incorrectly).\n",
    "\n",
    "Since the p-values are negatively correlated. If $p_1$ is low, $p_2$ is high vice versa.\n",
    "\n",
    "So it is impossible to reject both $H_0$ correctly and incorrectly. Therefore P(both reject $H_0$ incorrectly) = 0. Then, the new formula will be:\n",
    "\n",
    "FWER = P(at least one Type I error) = P(Test 1 rejects $H_0$ incorrectly)+P(Test 2 rejects $H_0$ incorrectly)\n",
    "\n",
    "But since perfect negative correlation ensures that only one of the two tests can ever reject at a time, one of these probabilities is always zero, meaning:\n",
    "\n",
    "$FWER = a$\n",
    "\n",
    "\n",
    "Again, negative correlation reduces the risk of making at least one false rejection compared to independent correlated tests."
   ]
  },
  {
   "cell_type": "markdown",
   "id": "439cef8c-ce16-4c25-93c9-24b3ee2abea3",
   "metadata": {},
   "source": [
    "### <span style=\"color: rgb(0, 105, 175);font-family: 'NewComputerModernMath';\">Q2</span>"
   ]
  },
  {
   "cell_type": "markdown",
   "id": "c377529b-a3a0-4b9c-be41-161f58b48748",
   "metadata": {},
   "source": [
    "#### <span style=\"font-family: NewComputerModernMath;\">_Suppose that we test $ m $ hypotheses, and control the Type I error for each hypothesis at level $ \\alpha $. Assume that all $ m $ $ p $-values are independent, and that all null hypotheses are true._"
   ]
  },
  {
   "cell_type": "markdown",
   "id": "a40581e2-112f-44df-8cce-c821f66f9561",
   "metadata": {},
   "source": [
    "#### <span style=\"font-family: NewComputerModernMath;\">_(a) Let the random variable $ A_j $ equal 1 if the $ j $th null hypothesis is rejected, and 0 otherwise. What is the distribution of $ A_j $?_"
   ]
  },
  {
   "cell_type": "markdown",
   "id": "b8b3aa31-eaa9-42b1-8413-35e0aaf58cab",
   "metadata": {},
   "source": [
    "Suppose that a = 0.05 by default. Then If we assume that all null hypotheses are true, the rejection ($A_j$ = 1) value will be 0.05 and not rejection ($A_j$ = 0) will be 0.95\n",
    "\n",
    "\n",
    "![Q2-1](Q2-1.png)"
   ]
  },
  {
   "cell_type": "markdown",
   "id": "df40fcf9-17f2-4cfe-be17-0d9bd55c6a79",
   "metadata": {},
   "source": [
    "#### <span style=\"font-family: NewComputerModernMath;\">_(b) What is the distribution of_  \n",
    "$$\n",
    "\\sum_{j=1}^{m} A_j?\n",
    "$$"
   ]
  },
  {
   "cell_type": "markdown",
   "id": "7a34e795-9b53-48d2-9c09-8783cf49d2bf",
   "metadata": {},
   "source": [
    "This question is similar to tossing m unfair coins with probability of head 0.95 ($A_j$ = 0) and tail 0.05 ($A_j = 1$)\n",
    "\n",
    "Lets say that m=5, then the probabilities will be like:\n",
    "\n",
    "$p_1 = 00000 \\rightarrow 0.95^5$\n",
    "\n",
    "$p_2 = 00001 \\rightarrow 0.95^4 \\times 0.05 \\times 5$ (one of them can be 1)\n",
    "\n",
    "$\\vdots$\n",
    "\n",
    "As it is seen it goes to Binomial distribution:\n",
    "\n",
    "##### **Mean:**\n",
    "$$\n",
    "\\mathbb{E}[S] = m\\alpha.\n",
    "$$\n",
    "\n",
    "##### **Variance:**\n",
    "$$\n",
    "\\text{Var}(S) = m\\alpha(1 - \\alpha).\n",
    "$$\n",
    "\n",
    "##### **Probability Mass Function (PMF):**\n",
    "$$\n",
    "P(S = k) = \\binom{m}{k} \\alpha^k (1 - \\alpha)^{m-k}, \\quad k = 0,1, \\dots, m.\n",
    "$$\n",
    "\n",
    "![Q2-2](Q2-2.png)"
   ]
  },
  {
   "cell_type": "markdown",
   "id": "bbdd2dbe-740c-424f-8c47-fd88dbdbeb1a",
   "metadata": {},
   "source": [
    "#### <span style=\"font-family: NewComputerModernMath;\">_(c) What is the standard deviation of the number of Type I errors that we will make?_\n",
    "</span>"
   ]
  },
  {
   "cell_type": "markdown",
   "id": "87f2cd46-9877-42bc-8e71-8706f908af23",
   "metadata": {},
   "source": [
    "$SD(S)=\\sqrt{Var(S)} = \\sqrt{m\\alpha(1 - \\alpha)}$ "
   ]
  },
  {
   "cell_type": "markdown",
   "id": "fbbcc9b2-9d3f-4516-873e-aafc82b7b2ff",
   "metadata": {},
   "source": [
    "### <span style=\"color: rgb(0, 105, 175);font-family: 'NewComputerModernMath';\">Q3</span>"
   ]
  },
  {
   "cell_type": "markdown",
   "id": "40319421-be5d-419b-a87f-a94845a251e9",
   "metadata": {},
   "source": [
    "#### <span style=\"font-family: NewComputerModernMath;\">_Suppose we test $ m $ null hypotheses, and control the Type I error for the $ j $th null hypothesis at level $ \\alpha_j $, for $ j = 1, \\dots, m $. Argue that the family-wise error rate is no greater than_  \n",
    "$$\n",
    "\\sum_{j=1}^{m} \\alpha_j.\n",
    "$$"
   ]
  },
  {
   "cell_type": "markdown",
   "id": "c1e09454-4492-456c-a682-ae9490131aaa",
   "metadata": {},
   "source": [
    "We know that\n",
    "\n",
    "\n",
    "\n",
    "$$\n",
    "\\text{FWER} = P \\left( \\bigcup_{j=1}^{m} \\{\\text{Reject } H_j \\text{ when } H_j \\text{ is true}\\} \\right)\n",
    "$$\n",
    "\n",
    "To show with a simple way, lets say that m=2, Then\n",
    "\n",
    "$$\n",
    "\\text{FWER} = P \\left( \\bigcup_{j=1}^{2} \\{\\text{Reject } H_j \\text{ when } H_j \\text{ is true}\\} \\right) =  P \\left( a_1 \\cup a_2 \\right) = 1 - \\prod_{m=1}^{2} (1-a_m) = a_1 + a_2 - a_1 \\cap a_2 = a_1 + a_2 - a_1 \\times a_2\n",
    "$$\n",
    "\n",
    "Also,\n",
    "\n",
    "$$\n",
    "\\sum_{j=1}^{m} \\alpha_j = a_1 + a_2\n",
    "$$\n",
    "\n",
    "$a_j$ is a non-negative number. Moreover, the minus part in $FWER$ will be always non-negative for all m values. So, definitely,\n",
    "\n",
    "$$\n",
    "a_1 + a_2 - a_1 \\times a_2 \\le a_1 + a_2\n",
    "$$\n",
    "\n",
    "And therefore,\n",
    "\n",
    "$$\n",
    "FWER(\\bigcup_{j=1}^{m} a_j)\\le \\sum_{j=1}^{m} \\alpha_j.\n",
    "$$"
   ]
  },
  {
   "cell_type": "markdown",
   "id": "68215488-5022-4222-a25a-8f7b43adb7d0",
   "metadata": {},
   "source": [
    "### <span style=\"color: rgb(0, 105, 175);font-family: 'NewComputerModernMath';\">Q4</span>"
   ]
  },
  {
   "cell_type": "markdown",
   "id": "e97e67a3-aa86-467f-b112-49355ce705b4",
   "metadata": {},
   "source": [
    "#### <span style=\"font-family: NewComputerModernMath;\">_Suppose we test $ m = 10 $ hypotheses, and obtain the $ p $-values shown in Table <span style=\"color:blue;\">13.4</span>._\n",
    "\n",
    "#### <span style=\"font-family: NewComputerModernMath;\">_Table 13.4: $ p $-values for Exercise 4_\n",
    "| Null Hypothesis | $ p $-value |\n",
    "|----------------|-----------|\n",
    "| $ H_{01} $ | 0.0011 |\n",
    "| $ H_{02} $ | 0.031  |\n",
    "| $ H_{03} $ | 0.017  |\n",
    "| $ H_{04} $ | 0.32   |\n",
    "| $ H_{05} $ | 0.11   |\n",
    "| $ H_{06} $ | 0.90   |\n",
    "| $ H_{07} $ | 0.07   |\n",
    "| $ H_{08} $ | 0.006  |\n",
    "| $ H_{09} $ | 0.004  |\n",
    "| $ H_{10} $ | 0.0009 |\n",
    "\n",
    "</span>"
   ]
  },
  {
   "cell_type": "markdown",
   "id": "e1706d86-721c-44bd-874e-198606088db4",
   "metadata": {},
   "source": [
    "#### <span style=\"font-family: NewComputerModernMath;\">_(a) Suppose that we wish to control the Type I error for each null hypothesis at level $ \\alpha = 0.05 $. Which null hypotheses will we reject?_"
   ]
  },
  {
   "cell_type": "markdown",
   "id": "43becf43-8a28-4b38-baaa-8324c7ef1951",
   "metadata": {},
   "source": [
    "$H_{01},H_{02},H_{03},H_{08},H_{09},H_{10}$"
   ]
  },
  {
   "cell_type": "markdown",
   "id": "57a20fe8-f35b-4b19-85b9-59008673fd8a",
   "metadata": {},
   "source": [
    "#### <span style=\"font-family: NewComputerModernMath;\">_(b) Now suppose that we wish to control the _Family-Wise Error Rate (FWER)_ at level $ \\alpha = 0.05 $. Which null hypotheses will we reject? Justify your answer._"
   ]
  },
  {
   "cell_type": "markdown",
   "id": "65135d40-dffb-4385-bfa2-24563b1200e6",
   "metadata": {},
   "source": [
    "$\\frac{a}{m} = 0.005$\n",
    "\n",
    "$H_{01},H_{09},H_{10}$"
   ]
  },
  {
   "cell_type": "markdown",
   "id": "54951fb2-4aa2-4c33-9b7f-b7cf5b3c8691",
   "metadata": {},
   "source": [
    "#### <span style=\"font-family: NewComputerModernMath;\">_(c) Now suppose that we wish to control the _False Discovery Rate (FDR)_ at level $ q = 0.05 $. Which null hypotheses will we reject? Justify your answer._"
   ]
  },
  {
   "cell_type": "markdown",
   "id": "c994eedc-35ec-4022-9bce-e395ce16e0de",
   "metadata": {},
   "source": [
    "![Q5](Q5.png)\n",
    "\n",
    "When it is applied:\n",
    "\n",
    "$H_{01},H_{08},H_{09},H_{10}$"
   ]
  },
  {
   "cell_type": "markdown",
   "id": "75e575aa-e58c-4304-b934-07f27cfa1e73",
   "metadata": {},
   "source": [
    "#### <span style=\"font-family: NewComputerModernMath;\">_(d) Now suppose that we wish to control the _False Discovery Rate (FDR)_ at level $ q = 0.2 $. Which null hypotheses will we reject? Justify your answer._"
   ]
  },
  {
   "cell_type": "markdown",
   "id": "e7cce428-b81c-41b3-a132-91f1b31818e8",
   "metadata": {},
   "source": [
    "Again, same processes:\n",
    "\n",
    "$H_{01},H_{03},H_{04},H_{05},H_{06},H_{07},H_{09},H_{10}$"
   ]
  },
  {
   "cell_type": "markdown",
   "id": "8d24a776-09a4-485f-8615-b2930fa4d9fe",
   "metadata": {},
   "source": [
    "#### <span style=\"font-family: NewComputerModernMath;\">_(e) Of the null hypotheses rejected at _FDR level_ $ q = 0.2 $, approximately how many are false positives?  Justify your answer.</span>_"
   ]
  },
  {
   "cell_type": "markdown",
   "id": "7fd473c2-b89e-49ea-a8a1-80312032b569",
   "metadata": {},
   "source": [
    "$H_{04},H_{05},H_{06}$"
   ]
  },
  {
   "cell_type": "markdown",
   "id": "7cbbe4a5-5510-4c9d-901f-63a19bf56a0f",
   "metadata": {},
   "source": [
    "### <span style=\"color: rgb(0, 105, 175);font-family: 'NewComputerModernMath';\">Q5</span>"
   ]
  },
  {
   "cell_type": "markdown",
   "id": "16c28ca3-8b97-4727-bff4-dca451ff0948",
   "metadata": {},
   "source": [
    "#### <span style=\"font-family: NewComputerModernMath;\">_For this problem, you will make up $ p $-values that lead to a certain number of rejections using the Bonferroni and Holm procedures._"
   ]
  },
  {
   "cell_type": "markdown",
   "id": "c898969f-96a6-44ca-8e10-0cd286686e25",
   "metadata": {},
   "source": [
    "#### <span style=\"font-family: NewComputerModernMath;\">_(a) Give an example of five $ p $-values (i.e. five numbers between 0 and 1 which, for the purpose of this problem, we will interpret as $ p $-values) for which both _Bonferroni’s method_ and _Holm’s method_ reject exactly _one null hypothesis_ when controlling the _Family-Wise Error Rate (FWER)_ at level $ 0.1 $._ "
   ]
  },
  {
   "cell_type": "markdown",
   "id": "de95694e-19c5-4e1e-aa73-c2337be3f896",
   "metadata": {},
   "source": [
    "| Null Hypothesis | $ p $-value | rank | Bonferroni ($\\frac{0.1}{5}$) | Holm's |\n",
    "|----------------|-----------|-----------|-----------|-----------|\n",
    "| $ H_{1} $ | 0.01 |1|0.02 ✅|$\\frac{0.1}{5} = 0.02$ ✅|\n",
    "| $ H_{2} $ | 0.05  |2|0.02 ❌|$\\frac{0.1}{4} = 0.025$ ❌|\n",
    "| $ H_{3} $ | 0.07  |3|0.02 ❌|$\\frac{0.1}{3} = 0.0\\bar{3}$ ❌|\n",
    "| $ H_{4} $ | 0.23   |4|0.02 ❌|$\\frac{0.1}{2} = 0.05$ ❌|\n",
    "| $ H_{5} $ | 0.44   |5|0.02 ❌|$\\frac{0.1}{1} = 0.1$ ❌|"
   ]
  },
  {
   "cell_type": "markdown",
   "id": "8ab01973-9463-4022-9071-6634633aa1e7",
   "metadata": {},
   "source": [
    "#### <span style=\"font-family: NewComputerModernMath;\">_(b) Now give an example of five $ p $-values for which _Bonferroni_ rejects _one_ null hypothesis and _Holm_ rejects _more than one_ null hypothesis at level $ 0.1 $._\n",
    "</span>"
   ]
  },
  {
   "cell_type": "markdown",
   "id": "93904f0e-e9ab-41ff-aa1c-df5c98129c71",
   "metadata": {},
   "source": [
    "| Null Hypothesis | $ p $-value | rank | Bonferroni ($\\frac{0.1}{5}$) | Holm's |\n",
    "|----------------|-----------|-----------|-----------|-----------|\n",
    "| $ H_{1} $ | 0.01 |1|0.02 ✅|$\\frac{0.1}{5} = 0.02$ ✅|\n",
    "| $ H_{2} $ | 0.02  |2|0.02 ✅|$\\frac{0.1}{4} = 0.025$ ✅|\n",
    "| $ H_{3} $ | 0.031  |3|0.02 ❌|$\\frac{0.1}{3} = 0.0\\bar{3}$ ✅|\n",
    "| $ H_{4} $ | 0.23   |4|0.02 ❌|$\\frac{0.1}{2} = 0.05$ ❌|\n",
    "| $ H_{5} $ | 0.44   |5|0.2 ❌|$\\frac{0.1}{1} = 0.1$ ❌|"
   ]
  },
  {
   "cell_type": "markdown",
   "id": "b7af34c3-b4a3-410c-a300-ca1e5bc6ef01",
   "metadata": {},
   "source": [
    "### <span style=\"color: rgb(0, 105, 175);font-family: 'NewComputerModernMath';\">Q6</span>"
   ]
  },
  {
   "cell_type": "markdown",
   "id": "d5013a54-155e-439e-a348-ca52795987ae",
   "metadata": {},
   "source": [
    "#### <span style=\"font-family: NewComputerModernMath;\">_For each of the three panels in Figure <span style=\"color:blue;\">13.3</span>, answer the following questions:_\n",
    "![13.3](13.3.png)"
   ]
  },
  {
   "cell_type": "markdown",
   "id": "9aa2b277-79c4-4d31-89ad-e95397d05abc",
   "metadata": {},
   "source": [
    "#### <span style=\"font-family: NewComputerModernMath;\">_(a) How many _false positives, false negatives, true positives, true negatives, Type I errors, and Type II errors_ result from applying the _Bonferroni procedure_ to control the _Family-Wise Error Rate (FWER)_ at level $ \\alpha = 0.05 $?_"
   ]
  },
  {
   "cell_type": "markdown",
   "id": "9d021e5a-eed6-4525-9ead-7f3f98689321",
   "metadata": {},
   "source": [
    "|  | Fig1 | Fig2 | Fig3 |\n",
    "|------------------|------|------|------|\n",
    "| **TP (True Positive)**  | 7  | 7  | 3  |\n",
    "| **FN (False Negative)**  | 1  | 1  | 5   |\n",
    "| **FP (False Positive)**  | 0   | 0  | 0   |\n",
    "| **TN (True Negative)**  | 2 | 2  | 2 |\n",
    "| **Type I Error**  | 0 | 0  | 0  |\n",
    "| **Type II Error**  | 1 | 1  | 5 |"
   ]
  },
  {
   "cell_type": "markdown",
   "id": "75da2609-f278-4f2d-8b72-71dbf05f46f8",
   "metadata": {},
   "source": [
    "#### <span style=\"font-family: NewComputerModernMath;\">_(b) How many _false positives, false negatives, true positives, true negatives, Type I errors, and Type II errors_ result from applying the _Holm procedure_ to control the _FWER_ at level $ \\alpha = 0.05 $?_"
   ]
  },
  {
   "cell_type": "markdown",
   "id": "14bd544c-21ea-4d31-9df9-b870a5e80906",
   "metadata": {},
   "source": [
    "|  | Fig1 | Fig2 | Fig3 |\n",
    "|------------------|------|------|------|\n",
    "| **TP (True Positive)**  | 7  | 8  | 8  |\n",
    "| **FN (False Negative)**  | 1  | 0  | 0  |\n",
    "| **FP (False Positive)**  | 0   | 0  | 0   |\n",
    "| **TN (True Negative)**  | 2 | 2  | 2 |\n",
    "| **Type I Error**  | 0 | 0  | 0  |\n",
    "| **Type II Error**  | 1 | 0  | 0 |"
   ]
  },
  {
   "cell_type": "markdown",
   "id": "d0d4b9b9-770e-4c92-b6b4-aad10a207e31",
   "metadata": {},
   "source": [
    "#### <span style=\"font-family: NewComputerModernMath;\">_(c) What is the _false discovery proportion_ associated with using the _Bonferroni procedure_ to control the _FWER_ at level $ \\alpha = 0.05 $?_"
   ]
  },
  {
   "cell_type": "markdown",
   "id": "47c83ad3-5213-4a27-ba58-23ec697d762b",
   "metadata": {},
   "source": [
    "$$\n",
    "\\text{FDP} = \\frac{\\text{FP}}{\\text{FP} + \\text{TP}}\n",
    "$$"
   ]
  },
  {
   "cell_type": "markdown",
   "id": "2571aa59-6395-45a4-936e-5139f39bbef4",
   "metadata": {},
   "source": [
    "$\\frac{0}{TP} = 0$ for all figures."
   ]
  },
  {
   "cell_type": "markdown",
   "id": "bbff5043-fd35-4462-b76c-47ce11db60bd",
   "metadata": {},
   "source": [
    "#### <span style=\"font-family: NewComputerModernMath;\">_(d) What is the _false discovery proportion_ associated with using the _Holm procedure_ to control the _FWER_ at level $ \\alpha = 0.05 $?_"
   ]
  },
  {
   "cell_type": "markdown",
   "id": "a673b972-cc13-4ef2-88c3-ef216d7420d7",
   "metadata": {},
   "source": [
    "$\\frac{0}{7} = 0$ for all figures."
   ]
  },
  {
   "cell_type": "markdown",
   "id": "d95a6a00-2466-45ed-ba8e-a65ff33801c9",
   "metadata": {},
   "source": [
    "#### <span style=\"font-family: NewComputerModernMath;\">_(e) How would the answers to (a) and (c) change if we instead used the _Bonferroni procedure_ to control the _FWER_ at level $ \\alpha = 0.001 $?_\n",
    "</span>"
   ]
  },
  {
   "cell_type": "markdown",
   "id": "08b4212a-453a-4b87-bdf9-36eb80e393dc",
   "metadata": {},
   "source": [
    "|  | Fig1 | Fig2 | Fig3 |\n",
    "|------------------|------|------|------|\n",
    "| **TP (True Positive)**  | 5  | 5  | 3  |\n",
    "| **FN (False Negative)**  | 3  | 3  | 5   |\n",
    "| **FP (False Positive)**  | 0   | 0  | 0   |\n",
    "| **TN (True Negative)**  | 2 | 2  | 2 |\n",
    "| **Type I Error**  | 0 | 0  | 0  |\n",
    "| **Type II Error**  | 3 | 3  | 5 |"
   ]
  },
  {
   "cell_type": "markdown",
   "id": "1785a535-7b53-4e81-adbe-ed2d32f4fdd7",
   "metadata": {},
   "source": [
    "$\\frac{0}{TP} = 0$ for all figures."
   ]
  },
  {
   "cell_type": "markdown",
   "id": "80487831-7134-4e3e-bbf9-413dd50dbd7b",
   "metadata": {},
   "source": [
    "## <span style=\"color: rgb(0, 105, 175);font-family: 'NewComputerModernMath';\">*Applied*</span>"
   ]
  },
  {
   "cell_type": "markdown",
   "id": "5cbaf56f-0a0a-4199-be41-cda3455d7479",
   "metadata": {},
   "source": [
    "### <span style=\"color: rgb(0, 105, 175);font-family: 'NewComputerModernMath';\">Q7</span>"
   ]
  },
  {
   "cell_type": "markdown",
   "id": "0bc630ab-a065-42da-86e4-f01ff4cf816b",
   "metadata": {},
   "source": [
    "#### <span style=\"font-family: NewComputerModernMath;\">_This problem makes use of the *Carseats* dataset in the *ISLP* package._"
   ]
  },
  {
   "cell_type": "code",
   "execution_count": 26,
   "id": "09b3474e-24f1-491e-ad3f-744f008c8de0",
   "metadata": {},
   "outputs": [],
   "source": [
    "from ISLP import load_data\n",
    "\n",
    "Carseats = load_data(\"Carseats\")\n",
    "Carseats = Carseats.drop(columns=[\"ShelveLoc\",\"Urban\",\"US\"])\n",
    "Carseats.to_csv(\"/Users/bahadirakdemir/a.csv\")"
   ]
  },
  {
   "cell_type": "markdown",
   "id": "bd55f39c-a1f6-452b-ab3e-76a1f47387b7",
   "metadata": {},
   "source": [
    "#### <span style=\"font-family: NewComputerModernMath;\">_(a) For each quantitative variable in the dataset besides *Sales*,  fit a linear model to predict *Sales* using that quantitative variable. Report the $ p $-values associated with the coefficients for the variables.  That is, for each model of the form:_  \n",
    "$$\n",
    "Y = \\beta_0 + \\beta_1 X + \\epsilon\n",
    "$$  \n",
    "#### <span style=\"font-family: NewComputerModernMath;\">_report the $ p $-value associated with the coefficient $ \\beta_1 $.  Here, $ Y $ represents *Sales* and $ X $ represents one of the other quantitative variables._"
   ]
  },
  {
   "cell_type": "code",
   "execution_count": 23,
   "id": "6e900012-08a2-464c-a89e-411c62e6d657",
   "metadata": {},
   "outputs": [
    {
     "name": "stdout",
     "output_type": "stream",
     "text": [
      "------\n",
      "const        3.339763e-07\n",
      "CompPrice    2.009398e-01\n",
      "dtype: float64\n",
      "------\n",
      "const     8.900241e-51\n",
      "Income    2.309670e-03\n",
      "dtype: float64\n",
      "------\n",
      "const          1.442579e-123\n",
      "Advertising     4.377677e-08\n",
      "dtype: float64\n",
      "------\n",
      "const         3.197521e-83\n",
      "Population    3.139816e-01\n",
      "dtype: float64\n",
      "------\n",
      "const    7.458712e-69\n",
      "Price    7.618187e-21\n",
      "dtype: float64\n",
      "------\n",
      "const    9.909965e-64\n",
      "Age      2.788950e-06\n",
      "dtype: float64\n",
      "------\n",
      "const        3.512936e-24\n",
      "Education    2.999442e-01\n",
      "dtype: float64\n"
     ]
    }
   ],
   "source": [
    "import statsmodels.api as sm\n",
    "\n",
    "y = Carseats[\"Sales\"]\n",
    "X = Carseats.drop(columns=[\"Sales\"])\n",
    "\n",
    "for column in X.columns:\n",
    "    model = sm.OLS(y,sm.add_constant(X[column])).fit()\n",
    "    print(\"------\")\n",
    "    print(model.pvalues)"
   ]
  },
  {
   "cell_type": "markdown",
   "id": "79f18719-5c9c-47b4-9bdb-a801058596b6",
   "metadata": {},
   "source": [
    "#### <span style=\"font-family: NewComputerModernMath;\">_(b) Suppose we control the Type I error at level $ \\alpha = 0.05 $  for the $ p $-values obtained in (a). Which null hypotheses do we reject?_"
   ]
  },
  {
   "cell_type": "markdown",
   "id": "2ab4635a-b643-4d58-84ac-7e859836925a",
   "metadata": {},
   "source": [
    "| Predictor    | p-value      | Reject H0 (FDR 0.2) |\n",
    "|-------------|---------------|----------------------|\n",
    "| Price       | 7.618187e-21  | ✅ Yes               |\n",
    "| Advertising | 4.377677e-08  | ✅ Yes               |\n",
    "| Age         | 2.788950e-06  | ✅ Yes               |\n",
    "| Income      | 0.00230967    | ✅ Yes               |\n",
    "| CompPrice   | 0.2009398     | ❌ No                |\n",
    "| Education   | 0.2999442     | ❌ No                |\n",
    "| Population  | 0.3139816     | ❌ No                |"
   ]
  },
  {
   "cell_type": "markdown",
   "id": "7221ae95-b676-4520-b0a5-cddc16e683a1",
   "metadata": {},
   "source": [
    "#### <span style=\"font-family: NewComputerModernMath;\">_(c) Now suppose we control the Family-Wise Error Rate (FWER)  at level $ 0.05 $ for the $ p $-values. Which null hypotheses do we reject?_"
   ]
  },
  {
   "cell_type": "markdown",
   "id": "e38b1f13-5e82-465f-9be9-8af5ae1f080a",
   "metadata": {},
   "source": [
    "$\\frac{0.05}{7} = 0.00714285714$\n",
    "\n",
    "| Predictor    | p-value      |Bonferroni| Reject H0 (FDR 0.2) |\n",
    "|-------------|---------------|-|----------------------|\n",
    "| Price       | 7.618187e-21  |0.00714285714| ✅ Yes               |\n",
    "| Advertising | 4.377677e-08  |0.00714285714| ✅ Yes               |\n",
    "| Age         | 2.788950e-06  |0.00714285714| ✅ Yes               |\n",
    "| Income      | 0.00230967    |0.00714285714| ✅ Yes               |\n",
    "| CompPrice   | 0.2009398     |0.00714285714| ❌ No                |\n",
    "| Education   | 0.2999442     |0.00714285714| ❌ No                |\n",
    "| Population  | 0.3139816     |0.00714285714| ❌ No                |"
   ]
  },
  {
   "cell_type": "markdown",
   "id": "5e68f7a5-18c1-4037-8185-717883e0cd2c",
   "metadata": {},
   "source": [
    "#### <span style=\"font-family: NewComputerModernMath;\">_(d) Finally, suppose we control the False Discovery Rate (FDR)  at level $ 0.2 $ for the $ p $-values. Which null hypotheses do we reject?_\n",
    "</span>"
   ]
  },
  {
   "cell_type": "markdown",
   "id": "bc66834e-bcc7-4414-8e86-45b44b11147e",
   "metadata": {},
   "source": [
    "| Predictor    | p-value        | Rank | BH Threshold | Reject H0 (FDR 0.2) |\n",
    "|-------------|---------------|------|--------------|----------------------|\n",
    "| Price       | 7.618187e-21  | 1    | 0.028571     | ✅ Yes               |\n",
    "| Advertising | 4.377677e-08  | 2    | 0.057143     | ✅ Yes               |\n",
    "| Age         | 2.788950e-06  | 3    | 0.085714     | ✅ Yes               |\n",
    "| Income      | 0.00230967    | 4    | 0.114286     | ✅ Yes               |\n",
    "| CompPrice   | 0.2009398     | 5    | 0.142857     | ❌ No                |\n",
    "| Education   | 0.2999442     | 6    | 0.171429     | ❌ No                |\n",
    "| Population  | 0.3139816     | 7    | 0.200000     | ❌ No                |"
   ]
  },
  {
   "cell_type": "markdown",
   "id": "60b02d24-408a-4874-bde4-38ffc4d4a043",
   "metadata": {},
   "source": [
    "### <span style=\"color: rgb(0, 105, 175);font-family: 'NewComputerModernMath';\">Q8</span>"
   ]
  },
  {
   "cell_type": "markdown",
   "id": "5fd8b7f0-be80-46e7-b5cd-4110a176655a",
   "metadata": {},
   "source": [
    "#### <span style=\"font-family: NewComputerModernMath;\">_In this problem, we will simulate data from $ m = 100 $ fund managers._\n",
    "\n",
    "```python\n",
    "rng = np.random.default_rng(1)\n",
    "n, m = 20, 100\n",
    "X = rng.normal(size=(n, m))\n",
    "```\n",
    "#### <span style=\"font-family: NewComputerModernMath;\"> _These data represent each fund manager’s percentage returns for each of $ n = 20 $ months. We wish to test the null hypothesis that each fund manager’s percentage returns have population mean equal to zero. Notice that we simulated the data in such a way that each fund manager’s percentage returns do have population mean zero; in other words, all $ m $ null hypotheses are true._"
   ]
  },
  {
   "cell_type": "code",
   "execution_count": 27,
   "id": "9f387b5d-1728-4dbe-aa6d-810c27653a30",
   "metadata": {},
   "outputs": [],
   "source": [
    "import numpy as np\n",
    "\n",
    "rng = np.random.default_rng(1)\n",
    "n, m = 20, 100\n",
    "X = rng.normal(size=(n, m))"
   ]
  },
  {
   "cell_type": "markdown",
   "id": "02603f05-db08-4c34-8283-8428e175b90e",
   "metadata": {},
   "source": [
    "#### <span style=\"font-family: NewComputerModernMath;\">_(a) Conduct a one-sample $ t $-test for each fund manager, and plot a histogram of the $ p $-values obtained._"
   ]
  },
  {
   "cell_type": "code",
   "execution_count": 28,
   "id": "cedba570-2884-4ba1-bab9-16da86d6c70b",
   "metadata": {},
   "outputs": [
    {
     "data": {
      "image/png": "[encoded data removed]",
      "text/plain": [
       "<Figure size 800x600 with 1 Axes>"
      ]
     },
     "metadata": {},
     "output_type": "display_data"
    }
   ],
   "source": [
    "import scipy.stats as stats\n",
    "import matplotlib.pyplot as plt\n",
    "\n",
    "\n",
    "p_values = [stats.ttest_1samp(X[:, i], 0).pvalue for i in range(m)]\n",
    "\n",
    "# Plot histogram of p-values\n",
    "plt.figure(figsize=(8, 6))\n",
    "plt.hist(p_values, bins=20, edgecolor='black', alpha=0.7)\n",
    "plt.xlabel('p-value')\n",
    "plt.ylabel('Frequency')\n",
    "plt.title('Histogram of p-values from One-Sample t-tests')\n",
    "plt.grid(True)\n",
    "plt.show()"
   ]
  },
  {
   "cell_type": "markdown",
   "id": "1eb88d38-4177-4c81-ab90-8281375ca44c",
   "metadata": {},
   "source": [
    "#### <span style=\"font-family: NewComputerModernMath;\">_(b) If we control Type I error for each null hypothesis at level $ \\alpha = 0.05 $, then how many null hypotheses do we reject?_"
   ]
  },
  {
   "cell_type": "code",
   "execution_count": 37,
   "id": "061bdab0-a992-4c3f-b06c-0512ea0e6c97",
   "metadata": {},
   "outputs": [
    {
     "data": {
      "text/plain": [
       "4"
      ]
     },
     "execution_count": 37,
     "metadata": {},
     "output_type": "execute_result"
    }
   ],
   "source": [
    "rejected = [p for p in p_values if p <= 0.05]\n",
    "len(rejected)"
   ]
  },
  {
   "cell_type": "markdown",
   "id": "d631635e-b56d-44d3-ad8e-78e78f16a02f",
   "metadata": {},
   "source": [
    "#### <span style=\"font-family: NewComputerModernMath;\">_(c) If we control the FWER at level $ 0.05 $, then how many null hypotheses do we reject?_"
   ]
  },
  {
   "cell_type": "code",
   "execution_count": 38,
   "id": "5ff4a73f-6a49-422f-9d53-d140019aa8f2",
   "metadata": {},
   "outputs": [
    {
     "data": {
      "text/plain": [
       "0"
      ]
     },
     "execution_count": 38,
     "metadata": {},
     "output_type": "execute_result"
    }
   ],
   "source": [
    "rejected = [p for p in p_values if p <= 0.05/100]\n",
    "len(rejected)"
   ]
  },
  {
   "cell_type": "markdown",
   "id": "1b45eb4d-9bda-4f53-9c1f-cf689adfafd8",
   "metadata": {},
   "source": [
    "#### <span style=\"font-family: NewComputerModernMath;\">_(d) If we control the FDR at level $ 0.05 $, then how many null hypotheses do we reject?_"
   ]
  },
  {
   "cell_type": "code",
   "execution_count": 40,
   "id": "2415ec61-6e61-4bc7-8789-4a36c8f778db",
   "metadata": {},
   "outputs": [
    {
     "data": {
      "text/plain": [
       "0"
      ]
     },
     "execution_count": 40,
     "metadata": {},
     "output_type": "execute_result"
    }
   ],
   "source": [
    "p_values_sorted = np.sort(p_values)\n",
    "\n",
    "m = len(p_values_sorted)\n",
    "\n",
    "bh_thresholds = [(i + 1) / m * 0.05 for i in range(m)]\n",
    "\n",
    "rejected_index = np.where(p_values_sorted <= bh_thresholds)[0]\n",
    "\n",
    "num_rejected = max(rejected_index) + 1 if len(rejected_index) > 0 else 0\n",
    "num_rejected"
   ]
  },
  {
   "cell_type": "markdown",
   "id": "75e327e8-cb19-452b-bc69-6f3581b37de8",
   "metadata": {},
   "source": [
    "#### <span style=\"font-family: NewComputerModernMath;\">_(e) Now suppose we “cherry-pick” the 10 fund managers who perform the best in our data. If we control the FWER for just these 10 fund managers at level $ 0.05 $, then how many null hypotheses do we reject? If we control the FDR for just these 10 fund managers at level $ 0.05 $, then how many null hypotheses do we reject?_"
   ]
  },
  {
   "cell_type": "code",
   "execution_count": 42,
   "id": "7fabfd1f-8db7-4e24-b31d-a5ecfd431ead",
   "metadata": {},
   "outputs": [
    {
     "data": {
      "text/plain": [
       "1"
      ]
     },
     "execution_count": 42,
     "metadata": {},
     "output_type": "execute_result"
    }
   ],
   "source": [
    "p_values = p_values_sorted[:10]\n",
    "\n",
    "rejected = [p for p in p_values if p <= 0.05/10]\n",
    "len(rejected)"
   ]
  },
  {
   "cell_type": "code",
   "execution_count": 43,
   "id": "2f3fb0b3-8da3-4a84-8bc6-c0549bfe5149",
   "metadata": {},
   "outputs": [
    {
     "data": {
      "text/plain": [
       "2"
      ]
     },
     "execution_count": 43,
     "metadata": {},
     "output_type": "execute_result"
    }
   ],
   "source": [
    "m = len(p_values)\n",
    "\n",
    "bh_thresholds = [(i + 1) / m * 0.05 for i in range(m)]\n",
    "\n",
    "rejected_index = np.where(p_values <= bh_thresholds)[0]\n",
    "\n",
    "num_rejected = max(rejected_index) + 1 if len(rejected_index) > 0 else 0\n",
    "num_rejected"
   ]
  },
  {
   "cell_type": "markdown",
   "id": "d166e16e-9a57-46f1-8beb-d8f3e2544183",
   "metadata": {},
   "source": [
    "#### <span style=\"font-family: NewComputerModernMath;\">_(f) Explain why the analysis in (e) is misleading._  \n",
    "\n",
    "#### <span style=\"font-family: NewComputerModernMath;\">_*Hint:* The standard approaches for controlling the FWER and FDR assume that all tested null hypotheses are adjusted for multiplicity, and that no “cherry-picking” of the smallest $ p $-values has occurred. *What goes wrong if we cherry-pick?*_\n",
    "</span>"
   ]
  },
  {
   "cell_type": "markdown",
   "id": "0aad2c97-76fa-4f69-b92d-cb18591f3e6a",
   "metadata": {},
   "source": [
    "The analysis in (e) is misleading because **cherry-picking** the best fund managers biases the results and inflates the Type I error rate. Standard **FWER** and **FDR** corrections assume all hypotheses are tested together, but selecting only the lowest $ p $-values **invalidates these adjustments**. This leads to an **underestimated false discovery rate** and an **overstatement of significance**, making the conclusions unreliable. To properly control for multiple comparisons, all fund managers should be included in the initial analysis."
   ]
  }
 ],
 "metadata": {
  "kernelspec": {
   "display_name": "Python 3 (ipykernel)",
   "language": "python",
   "name": "python3"
  },
  "language_info": {
   "codemirror_mode": {
    "name": "ipython",
    "version": 3
   },
   "file_extension": ".py",
   "mimetype": "text/x-python",
   "name": "python",
   "nbconvert_exporter": "python",
   "pygments_lexer": "ipython3",
   "version": "3.10.16"
  }
 },
 "nbformat": 4,
 "nbformat_minor": 5
}
