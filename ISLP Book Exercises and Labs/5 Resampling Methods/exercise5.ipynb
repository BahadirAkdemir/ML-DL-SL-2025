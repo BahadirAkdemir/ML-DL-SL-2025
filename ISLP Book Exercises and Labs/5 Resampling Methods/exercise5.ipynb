{
 "cells": [
  {
   "cell_type": "markdown",
   "id": "58c6cf84-86f4-4c4d-80ce-1597b378fa35",
   "metadata": {},
   "source": [
    "# <span style=\"color: rgb(0, 105, 175);font-family: 'NewComputerModernMath';\">*Exercise Solutions*</span>"
   ]
  },
  {
   "cell_type": "markdown",
   "id": "f1fe51b3-f27c-49a7-b325-121c85a7380d",
   "metadata": {},
   "source": [
    "## <span style=\"color: rgb(0, 105, 175);font-family: 'NewComputerModernMath';\">*Conceptual*</span>"
   ]
  },
  {
   "cell_type": "markdown",
   "id": "ff133940-2dce-4c43-b447-b29157a23ee9",
   "metadata": {},
   "source": [
    "### <span style=\"color: rgb(0, 105, 175);font-family: 'NewComputerModernMath';\">Q1</span>"
   ]
  },
  {
   "cell_type": "markdown",
   "id": "77ca4578-a145-4e4d-94c3-9e29bea5cb51",
   "metadata": {},
   "source": [
    "#### <span style=\"font-family: 'NewComputerModernMath';\">*Using basic statistical properties of the variance, as well as single-variable calculus, derive <span style=\"color: rgb(0, 0, 255);\">(5.6)</span>. In other words, prove that $\\alpha$ given by <span style=\"color: rgb(0, 0, 255);\">(5.6)</span> does indeed minimize $\\text{Var}(\\alpha X + (1 - \\alpha) Y)$.*\n",
    "</span>"
   ]
  },
  {
   "cell_type": "markdown",
   "id": "39e53e7c-eb83-4dcc-a9f3-f13b5190000e",
   "metadata": {},
   "source": [
    "<span style=\"font-family: '';\">We will use following properties about variance\n",
    "\n",
    "$$\n",
    "Var(\\alpha X) = \\alpha^2 Var(X)\n",
    "$$\n",
    "\n",
    "$$\n",
    "Cov(\\alpha X,\\beta Y) = \\alpha \\beta Cov(X,Y)\n",
    "$$\n",
    "\n",
    "$$\n",
    "Var(\\alpha X + \\beta Y) = \\alpha^2 Var(X) + \\beta^2 Var(Y) + 2\\alpha \\beta Cov(X,Y)\n",
    "$$\n",
    "\n",
    "---\n",
    "\n",
    "$$\n",
    "\\text{Var}(\\alpha X + (1 - \\alpha)Y) = \\alpha^2 \\sigma_X^2 + (1 - \\alpha)^2 \\sigma_Y^2 + 2\\alpha(1 - \\alpha)\\sigma_{XY},\n",
    "$$\n",
    "\n",
    "<span style=\"font-family: '';\">where \n",
    "\n",
    "$ \\sigma_X^2 = \\text{Var}(X) $, $ \\sigma_Y^2 = \\text{Var}(Y) $, and $ \\sigma_{XY} = \\text{Cov}(X, Y) $.</span>\n",
    "\n",
    "$$\n",
    "\\frac{d}{d\\alpha} \\text{Var}(\\alpha X + (1 - \\alpha)Y) = 2\\alpha\\sigma_X^2 - 2(1 - \\alpha)\\sigma_Y^2 + 2\\sigma_{XY}(1 - 2\\alpha).\n",
    "$$\n",
    "\n",
    "---\n",
    "\n",
    "<span style=\"font-family: '';\">Set the derivative to zero and solve for $ \\alpha $:</span>\n",
    "\n",
    "$$\n",
    "2\\alpha\\sigma_X^2 - 2(1 - \\alpha)\\sigma_Y^2 + 2\\sigma_{XY}(1 - 2\\alpha) = 0.\n",
    "$$\n",
    "\n",
    "---\n",
    "\n",
    "<span style=\"font-family: '';\">Divide by 2:</span>\n",
    "\n",
    "$$\n",
    "\\alpha\\sigma_X^2 - (1 - \\alpha)\\sigma_Y^2 + \\sigma_{XY}(1 - 2\\alpha) = 0.\n",
    "$$\n",
    "\n",
    "---\n",
    "\n",
    "<span style=\"font-family: '';\">Expand and collect terms:</span>\n",
    "\n",
    "$$\n",
    "\\alpha(\\sigma_X^2 + \\sigma_Y^2 - 2\\sigma_{XY}) = \\sigma_Y^2 - \\sigma_{XY}.\n",
    "$$\n",
    "\n",
    "---\n",
    "\n",
    "<span style=\"font-family: '';\">Solve for $ \\alpha $:</span>\n",
    "\n",
    "$$\n",
    "\\alpha = \\frac{\\sigma_Y^2 - \\sigma_{XY}}{\\sigma_X^2 + \\sigma_Y^2 - 2\\sigma_{XY}}. \\quad \\text{(Equation 5.6)}\n",
    "$$\n",
    "\n",
    "---\n",
    "\n",
    "<span style=\"font-family: '';\">Verify the second derivative is positive:</span>\n",
    "\n",
    "$$\n",
    "\\frac{d^2}{d\\alpha^2} \\text{Var}(\\alpha X + (1 - \\alpha)Y) = 2\\sigma_X^2 + 2\\sigma_Y^2 - 4\\sigma_{XY}.\n",
    "$$\n",
    "\n",
    "<span style=\"font-family: '';\">This is positive if $ \\sigma_X^2 + \\sigma_Y^2 > 2\\sigma_{XY} $, ensuring the critical point is a minimum.</span>\n",
    "\n",
    "<span style=\"font-family: '';\">Conclusion: The value</span>\n",
    "\n",
    "$$\n",
    "\\alpha = \\frac{\\sigma_Y^2 - \\sigma_{XY}}{\\sigma_X^2 + \\sigma_Y^2 - 2\\sigma_{XY}}\n",
    "$$\n",
    "\n",
    "<span style=\"font-family: '';\">minimizes the variance of $ \\alpha X + (1 - \\alpha)Y $.</span>\n",
    "\n",
    "$$\n",
    "\\boxed{\\alpha = \\frac{\\text{Var}(Y) - \\text{Cov}(X,Y)}{\\text{Var}(X) + \\text{Var}(Y) - 2\\text{Cov}(X,Y)}}\n",
    "$$"
   ]
  },
  {
   "cell_type": "markdown",
   "id": "c9d6bc14-46c3-44e6-a5a4-0f9509893e82",
   "metadata": {},
   "source": [
    "### <span style=\"color: rgb(0, 105, 175);font-family: 'NewComputerModernMath';\">Q2</span>"
   ]
  },
  {
   "cell_type": "markdown",
   "id": "186bd25c-481a-4a22-9e02-6deca989df27",
   "metadata": {},
   "source": [
    "#### <span style=\"font-family: 'NewComputerModernMath';\">*We will now derive the probability that a given observation is part of a bootstrap sample. Suppose that we obtain a bootstrap sample from a set of $n$ observations.*"
   ]
  },
  {
   "cell_type": "markdown",
   "id": "e69133a0-8084-4bf3-abda-9c08c12a9c2a",
   "metadata": {},
   "source": [
    "#### <span style=\"font-family: 'NewComputerModernMath';\">*(a) What is the probability that the first bootstrap observation is **not** the $j$th observation from the original sample? Justify your answer.</span>*"
   ]
  },
  {
   "cell_type": "markdown",
   "id": "efff29cb-13bf-4055-b104-49cdffa60675",
   "metadata": {},
   "source": [
    "<span style=\"font-family: '';\"> All observations have equal chance to be chosen. So,\n",
    "\n",
    "$$\n",
    "P(\\text{First bootstrap observation} = j \\mid n) = \\frac{1}{n}\n",
    "$$\n",
    "\n",
    "$$\n",
    "P(\\text{First bootstrap observation} \\neq j \\mid n) = 1 - P(\\text{First bootstrap observation} = j \\mid n) = 1 - \\frac{1}{n}\n",
    "$$"
   ]
  },
  {
   "cell_type": "markdown",
   "id": "e84dcdba-6281-46bb-9a0f-2c3f03732b50",
   "metadata": {},
   "source": [
    "#### <span style=\"font-family: 'NewComputerModernMath';\">*(b) What is the probability that the second bootstrap observation is **not** the $j$th observation from the original sample?</span>*"
   ]
  },
  {
   "cell_type": "markdown",
   "id": "90a4cdd2-4b67-452f-9bda-574cbd0c37f4",
   "metadata": {},
   "source": [
    "<span style=\"font-family: '';\"> Same question, doesn't matter which observation because all choices are independent\n",
    "\n",
    "$$\n",
    "P(\\text{Second bootstrap observation} = j \\mid n) = \\frac{1}{n}\n",
    "$$\n",
    "\n",
    "$$\n",
    "P(\\text{Second bootstrap observation} \\neq j \\mid n) = 1 - P(\\text{Second bootstrap observation} = j \\mid n) = 1 - \\frac{1}{n}\n",
    "$$"
   ]
  },
  {
   "cell_type": "markdown",
   "id": "82c84f72-8441-4ec6-9048-368ee4a0cc28",
   "metadata": {},
   "source": [
    "#### <span style=\"font-family: 'NewComputerModernMath';\">*(c) Argue that the probability that the $j$th observation is **not** in the bootstrap sample is $\\left(1 - \\frac{1}{n}\\right)^n$.</span>*"
   ]
  },
  {
   "cell_type": "markdown",
   "id": "9e9ad0e9-5f5c-447a-862a-b2e932c6f7cf",
   "metadata": {},
   "source": [
    "<span style=\"font-family: '';\"> Since all choices are independent,\n",
    "\n",
    "$$\n",
    "P(\\text{ith bootstrap observation} \\neq j \\mid n) = 1 - \\frac{1}{n}\n",
    "$$\n",
    "\n",
    "<span style=\"font-family: '';\"> We multiply probabilities when they are independent\n",
    "\n",
    "$$\n",
    "P(\\text{jth observation is not in bootstrap} = P(\\text{1st bootstrap observation} \\neq j \\mid n) \\times P(\\text{2nd bootstrap observation} \\neq j \\mid n) \\times \\cdots P(\\text{nth bootstrap observation} \\neq j \\mid n)\n",
    "$$\n",
    "\n",
    "<span style=\"font-family: '';\"> Therefore,\n",
    "\n",
    "$$\n",
    "P(\\text{jth observation is not in bootstrap} = \\left( 1 - \\frac{1}{n} \\right)_1 \\times \\left( 1 - \\frac{1}{n} \\right)_2 \\times \\cdots \\left( 1 - \\frac{1}{n} \\right)_n = \\left( 1 - \\frac{1}{n} \\right)^n\n",
    "$$"
   ]
  },
  {
   "cell_type": "markdown",
   "id": "e80f8012-78b4-4bf9-be85-aa681aafd058",
   "metadata": {},
   "source": [
    "#### <span style=\"font-family: 'NewComputerModernMath';\">*(d) When $n = 5$, what is the probability that the $j$th observation is in the bootstrap sample?</span>*"
   ]
  },
  {
   "cell_type": "markdown",
   "id": "5639dbba-8be1-4a95-b155-3171b7ad1bf1",
   "metadata": {},
   "source": [
    "$$\n",
    "1 - \\left( 1 - \\frac{1}{5} \\right)^5\n",
    "$$"
   ]
  },
  {
   "cell_type": "markdown",
   "id": "267f1864-46ff-41fe-9657-23cbb4607a67",
   "metadata": {},
   "source": [
    "#### <span style=\"font-family: 'NewComputerModernMath';\">*(e) When $n = 100$, what is the probability that the $j$th observation is in the bootstrap sample?</span>*"
   ]
  },
  {
   "cell_type": "markdown",
   "id": "d7f554f7-b752-4036-8a47-2dc3522dbc27",
   "metadata": {},
   "source": [
    "$$\n",
    "1 - \\left( 1 - \\frac{1}{100} \\right)^{100}\n",
    "$$"
   ]
  },
  {
   "cell_type": "markdown",
   "id": "aa35da7d-e11c-4c6a-a8ca-3d8158dbf441",
   "metadata": {},
   "source": [
    "#### <span style=\"font-family: 'NewComputerModernMath';\">*(f) When $n = 10,000$, what is the probability that the $j$th observation is in the bootstrap sample?</span>*"
   ]
  },
  {
   "cell_type": "markdown",
   "id": "f946f1d3-ab33-4ac3-b1bd-f2e2f2211feb",
   "metadata": {},
   "source": [
    "$$\n",
    "1 - \\left( 1 - \\frac{1}{10000} \\right)^{10000}\n",
    "$$"
   ]
  },
  {
   "cell_type": "markdown",
   "id": "4565a802-984f-4ef5-8a3e-db87319978d9",
   "metadata": {},
   "source": [
    "#### <span style=\"font-family: 'NewComputerModernMath';\">*(g) Create a plot that displays, for each integer value of $n$ from 1 to 100,000, the probability that the $j$th observation is in the bootstrap sample. Comment on what you observe.</span>*"
   ]
  },
  {
   "cell_type": "code",
   "execution_count": 230,
   "id": "bd736b47-8aed-4631-9a50-9941ab1c5653",
   "metadata": {},
   "outputs": [
    {
     "name": "stdout",
     "output_type": "stream",
     "text": [
      "0.632138955406908\n"
     ]
    },
    {
     "data": {
      "image/png": "[encoded data removed]",
      "text/plain": [
       "<Figure size 640x480 with 1 Axes>"
      ]
     },
     "metadata": {},
     "output_type": "display_data"
    }
   ],
   "source": [
    "import numpy as np\n",
    "import matplotlib.pyplot as plt\n",
    "x = np.arange(1,10000)\n",
    "y = 1 - (1-(1/x))**x\n",
    "\n",
    "plt.plot(x,y)\n",
    "print(y[-1])\n"
   ]
  },
  {
   "cell_type": "markdown",
   "id": "6829ec43-188f-468d-82e9-90c0ce67da79",
   "metadata": {},
   "source": [
    "<span style=\"font-family: '';\"> Since the observation will be chosen randomly and each observation has equal chance to be chosen, if number of observations are increased, then the probability of choosing a spesific value will decrease. Giving an example, the probability of getting 1 with a standard dice is $\\frac{1}{6}$ but if the dice has 20 sides, then the probability of getting 1 will be $\\frac{1}{20}$"
   ]
  },
  {
   "cell_type": "markdown",
   "id": "9e8bfd80-e021-4377-9105-818ecf0498ab",
   "metadata": {},
   "source": [
    "#### <span style=\"font-family: 'NewComputerModernMath';\">*(h) We will now investigate numerically the probability that a bootstrap sample of size $n = 100$ contains the $j$th observation. Here $j = 4$. We first create an array <span style=\"color: rgb(145, 75, 40);\">store</span> with values that will subsequently be overwritten using the function <span style=\"color: rgb(145, 75, 40);\">np.empty()</span>. We then repeatedly create bootstrap samples, and each time we record whether or not the fifth observation is contained in the bootstrap sample.</span>*\n",
    "\n",
    "```python\n",
    "rng = np.random.default_rng(10)\n",
    "store = np.empty(10000)\n",
    "for i in range(10000):\n",
    "    store[i] = np.sum(rng.choice(100, replace=True) == 4) > 0\n",
    "np.mean(store)"
   ]
  },
  {
   "cell_type": "markdown",
   "id": "18afc520-a354-41bf-a67d-addd68de2557",
   "metadata": {},
   "source": [
    "<span style=\"font-family: '';color: red;\">*Note*</span><span style=\"font-family: 'NewComputerModernMath';\">: When we run this code, we get"
   ]
  },
  {
   "cell_type": "code",
   "execution_count": 231,
   "id": "49a39707-4d33-4997-83a5-294cd6c18c50",
   "metadata": {},
   "outputs": [
    {
     "data": {
      "text/plain": [
       "0.0089"
      ]
     },
     "execution_count": 231,
     "metadata": {},
     "output_type": "execute_result"
    }
   ],
   "source": [
    "rng = np.random.default_rng(10)\n",
    "store = np.empty(10000)\n",
    "for i in range(10000):\n",
    "    store[i] = np.sum(rng.choice(100, replace=True) == 4) > 0\n",
    "np.mean(store)"
   ]
  },
  {
   "cell_type": "markdown",
   "id": "7fe86090-7cbc-4947-8d4c-52126130325f",
   "metadata": {},
   "source": [
    "<span style=\"font-family: '';\">As we can see that something is wrong. It should be approximately 0.63 but we get 0.0089. The reason is that it is forgotten that rng.choice function will produce ony one example. However we want to do check wheter sample with 100 observations include \"4\" or not and we want to do this experiment 10 000 times and getting the mean to be more accurate. To fix that, we can add \"size=100\" as a parameter. Such as"
   ]
  },
  {
   "cell_type": "code",
   "execution_count": 232,
   "id": "c8bb1106-b234-455b-aa56-61651953c78f",
   "metadata": {},
   "outputs": [
    {
     "data": {
      "text/plain": [
       "0.6362"
      ]
     },
     "execution_count": 232,
     "metadata": {},
     "output_type": "execute_result"
    }
   ],
   "source": [
    "rng = np.random.default_rng(10)\n",
    "store = np.empty(10000)\n",
    "for i in range(10000):\n",
    "    store[i] = np.sum(rng.choice(100, replace=True, size=100) == 4) > 0\n",
    "np.mean(store)"
   ]
  },
  {
   "cell_type": "code",
   "execution_count": 233,
   "id": "f59ee00b-300e-4628-a772-fcb45b5c90e0",
   "metadata": {},
   "outputs": [
    {
     "data": {
      "text/plain": [
       "0.6339676587267709"
      ]
     },
     "execution_count": 233,
     "metadata": {},
     "output_type": "execute_result"
    }
   ],
   "source": [
    "1 - (1-1/100)**100"
   ]
  },
  {
   "cell_type": "markdown",
   "id": "fb7c90cb-9040-4dbb-9340-8e1225b47815",
   "metadata": {},
   "source": [
    "<span style=\"font-family: '';\"> Now, we can see that theorical result matches with applied result."
   ]
  },
  {
   "cell_type": "markdown",
   "id": "ebdacea6-ae3b-49f3-93f5-3d995ad45826",
   "metadata": {},
   "source": [
    "### <span style=\"color: rgb(0, 105, 175);font-family: 'NewComputerModernMath';\">Q3</span>"
   ]
  },
  {
   "cell_type": "markdown",
   "id": "f5ea68a0-6da2-45b7-a7ed-2934bcdf0d1f",
   "metadata": {},
   "source": [
    "#### <span style=\"font-family: 'NewComputerModernMath';\">*We now review k-fold cross-validation.*"
   ]
  },
  {
   "cell_type": "markdown",
   "id": "57d97f32-01e5-4b3d-a16b-43b286307096",
   "metadata": {},
   "source": [
    "#### <span style=\"font-family: 'NewComputerModernMath';\">*(a) Explain how k-fold cross-validation is implemented.*"
   ]
  },
  {
   "cell_type": "markdown",
   "id": "6984f36d-c7bc-4492-9e83-6747bc8e9dcf",
   "metadata": {},
   "source": [
    "#####  <span style=\"font-family: 'NewComputerModernMath';\"> ***i.** Choose k*\n",
    "#####  <span style=\"font-family: 'NewComputerModernMath';\"> ***ii.** Split data into k random parts*\n",
    "#####  <span style=\"font-family: 'NewComputerModernMath';\"> ***iii.** Use k−1 folds for training, 1 fold for testing*\n",
    "#####  <span style=\"font-family: 'NewComputerModernMath';\"> ***iv.** Repeat the process k times to ensure each fold is used as test data*"
   ]
  },
  {
   "cell_type": "markdown",
   "id": "9202fabc-3b34-4e79-91df-0ada47aa963a",
   "metadata": {},
   "source": [
    "#### <span style=\"font-family: 'NewComputerModernMath';\">*(b) What are the advantages and disadvantages of k-fold cross-validation relative to: **i.** <span style=\"font-family: 'NewComputerModernMath';\"> The validation set approach? **ii.** <span style=\"font-family: 'NewComputerModernMath';\"> LOOCV?*"
   ]
  },
  {
   "cell_type": "markdown",
   "id": "4726eea9-6cac-46f2-a9bf-7e063b743792",
   "metadata": {},
   "source": [
    "##### <span style=\"font-family: 'NewComputerModernMath';\">*(b) Advantages and Disadvantages of $ k $-Fold Cross-Validation*\n",
    "\n",
    "| Method  | Advantages | Disadvantages |\n",
    "|---------|-----------|---------------|\n",
    "| **$ k $-Fold Cross-Validation** | - Uses multiple training/testing splits, leading to a more reliable estimate of model performance. <br> - Reduces variance compared to a single validation set. <br> - Utilizes data more efficiently since all data points contribute to training and validation. <br> - Less computationally expensive than LOOCV. | - Computationally more expensive than the validation set approach since the model is trained $ k $ times. <br> - More complex to implement compared to a simple validation split. |\n",
    "| **LOOCV (Leave-One-Out Cross-Validation)** | - Uses almost all data for training, leading to a **low bias** estimate. <br> - Provides the most **unbiased** estimate of test error. | - Computationally very expensive since it requires training the model $ n $ times. <br> - High variance due to training on nearly the entire dataset, which can lead to overfitting. |\n",
    "\n",
    "</span>\n",
    "\n"
   ]
  },
  {
   "cell_type": "markdown",
   "id": "3980d973-f552-4f47-b1d9-7bd5a95eeccf",
   "metadata": {},
   "source": [
    "### <span style=\"color: rgb(0, 105, 175);font-family: 'NewComputerModernMath';\">Q4</span>"
   ]
  },
  {
   "cell_type": "markdown",
   "id": "37f20b92-9199-48db-a73d-38b64ca967bd",
   "metadata": {},
   "source": [
    "#### <span style=\"font-family: 'NewComputerModernMath';\">*Suppose that we use some statistical learning method to make a prediction for the response Y for a particular value of the predictor X. Carefully describe how we might estimate the standard deviation of our prediction.*"
   ]
  },
  {
   "cell_type": "markdown",
   "id": "0bb2c14c-72ea-4d6e-9ebe-4698b52ff868",
   "metadata": {},
   "source": [
    "##### <span style=\"font-family: '';\"> We can use bootstrapping to calculate standard deviation of our model. The reason is that Finding new data is hard and expensive to choose as a method. A simple, fast and cheaper method to do is bootstrapping. We can create new datasets (generally, choosing 10 000 times) by using our current data set. Then we can apply training/testing pipeline and getting new predictions. After that, calculation of standard deviations by using acquired predictions can give us some insights about the population with an easy, cheap way."
   ]
  },
  {
   "cell_type": "markdown",
   "id": "1c45b314-2ddf-4f8e-966f-831616644c60",
   "metadata": {},
   "source": [
    "## <span style=\"color: rgb(0, 105, 175);font-family: 'NewComputerModernMath';\">*Applied*</span>"
   ]
  },
  {
   "cell_type": "markdown",
   "id": "afdacc42-6aa3-40de-b410-d4a1cee6a85c",
   "metadata": {},
   "source": [
    "### <span style=\"color: rgb(0, 105, 175);font-family: 'NewComputerModernMath';\">Q5</span>"
   ]
  },
  {
   "cell_type": "markdown",
   "id": "9da74cf3-6d95-45d5-a7f6-44ea3640712e",
   "metadata": {},
   "source": [
    "#### <span style=\"font-family: 'NewComputerModernMath';\">*In Chapter 4, we used logistic regression to predict the probability of <span style=\"color: rgb(145, 75, 40);\">default</span> using <span style=\"color: rgb(145, 75, 40);\">income</span> and <span style=\"color: rgb(145, 75, 40);\">balance</span> on the <span style=\"color: rgb(145, 75, 40);\">Default</span> data set. We will now estimate the test error of this logistic regression model using the validation set approach. Do not forget to set a random seed before beginning your analysis.*"
   ]
  },
  {
   "cell_type": "markdown",
   "id": "18c554e9-6789-4296-88c1-3b49112c95bc",
   "metadata": {},
   "source": [
    "#### <span style=\"font-family: 'NewComputerModernMath';\">*(a) Fit a logistic regression model that uses <span style=\"color: rgb(145, 75, 40);\">income</span> and <span style=\"color: rgb(145, 75, 40);\">balance</span> to predict <span style=\"color: rgb(145, 75, 40);\">default</span>.</span>*"
   ]
  },
  {
   "cell_type": "code",
   "execution_count": 234,
   "id": "0dcf2f55-3fdc-4e4e-a8cc-6128954c448a",
   "metadata": {},
   "outputs": [],
   "source": [
    "from ISLP import load_data\n",
    "import pandas as pd\n",
    "import numpy as np\n",
    "import matplotlib.pyplot as plt\n",
    "import seaborn as sns #visualization library\n",
    "from sklearn.linear_model import LogisticRegression #problem will be solved with scikit\n",
    "from sklearn.metrics import accuracy_score\n",
    "from sklearn.discriminant_analysis import LinearDiscriminantAnalysis #linear discriminant analysis\n",
    "from sklearn.discriminant_analysis import QuadraticDiscriminantAnalysis #quadratic discriminant analysis\n",
    "from sklearn.neighbors import KNeighborsClassifier #K nearest neighbours (KNN)\n",
    "from sklearn. naive_bayes import GaussianNB\n",
    "import numpy as np\n",
    "import pandas as pd\n",
    "from matplotlib .pyplot import subplots\n",
    "import statsmodels .api as sm\n",
    "from ISLP import load_data\n",
    "from ISLP.models import ( ModelSpec as MS , summarize)\n",
    "from ISLP import confusion_table\n",
    "from ISLP.models import contrast\n",
    "from sklearn. discriminant_analysis import \\\n",
    "( LinearDiscriminantAnalysis as LDA ,\n",
    "QuadraticDiscriminantAnalysis as QDA)\n",
    "\n",
    "import statsmodels.api as sm #to compute p-values\n",
    "from patsy import dmatrices\n",
    "from sklearn.model_selection import train_test_split\n",
    "\n",
    "\n",
    "np.random.seed(1)"
   ]
  },
  {
   "cell_type": "code",
   "execution_count": 235,
   "id": "dcf680fa-3f80-4a4f-880f-71a29a32ce9e",
   "metadata": {},
   "outputs": [
    {
     "data": {
      "text/html": [
       "<div>\n",
       "<style scoped>\n",
       "    .dataframe tbody tr th:only-of-type {\n",
       "        vertical-align: middle;\n",
       "    }\n",
       "\n",
       "    .dataframe tbody tr th {\n",
       "        vertical-align: top;\n",
       "    }\n",
       "\n",
       "    .dataframe thead th {\n",
       "        text-align: right;\n",
       "    }\n",
       "</style>\n",
       "<table border=\"1\" class=\"dataframe\">\n",
       "  <thead>\n",
       "    <tr style=\"text-align: right;\">\n",
       "      <th></th>\n",
       "      <th>default</th>\n",
       "      <th>student</th>\n",
       "      <th>balance</th>\n",
       "      <th>income</th>\n",
       "    </tr>\n",
       "  </thead>\n",
       "  <tbody>\n",
       "    <tr>\n",
       "      <th>0</th>\n",
       "      <td>No</td>\n",
       "      <td>No</td>\n",
       "      <td>729.526495</td>\n",
       "      <td>44361.625074</td>\n",
       "    </tr>\n",
       "    <tr>\n",
       "      <th>1</th>\n",
       "      <td>No</td>\n",
       "      <td>Yes</td>\n",
       "      <td>817.180407</td>\n",
       "      <td>12106.134700</td>\n",
       "    </tr>\n",
       "    <tr>\n",
       "      <th>2</th>\n",
       "      <td>No</td>\n",
       "      <td>No</td>\n",
       "      <td>1073.549164</td>\n",
       "      <td>31767.138947</td>\n",
       "    </tr>\n",
       "    <tr>\n",
       "      <th>3</th>\n",
       "      <td>No</td>\n",
       "      <td>No</td>\n",
       "      <td>529.250605</td>\n",
       "      <td>35704.493935</td>\n",
       "    </tr>\n",
       "    <tr>\n",
       "      <th>4</th>\n",
       "      <td>No</td>\n",
       "      <td>No</td>\n",
       "      <td>785.655883</td>\n",
       "      <td>38463.495879</td>\n",
       "    </tr>\n",
       "    <tr>\n",
       "      <th>...</th>\n",
       "      <td>...</td>\n",
       "      <td>...</td>\n",
       "      <td>...</td>\n",
       "      <td>...</td>\n",
       "    </tr>\n",
       "    <tr>\n",
       "      <th>9995</th>\n",
       "      <td>No</td>\n",
       "      <td>No</td>\n",
       "      <td>711.555020</td>\n",
       "      <td>52992.378914</td>\n",
       "    </tr>\n",
       "    <tr>\n",
       "      <th>9996</th>\n",
       "      <td>No</td>\n",
       "      <td>No</td>\n",
       "      <td>757.962918</td>\n",
       "      <td>19660.721768</td>\n",
       "    </tr>\n",
       "    <tr>\n",
       "      <th>9997</th>\n",
       "      <td>No</td>\n",
       "      <td>No</td>\n",
       "      <td>845.411989</td>\n",
       "      <td>58636.156984</td>\n",
       "    </tr>\n",
       "    <tr>\n",
       "      <th>9998</th>\n",
       "      <td>No</td>\n",
       "      <td>No</td>\n",
       "      <td>1569.009053</td>\n",
       "      <td>36669.112365</td>\n",
       "    </tr>\n",
       "    <tr>\n",
       "      <th>9999</th>\n",
       "      <td>No</td>\n",
       "      <td>Yes</td>\n",
       "      <td>200.922183</td>\n",
       "      <td>16862.952321</td>\n",
       "    </tr>\n",
       "  </tbody>\n",
       "</table>\n",
       "<p>10000 rows × 4 columns</p>\n",
       "</div>"
      ],
      "text/plain": [
       "     default student      balance        income\n",
       "0         No      No   729.526495  44361.625074\n",
       "1         No     Yes   817.180407  12106.134700\n",
       "2         No      No  1073.549164  31767.138947\n",
       "3         No      No   529.250605  35704.493935\n",
       "4         No      No   785.655883  38463.495879\n",
       "...      ...     ...          ...           ...\n",
       "9995      No      No   711.555020  52992.378914\n",
       "9996      No      No   757.962918  19660.721768\n",
       "9997      No      No   845.411989  58636.156984\n",
       "9998      No      No  1569.009053  36669.112365\n",
       "9999      No     Yes   200.922183  16862.952321\n",
       "\n",
       "[10000 rows x 4 columns]"
      ]
     },
     "execution_count": 235,
     "metadata": {},
     "output_type": "execute_result"
    }
   ],
   "source": [
    "Default = load_data(\"Default\")\n",
    "Default"
   ]
  },
  {
   "cell_type": "code",
   "execution_count": 236,
   "id": "3b2067b1-6761-4b73-bb43-fd4449d8aa10",
   "metadata": {},
   "outputs": [
    {
     "data": {
      "text/html": [
       "<div>\n",
       "<style scoped>\n",
       "    .dataframe tbody tr th:only-of-type {\n",
       "        vertical-align: middle;\n",
       "    }\n",
       "\n",
       "    .dataframe tbody tr th {\n",
       "        vertical-align: top;\n",
       "    }\n",
       "\n",
       "    .dataframe thead th {\n",
       "        text-align: right;\n",
       "    }\n",
       "</style>\n",
       "<table border=\"1\" class=\"dataframe\">\n",
       "  <thead>\n",
       "    <tr style=\"text-align: right;\">\n",
       "      <th></th>\n",
       "      <th>coef</th>\n",
       "      <th>std err</th>\n",
       "      <th>z</th>\n",
       "      <th>P&gt;|z|</th>\n",
       "    </tr>\n",
       "  </thead>\n",
       "  <tbody>\n",
       "    <tr>\n",
       "      <th>intercept</th>\n",
       "      <td>-11.540500</td>\n",
       "      <td>0.435000</td>\n",
       "      <td>-26.544</td>\n",
       "      <td>0.0</td>\n",
       "    </tr>\n",
       "    <tr>\n",
       "      <th>income</th>\n",
       "      <td>0.000021</td>\n",
       "      <td>0.000005</td>\n",
       "      <td>4.174</td>\n",
       "      <td>0.0</td>\n",
       "    </tr>\n",
       "    <tr>\n",
       "      <th>balance</th>\n",
       "      <td>0.005600</td>\n",
       "      <td>0.000000</td>\n",
       "      <td>24.835</td>\n",
       "      <td>0.0</td>\n",
       "    </tr>\n",
       "  </tbody>\n",
       "</table>\n",
       "</div>"
      ],
      "text/plain": [
       "                coef   std err       z  P>|z|\n",
       "intercept -11.540500  0.435000 -26.544    0.0\n",
       "income      0.000021  0.000005   4.174    0.0\n",
       "balance     0.005600  0.000000  24.835    0.0"
      ]
     },
     "execution_count": 236,
     "metadata": {},
     "output_type": "execute_result"
    }
   ],
   "source": [
    "allvars = Default[['income','balance']]\n",
    "design = MS(allvars)\n",
    "Default['default'] = (Default['default'] == 'Yes').astype('int')\n",
    "X = design.fit_transform(Default)\n",
    "y = Default[\"default\"]\n",
    "model_a = sm.GLM(y, X, family=sm.families.Binomial())\n",
    "results = model_a.fit()\n",
    "summarize(results)"
   ]
  },
  {
   "cell_type": "markdown",
   "id": "a69968c0-06be-46bf-b7ec-302313720112",
   "metadata": {},
   "source": [
    "#### <span style=\"font-family: 'NewComputerModernMath';\">*(b) Using the validation set approach, estimate the test error of this model. In order to do this, you must perform the following steps:</span>*\n",
    "\n",
    "#### <span style=\"font-family: 'NewComputerModernMath';\">&emsp; ***i.** Split the sample set into a training set and a validation set.</span>*\n",
    "#### <span style=\"font-family: 'NewComputerModernMath';\">&emsp; ***ii.** Fit a multiple logistic regression model using only the training observations.</span>*  \n",
    "#### <span style=\"font-family: 'NewComputerModernMath';\">&emsp; ***iii.** Obtain a prediction of default status for each individual in the validation set by computing the posterior probability of default for that individual, and classifying the individual to the <span style=\"color: rgb(145, 75, 40);\">default</span> category if the posterior probability is greater than 0.5.</span>*\n",
    "#### <span style=\"font-family: 'NewComputerModernMath';\">&emsp; ***iv.** Compute the validation set error, which is the fraction of the observations in the validation set that are misclassified.</span>* \n"
   ]
  },
  {
   "cell_type": "code",
   "execution_count": 237,
   "id": "3d6734bd-4414-4641-8d29-f4591efe2386",
   "metadata": {},
   "outputs": [
    {
     "data": {
      "text/plain": [
       "0.028800000000000048"
      ]
     },
     "execution_count": 237,
     "metadata": {},
     "output_type": "execute_result"
    }
   ],
   "source": [
    "X_train, X_test, y_train, y_test = train_test_split(X, y, random_state =0)\n",
    "model_b = sm.GLM(y_train, X_train, family=sm.families.Binomial())\n",
    "model_b = model_b.fit()\n",
    "\n",
    "logit_pred = (model_b.predict(X_test) > 0.5).astype(int)\n",
    "acc = np.mean(logit_pred == y_test)\n",
    "1 - acc"
   ]
  },
  {
   "cell_type": "markdown",
   "id": "3503cb2d-5326-4ad0-b4ca-98798ed41b9f",
   "metadata": {},
   "source": [
    "#### <span style=\"font-family: 'NewComputerModernMath';\">*(c) Repeat the process in (b) three times, using three different splits of the observations into a training set and a validation set. Comment on the results obtained.</span>*"
   ]
  },
  {
   "cell_type": "code",
   "execution_count": 238,
   "id": "90e73474-850d-4f81-bbc3-9f4a8b9c033f",
   "metadata": {},
   "outputs": [
    {
     "name": "stdout",
     "output_type": "stream",
     "text": [
      "0.0252\n",
      "0.023599999999999954\n",
      "0.027599999999999958\n"
     ]
    }
   ],
   "source": [
    "for i in range(3):\n",
    "    X_train, X_test, y_train, y_test = train_test_split(X, y)\n",
    "    model_c = sm.GLM(y_train, X_train, family=sm.families.Binomial())\n",
    "    model_c = model_c.fit()\n",
    "\n",
    "    logit_pred = (model_c.predict(X_test) > 0.5).astype(int)\n",
    "    acc = np.mean(logit_pred == y_test)\n",
    "    print(1 - acc)"
   ]
  },
  {
   "cell_type": "markdown",
   "id": "8450c865-3d11-4d37-be39-77864e8bbf61",
   "metadata": {},
   "source": [
    "#### <span style=\"font-family: 'NewComputerModernMath';\">*(d) Now consider a logistic regression model that predicts the probability of <span style=\"color: rgb(145, 75, 40);\">default</span> using <span style=\"color: rgb(145, 75, 40);\">income</span>, <span style=\"color: rgb(145, 75, 40);\">balance</span>, and a dummy variable for <span style=\"color: rgb(145, 75, 40);\">student</span>. Estimate the test error for this model using the validation set approach. Comment on whether or not including a dummy variable for <span style=\"color: rgb(145, 75, 40);\">student</span> leads to a reduction in the test error rate.</span>*"
   ]
  },
  {
   "cell_type": "code",
   "execution_count": 239,
   "id": "d08a7430-89c4-4ac9-98cc-3698ac855190",
   "metadata": {},
   "outputs": [
    {
     "name": "stdout",
     "output_type": "stream",
     "text": [
      "0.028800000000000048\n"
     ]
    },
    {
     "data": {
      "text/html": [
       "<div>\n",
       "<style scoped>\n",
       "    .dataframe tbody tr th:only-of-type {\n",
       "        vertical-align: middle;\n",
       "    }\n",
       "\n",
       "    .dataframe tbody tr th {\n",
       "        vertical-align: top;\n",
       "    }\n",
       "\n",
       "    .dataframe thead th {\n",
       "        text-align: right;\n",
       "    }\n",
       "</style>\n",
       "<table border=\"1\" class=\"dataframe\">\n",
       "  <thead>\n",
       "    <tr style=\"text-align: right;\">\n",
       "      <th></th>\n",
       "      <th>coef</th>\n",
       "      <th>std err</th>\n",
       "      <th>z</th>\n",
       "      <th>P&gt;|z|</th>\n",
       "    </tr>\n",
       "  </thead>\n",
       "  <tbody>\n",
       "    <tr>\n",
       "      <th>intercept</th>\n",
       "      <td>-10.587500</td>\n",
       "      <td>0.57300</td>\n",
       "      <td>-18.479</td>\n",
       "      <td>0.000</td>\n",
       "    </tr>\n",
       "    <tr>\n",
       "      <th>income</th>\n",
       "      <td>-0.000003</td>\n",
       "      <td>0.00001</td>\n",
       "      <td>-0.308</td>\n",
       "      <td>0.758</td>\n",
       "    </tr>\n",
       "    <tr>\n",
       "      <th>balance</th>\n",
       "      <td>0.005700</td>\n",
       "      <td>0.00000</td>\n",
       "      <td>21.096</td>\n",
       "      <td>0.000</td>\n",
       "    </tr>\n",
       "    <tr>\n",
       "      <th>student</th>\n",
       "      <td>-0.684300</td>\n",
       "      <td>0.27800</td>\n",
       "      <td>-2.461</td>\n",
       "      <td>0.014</td>\n",
       "    </tr>\n",
       "  </tbody>\n",
       "</table>\n",
       "</div>"
      ],
      "text/plain": [
       "                coef  std err       z  P>|z|\n",
       "intercept -10.587500  0.57300 -18.479  0.000\n",
       "income     -0.000003  0.00001  -0.308  0.758\n",
       "balance     0.005700  0.00000  21.096  0.000\n",
       "student    -0.684300  0.27800  -2.461  0.014"
      ]
     },
     "execution_count": 239,
     "metadata": {},
     "output_type": "execute_result"
    }
   ],
   "source": [
    "Default['student'] = (Default['student'] == 'Yes').astype('int')\n",
    "allvars = Default[['income','balance','student']]\n",
    "design = MS(allvars)\n",
    "X = design.fit_transform(Default)\n",
    "y = Default[\"default\"]\n",
    "\n",
    "X_train, X_test, y_train, y_test = train_test_split(X, y, random_state =0)\n",
    "model_d = sm.GLM(y_train, X_train, family=sm.families.Binomial())\n",
    "model_d = model_d.fit()\n",
    "\n",
    "logit_pred = (model_d.predict(X_test) > 0.5).astype(int)\n",
    "acc = np.mean(logit_pred == y_test)\n",
    "print(1 - acc)\n",
    "summarize(model_d)"
   ]
  },
  {
   "cell_type": "markdown",
   "id": "5464ca11-db6b-4938-af10-92d057b28050",
   "metadata": {},
   "source": [
    "<span style=\"font-family: '';\"> Adding student parameter did not help tp reduce error rate."
   ]
  },
  {
   "cell_type": "markdown",
   "id": "202cb420-2dc0-4c0a-ba7f-89d018d9e2ac",
   "metadata": {},
   "source": [
    "### <span style=\"color: rgb(0, 105, 175);font-family: 'NewComputerModernMath';\">Q6</span>"
   ]
  },
  {
   "cell_type": "markdown",
   "id": "a54eb0c1-37a7-4ae7-a336-b16213c188c0",
   "metadata": {},
   "source": [
    "#### <span style=\"font-family: 'NewComputerModernMath';\"> *We continue to consider the use of a logistic regression model to predict the probability of <span style=\"color: rgb(145, 75, 40);\">default</span> using <span style=\"color: rgb(145, 75, 40);\">income</span> and <span style=\"color: rgb(145, 75, 40);\">balance</span> on the <span style=\"color: rgb(145, 75, 40);\">Default</span> data set. In particular, we will now compute estimates for the standard errors of the <span style=\"color: rgb(145, 75, 40);\">income</span> and <span style=\"color: rgb(145, 75, 40);\">balance</span> logistic regression coefficients in two different ways: (1) using the bootstrap, and (2) using the standard formula for computing the standard errors in the <span style=\"color: rgb(145, 75, 40);\">sm.GLM()</span> function. Do not forget to set a random seed before beginning your analysis.*"
   ]
  },
  {
   "cell_type": "markdown",
   "id": "35669393-3435-4da0-9e40-417f6b3d4ddd",
   "metadata": {},
   "source": [
    "#### <span style=\"font-family: 'NewComputerModernMath';\">*(a) Using the <span style=\"color: rgb(145, 75, 40);\">summarize()</span> and <span style=\"color: rgb(145, 75, 40);\">sm.GLM()</span> functions, determine the estimated standard errors for the coefficients associated with <span style=\"color: rgb(145, 75, 40);\">income</span> and <span style=\"color: rgb(145, 75, 40);\">balance</span> in a multiple logistic regression model that uses both predictors.</span>*"
   ]
  },
  {
   "cell_type": "code",
   "execution_count": 240,
   "id": "1ec370e9-0031-4973-a9bc-7bc799006a4c",
   "metadata": {},
   "outputs": [
    {
     "name": "stdout",
     "output_type": "stream",
     "text": [
      "0.028800000000000048\n"
     ]
    },
    {
     "data": {
      "text/html": [
       "<div>\n",
       "<style scoped>\n",
       "    .dataframe tbody tr th:only-of-type {\n",
       "        vertical-align: middle;\n",
       "    }\n",
       "\n",
       "    .dataframe tbody tr th {\n",
       "        vertical-align: top;\n",
       "    }\n",
       "\n",
       "    .dataframe thead th {\n",
       "        text-align: right;\n",
       "    }\n",
       "</style>\n",
       "<table border=\"1\" class=\"dataframe\">\n",
       "  <thead>\n",
       "    <tr style=\"text-align: right;\">\n",
       "      <th></th>\n",
       "      <th>coef</th>\n",
       "      <th>std err</th>\n",
       "      <th>z</th>\n",
       "      <th>P&gt;|z|</th>\n",
       "    </tr>\n",
       "  </thead>\n",
       "  <tbody>\n",
       "    <tr>\n",
       "      <th>intercept</th>\n",
       "      <td>-11.311000</td>\n",
       "      <td>0.502000</td>\n",
       "      <td>-22.524</td>\n",
       "      <td>0.000</td>\n",
       "    </tr>\n",
       "    <tr>\n",
       "      <th>income</th>\n",
       "      <td>0.000016</td>\n",
       "      <td>0.000006</td>\n",
       "      <td>2.765</td>\n",
       "      <td>0.006</td>\n",
       "    </tr>\n",
       "    <tr>\n",
       "      <th>balance</th>\n",
       "      <td>0.005600</td>\n",
       "      <td>0.000000</td>\n",
       "      <td>21.171</td>\n",
       "      <td>0.000</td>\n",
       "    </tr>\n",
       "  </tbody>\n",
       "</table>\n",
       "</div>"
      ],
      "text/plain": [
       "                coef   std err       z  P>|z|\n",
       "intercept -11.311000  0.502000 -22.524  0.000\n",
       "income      0.000016  0.000006   2.765  0.006\n",
       "balance     0.005600  0.000000  21.171  0.000"
      ]
     },
     "execution_count": 240,
     "metadata": {},
     "output_type": "execute_result"
    }
   ],
   "source": [
    "allvars = Default[['income','balance']]\n",
    "design = MS(allvars)\n",
    "X = design.fit_transform(Default)\n",
    "y = Default[\"default\"]\n",
    "\n",
    "X_train, X_test, y_train, y_test = train_test_split(X, y, random_state =0)\n",
    "model_a = sm.GLM(y_train, X_train, family=sm.families.Binomial())\n",
    "model_a = model_a.fit()\n",
    "\n",
    "logit_pred = (model_a.predict(X_test) > 0.5).astype(int)\n",
    "acc = np.mean(logit_pred == y_test)\n",
    "print(1 - acc)\n",
    "summarize(model_a)"
   ]
  },
  {
   "cell_type": "markdown",
   "id": "a4e521fd-6b0b-4e04-9313-ad117f8b569f",
   "metadata": {},
   "source": [
    "#### <span style=\"font-family: 'NewComputerModernMath';\">*b) Write a function, <span style=\"color: rgb(145, 75, 40);\">boot_fn()</span>, that takes as input the <span style=\"color: rgb(145, 75, 40);\">Default</span> data set as well as an index of the observations, and that outputs the coefficient estimates for <span style=\"color: rgb(145, 75, 40);\">income</span> and <span style=\"color: rgb(145, 75, 40);\">balance</span> in the multiple logistic regression model.</span>*"
   ]
  },
  {
   "cell_type": "code",
   "execution_count": 241,
   "id": "aacf49dc-6ffb-44d5-a921-d332666a2481",
   "metadata": {},
   "outputs": [],
   "source": [
    "def boot_fn(dataset):\n",
    "    X,y = dataset\n",
    "    model = sm.GLM(y, X, family=sm.families.Binomial())\n",
    "    model = model.fit()\n",
    "\n",
    "    return [model.params.iloc[1], model.params.iloc[2]]"
   ]
  },
  {
   "cell_type": "code",
   "execution_count": 242,
   "id": "0ea01f6a-9aef-400d-8acb-acda1098e072",
   "metadata": {},
   "outputs": [
    {
     "data": {
      "text/plain": [
       "[2.080897552898698e-05, 0.0056471029503164915]"
      ]
     },
     "execution_count": 242,
     "metadata": {},
     "output_type": "execute_result"
    }
   ],
   "source": [
    "boot_fn([X,y])"
   ]
  },
  {
   "cell_type": "markdown",
   "id": "f46dfa24-0acf-4ac0-b4b7-0d083cadb76c",
   "metadata": {},
   "source": [
    "#### <span style=\"font-family: 'NewComputerModernMath';\">*(c) Following the bootstrap example in the lab, use your <span style=\"color: rgb(145, 75, 40);\">boot_fn()</span> function to estimate the standard errors of the logistic regression coefficients for <span style=\"color: rgb(145, 75, 40);\">income</span> and <span style=\"color: rgb(145, 75, 40);\">balance</span>.</span>*"
   ]
  },
  {
   "cell_type": "code",
   "execution_count": 243,
   "id": "34fe94c4-25e4-4cb9-9e1b-b1bb873b5688",
   "metadata": {},
   "outputs": [],
   "source": [
    "def bootstrap(X, y, boot_size):\n",
    "    if boot_size is None or boot_size == 0:\n",
    "        return [X, y]\n",
    "\n",
    "    # Concatenate X and y along the columns\n",
    "    data = pd.concat([X, y], axis=1)\n",
    "    \n",
    "    # Perform bootstrap sampling with replacement\n",
    "    bootstrapped_data = data.sample(n=boot_size, replace=True)\n",
    "    \n",
    "    # Drop the last column (instead of specifically \"default\")\n",
    "    X_bootstrapped = bootstrapped_data.drop(columns=[bootstrapped_data.columns[-1]])\n",
    "    \n",
    "    # Extract the last column as y\n",
    "    y_bootstrapped = bootstrapped_data[bootstrapped_data.columns[-1]]\n",
    "\n",
    "    return [X_bootstrapped, y_bootstrapped]"
   ]
  },
  {
   "cell_type": "code",
   "execution_count": 244,
   "id": "acb2a21f-ad0c-4173-9ad1-464337e5a3f4",
   "metadata": {},
   "outputs": [
    {
     "name": "stdout",
     "output_type": "stream",
     "text": [
      "0    0.000021\n",
      "1    0.005662\n",
      "dtype: float64\n"
     ]
    }
   ],
   "source": [
    "n=1000\n",
    "coefficients = [] \n",
    "\n",
    "for i in range(0,n):\n",
    "    coef_i = boot_fn(bootstrap(X,y, len(X))) \n",
    "    coefficients.append(coef_i) \n",
    "\n",
    "mean_coefs = pd.DataFrame(coefficients).mean()\n",
    "print(mean_coefs)"
   ]
  },
  {
   "cell_type": "code",
   "execution_count": 245,
   "id": "44604e99-8926-4a7d-9696-3ec2954434f1",
   "metadata": {},
   "outputs": [
    {
     "name": "stdout",
     "output_type": "stream",
     "text": [
      "Standard Errors of the Coefficients:\n",
      "0    0.000005\n",
      "1    0.000228\n",
      "dtype: float64\n"
     ]
    }
   ],
   "source": [
    "coefficients_df = pd.DataFrame(coefficients)\n",
    "standard_errors = coefficients_df.std()\n",
    "\n",
    "print(\"Standard Errors of the Coefficients:\")\n",
    "print(standard_errors)"
   ]
  },
  {
   "cell_type": "markdown",
   "id": "d4521dc1-311a-4240-9873-6c527a947370",
   "metadata": {},
   "source": [
    "#### <span style=\"font-family: 'NewComputerModernMath';\">*(d) Comment on the estimated standard errors obtained using the <span style=\"color: rgb(145, 75, 40);\">sm.GLM()</span> function and using the bootstrap.</span>*"
   ]
  },
  {
   "cell_type": "code",
   "execution_count": 246,
   "id": "af663be0-fb4f-4dcd-92a4-a36f63db7b9d",
   "metadata": {},
   "outputs": [
    {
     "name": "stdout",
     "output_type": "stream",
     "text": [
      "Interval for coefficient of Income is: [ 1.6016902282734988e-05 ,  2.6025070641038296e-05\n",
      "Interval for coefficient of balance is: [ 0.005433597290406233 ,  0.005890274503462617\n"
     ]
    }
   ],
   "source": [
    "print(\"Interval for coefficient of Income is: [\",mean_coefs[0]-standard_errors[0],\", \",mean_coefs[0]+standard_errors[0])\n",
    "print(\"Interval for coefficient of balance is: [\",mean_coefs[1]-standard_errors[1],\", \",mean_coefs[1]+standard_errors[1])"
   ]
  },
  {
   "cell_type": "markdown",
   "id": "66ecbf90-3d9a-4c4b-b514-ecba09815d8d",
   "metadata": {},
   "source": [
    "### <span style=\"color: rgb(0, 105, 175);font-family: 'NewComputerModernMath';\">Q7</span>"
   ]
  },
  {
   "cell_type": "markdown",
   "id": "59ebbf3e-4889-4f00-b5bc-d63f9d5eee23",
   "metadata": {},
   "source": [
    "#### <span style=\"font-family: 'NewComputerModernMath';\"> *In Sections <span style=\"color: rgb(0, 0, 255);\">5.1.2</span> and <span style=\"color: rgb(0, 0, 255);\">5.1.3</span>, we saw that the <span style=\"color: rgb(145, 75, 40);\">cross_validate()</span> function can be used in order to compute the LOOCV test error estimate. Alternatively, one could compute those quantities using just <span style=\"color: rgb(145, 75, 40);\">sm.GLM()</span> and the <span style=\"color: rgb(145, 75, 40);\">predict()</span> method of the fitted model within a for loop. You will now take this approach in order to compute the LOOCV error for a simple logistic regression model on the <span style=\"color: rgb(145, 75, 40);\">Weekly</span> data set. Recall that in the context of classification problems, the LOOCV error is given in (<span style=\"color: rgb(0, 0, 255);\">5.4</span>).*"
   ]
  },
  {
   "cell_type": "markdown",
   "id": "50b1a456-656c-4def-bf54-af8f2f92db44",
   "metadata": {},
   "source": [
    "#### <span style=\"font-family: 'NewComputerModernMath';\">*(a) Fit a logistic regression model that predicts <span style=\"color: rgb(145, 75, 40);\">Direction</span> using <span style=\"color: rgb(145, 75, 40);\">Lag1</span> and <span style=\"color: rgb(145, 75, 40);\">Lag2</span>.*"
   ]
  },
  {
   "cell_type": "code",
   "execution_count": 247,
   "id": "79d4a0be-38cc-4265-8050-0a2ea4f81eef",
   "metadata": {},
   "outputs": [
    {
     "data": {
      "text/html": [
       "<div>\n",
       "<style scoped>\n",
       "    .dataframe tbody tr th:only-of-type {\n",
       "        vertical-align: middle;\n",
       "    }\n",
       "\n",
       "    .dataframe tbody tr th {\n",
       "        vertical-align: top;\n",
       "    }\n",
       "\n",
       "    .dataframe thead th {\n",
       "        text-align: right;\n",
       "    }\n",
       "</style>\n",
       "<table border=\"1\" class=\"dataframe\">\n",
       "  <thead>\n",
       "    <tr style=\"text-align: right;\">\n",
       "      <th></th>\n",
       "      <th>Year</th>\n",
       "      <th>Lag1</th>\n",
       "      <th>Lag2</th>\n",
       "      <th>Lag3</th>\n",
       "      <th>Lag4</th>\n",
       "      <th>Lag5</th>\n",
       "      <th>Volume</th>\n",
       "      <th>Today</th>\n",
       "      <th>Direction</th>\n",
       "    </tr>\n",
       "  </thead>\n",
       "  <tbody>\n",
       "    <tr>\n",
       "      <th>0</th>\n",
       "      <td>1990</td>\n",
       "      <td>0.816</td>\n",
       "      <td>1.572</td>\n",
       "      <td>-3.936</td>\n",
       "      <td>-0.229</td>\n",
       "      <td>-3.484</td>\n",
       "      <td>0.154976</td>\n",
       "      <td>-0.270</td>\n",
       "      <td>Down</td>\n",
       "    </tr>\n",
       "    <tr>\n",
       "      <th>1</th>\n",
       "      <td>1990</td>\n",
       "      <td>-0.270</td>\n",
       "      <td>0.816</td>\n",
       "      <td>1.572</td>\n",
       "      <td>-3.936</td>\n",
       "      <td>-0.229</td>\n",
       "      <td>0.148574</td>\n",
       "      <td>-2.576</td>\n",
       "      <td>Down</td>\n",
       "    </tr>\n",
       "    <tr>\n",
       "      <th>2</th>\n",
       "      <td>1990</td>\n",
       "      <td>-2.576</td>\n",
       "      <td>-0.270</td>\n",
       "      <td>0.816</td>\n",
       "      <td>1.572</td>\n",
       "      <td>-3.936</td>\n",
       "      <td>0.159837</td>\n",
       "      <td>3.514</td>\n",
       "      <td>Up</td>\n",
       "    </tr>\n",
       "    <tr>\n",
       "      <th>3</th>\n",
       "      <td>1990</td>\n",
       "      <td>3.514</td>\n",
       "      <td>-2.576</td>\n",
       "      <td>-0.270</td>\n",
       "      <td>0.816</td>\n",
       "      <td>1.572</td>\n",
       "      <td>0.161630</td>\n",
       "      <td>0.712</td>\n",
       "      <td>Up</td>\n",
       "    </tr>\n",
       "    <tr>\n",
       "      <th>4</th>\n",
       "      <td>1990</td>\n",
       "      <td>0.712</td>\n",
       "      <td>3.514</td>\n",
       "      <td>-2.576</td>\n",
       "      <td>-0.270</td>\n",
       "      <td>0.816</td>\n",
       "      <td>0.153728</td>\n",
       "      <td>1.178</td>\n",
       "      <td>Up</td>\n",
       "    </tr>\n",
       "    <tr>\n",
       "      <th>...</th>\n",
       "      <td>...</td>\n",
       "      <td>...</td>\n",
       "      <td>...</td>\n",
       "      <td>...</td>\n",
       "      <td>...</td>\n",
       "      <td>...</td>\n",
       "      <td>...</td>\n",
       "      <td>...</td>\n",
       "      <td>...</td>\n",
       "    </tr>\n",
       "    <tr>\n",
       "      <th>1084</th>\n",
       "      <td>2010</td>\n",
       "      <td>-0.861</td>\n",
       "      <td>0.043</td>\n",
       "      <td>-2.173</td>\n",
       "      <td>3.599</td>\n",
       "      <td>0.015</td>\n",
       "      <td>3.205160</td>\n",
       "      <td>2.969</td>\n",
       "      <td>Up</td>\n",
       "    </tr>\n",
       "    <tr>\n",
       "      <th>1085</th>\n",
       "      <td>2010</td>\n",
       "      <td>2.969</td>\n",
       "      <td>-0.861</td>\n",
       "      <td>0.043</td>\n",
       "      <td>-2.173</td>\n",
       "      <td>3.599</td>\n",
       "      <td>4.242568</td>\n",
       "      <td>1.281</td>\n",
       "      <td>Up</td>\n",
       "    </tr>\n",
       "    <tr>\n",
       "      <th>1086</th>\n",
       "      <td>2010</td>\n",
       "      <td>1.281</td>\n",
       "      <td>2.969</td>\n",
       "      <td>-0.861</td>\n",
       "      <td>0.043</td>\n",
       "      <td>-2.173</td>\n",
       "      <td>4.835082</td>\n",
       "      <td>0.283</td>\n",
       "      <td>Up</td>\n",
       "    </tr>\n",
       "    <tr>\n",
       "      <th>1087</th>\n",
       "      <td>2010</td>\n",
       "      <td>0.283</td>\n",
       "      <td>1.281</td>\n",
       "      <td>2.969</td>\n",
       "      <td>-0.861</td>\n",
       "      <td>0.043</td>\n",
       "      <td>4.454044</td>\n",
       "      <td>1.034</td>\n",
       "      <td>Up</td>\n",
       "    </tr>\n",
       "    <tr>\n",
       "      <th>1088</th>\n",
       "      <td>2010</td>\n",
       "      <td>1.034</td>\n",
       "      <td>0.283</td>\n",
       "      <td>1.281</td>\n",
       "      <td>2.969</td>\n",
       "      <td>-0.861</td>\n",
       "      <td>2.707105</td>\n",
       "      <td>0.069</td>\n",
       "      <td>Up</td>\n",
       "    </tr>\n",
       "  </tbody>\n",
       "</table>\n",
       "<p>1089 rows × 9 columns</p>\n",
       "</div>"
      ],
      "text/plain": [
       "      Year   Lag1   Lag2   Lag3   Lag4   Lag5    Volume  Today Direction\n",
       "0     1990  0.816  1.572 -3.936 -0.229 -3.484  0.154976 -0.270      Down\n",
       "1     1990 -0.270  0.816  1.572 -3.936 -0.229  0.148574 -2.576      Down\n",
       "2     1990 -2.576 -0.270  0.816  1.572 -3.936  0.159837  3.514        Up\n",
       "3     1990  3.514 -2.576 -0.270  0.816  1.572  0.161630  0.712        Up\n",
       "4     1990  0.712  3.514 -2.576 -0.270  0.816  0.153728  1.178        Up\n",
       "...    ...    ...    ...    ...    ...    ...       ...    ...       ...\n",
       "1084  2010 -0.861  0.043 -2.173  3.599  0.015  3.205160  2.969        Up\n",
       "1085  2010  2.969 -0.861  0.043 -2.173  3.599  4.242568  1.281        Up\n",
       "1086  2010  1.281  2.969 -0.861  0.043 -2.173  4.835082  0.283        Up\n",
       "1087  2010  0.283  1.281  2.969 -0.861  0.043  4.454044  1.034        Up\n",
       "1088  2010  1.034  0.283  1.281  2.969 -0.861  2.707105  0.069        Up\n",
       "\n",
       "[1089 rows x 9 columns]"
      ]
     },
     "execution_count": 247,
     "metadata": {},
     "output_type": "execute_result"
    }
   ],
   "source": [
    "Weekly = load_data(\"Weekly\")\n",
    "Weekly"
   ]
  },
  {
   "cell_type": "code",
   "execution_count": 248,
   "id": "4c745e70-e040-47f1-8cab-0e8e1cfd2a7c",
   "metadata": {},
   "outputs": [
    {
     "data": {
      "text/html": [
       "<div>\n",
       "<style scoped>\n",
       "    .dataframe tbody tr th:only-of-type {\n",
       "        vertical-align: middle;\n",
       "    }\n",
       "\n",
       "    .dataframe tbody tr th {\n",
       "        vertical-align: top;\n",
       "    }\n",
       "\n",
       "    .dataframe thead th {\n",
       "        text-align: right;\n",
       "    }\n",
       "</style>\n",
       "<table border=\"1\" class=\"dataframe\">\n",
       "  <thead>\n",
       "    <tr style=\"text-align: right;\">\n",
       "      <th></th>\n",
       "      <th>coef</th>\n",
       "      <th>std err</th>\n",
       "      <th>z</th>\n",
       "      <th>P&gt;|z|</th>\n",
       "    </tr>\n",
       "  </thead>\n",
       "  <tbody>\n",
       "    <tr>\n",
       "      <th>intercept</th>\n",
       "      <td>0.2212</td>\n",
       "      <td>0.061</td>\n",
       "      <td>3.599</td>\n",
       "      <td>0.000</td>\n",
       "    </tr>\n",
       "    <tr>\n",
       "      <th>Lag1</th>\n",
       "      <td>-0.0387</td>\n",
       "      <td>0.026</td>\n",
       "      <td>-1.477</td>\n",
       "      <td>0.140</td>\n",
       "    </tr>\n",
       "    <tr>\n",
       "      <th>Lag2</th>\n",
       "      <td>0.0602</td>\n",
       "      <td>0.027</td>\n",
       "      <td>2.270</td>\n",
       "      <td>0.023</td>\n",
       "    </tr>\n",
       "  </tbody>\n",
       "</table>\n",
       "</div>"
      ],
      "text/plain": [
       "             coef  std err      z  P>|z|\n",
       "intercept  0.2212    0.061  3.599  0.000\n",
       "Lag1      -0.0387    0.026 -1.477  0.140\n",
       "Lag2       0.0602    0.027  2.270  0.023"
      ]
     },
     "execution_count": 248,
     "metadata": {},
     "output_type": "execute_result"
    }
   ],
   "source": [
    "allvars = Weekly[['Lag1','Lag2']]\n",
    "design = MS(allvars)\n",
    "X = design.fit_transform(Weekly)\n",
    "y = (Weekly[\"Direction\"] == \"Up\").astype(int)\n",
    "\n",
    "model_a = sm.GLM(y, X, family=sm.families.Binomial())\n",
    "model_a = model_a.fit()\n",
    "summarize(model_a)"
   ]
  },
  {
   "cell_type": "markdown",
   "id": "4a1e707f-ffe6-4098-b968-7c344c38b548",
   "metadata": {},
   "source": [
    "#### <span style=\"font-family: 'NewComputerModernMath';\">*(b) Fit a logistic regression model that predicts <span style=\"color: rgb(145, 75, 40);\">Direction</span> using <span style=\"color: rgb(145, 75, 40);\">Lag1</span> and <span style=\"color: rgb(145, 75, 40);\">Lag2</span> <i>using all but the first observation.</i></span>*"
   ]
  },
  {
   "cell_type": "code",
   "execution_count": 249,
   "id": "2fa13de6-6cbc-4440-a4c5-472d7157c27b",
   "metadata": {},
   "outputs": [
    {
     "data": {
      "text/html": [
       "<div>\n",
       "<style scoped>\n",
       "    .dataframe tbody tr th:only-of-type {\n",
       "        vertical-align: middle;\n",
       "    }\n",
       "\n",
       "    .dataframe tbody tr th {\n",
       "        vertical-align: top;\n",
       "    }\n",
       "\n",
       "    .dataframe thead th {\n",
       "        text-align: right;\n",
       "    }\n",
       "</style>\n",
       "<table border=\"1\" class=\"dataframe\">\n",
       "  <thead>\n",
       "    <tr style=\"text-align: right;\">\n",
       "      <th></th>\n",
       "      <th>coef</th>\n",
       "      <th>std err</th>\n",
       "      <th>z</th>\n",
       "      <th>P&gt;|z|</th>\n",
       "    </tr>\n",
       "  </thead>\n",
       "  <tbody>\n",
       "    <tr>\n",
       "      <th>intercept</th>\n",
       "      <td>0.2232</td>\n",
       "      <td>0.061</td>\n",
       "      <td>3.630</td>\n",
       "      <td>0.000</td>\n",
       "    </tr>\n",
       "    <tr>\n",
       "      <th>Lag1</th>\n",
       "      <td>-0.0384</td>\n",
       "      <td>0.026</td>\n",
       "      <td>-1.466</td>\n",
       "      <td>0.143</td>\n",
       "    </tr>\n",
       "    <tr>\n",
       "      <th>Lag2</th>\n",
       "      <td>0.0608</td>\n",
       "      <td>0.027</td>\n",
       "      <td>2.291</td>\n",
       "      <td>0.022</td>\n",
       "    </tr>\n",
       "  </tbody>\n",
       "</table>\n",
       "</div>"
      ],
      "text/plain": [
       "             coef  std err      z  P>|z|\n",
       "intercept  0.2232    0.061  3.630  0.000\n",
       "Lag1      -0.0384    0.026 -1.466  0.143\n",
       "Lag2       0.0608    0.027  2.291  0.022"
      ]
     },
     "execution_count": 249,
     "metadata": {},
     "output_type": "execute_result"
    }
   ],
   "source": [
    "model_b = sm.GLM(y[1:], X[1:], family=sm.families.Binomial())\n",
    "model_b = model_b.fit()\n",
    "summarize(model_b)"
   ]
  },
  {
   "cell_type": "markdown",
   "id": "116712fe-9380-4441-88b7-3520c3b46e15",
   "metadata": {},
   "source": [
    "#### <span style=\"font-family: 'NewComputerModernMath';\">*(c) Use the model from (b) to predict the direction of the first observation. You can do this by predicting that the first observation will go up if $ P(\\text{Direction} = \\text{\"Up\"} \\mid \\text{Lag1}, \\text{Lag2}) > 0.5 $. Was this observation correctly classified?</span>*"
   ]
  },
  {
   "cell_type": "code",
   "execution_count": 250,
   "id": "508ad969-f30f-4483-a97a-bff732c59e00",
   "metadata": {},
   "outputs": [
    {
     "name": "stdout",
     "output_type": "stream",
     "text": [
      "Prediction:  1  | Actual:  0\n"
     ]
    }
   ],
   "source": [
    "pred = model_b.predict(X[:1])\n",
    "print(\"Prediction: \", (pred > 0.5).astype(int)[0], \" | Actual: \",y[:1][0])"
   ]
  },
  {
   "cell_type": "markdown",
   "id": "189c7660-282f-4a4a-854f-9d0cb3f25d04",
   "metadata": {},
   "source": [
    "<span style=\"font-family: '';\"> Prediction is wrong"
   ]
  },
  {
   "cell_type": "markdown",
   "id": "0860f72e-c240-4609-b0b6-980bff0ccbf6",
   "metadata": {},
   "source": [
    "#### <span style=\"font-family: 'NewComputerModernMath';\">*(d) Write a for loop from $ i = 1 $ to $ i = n $, where $ n $ is the number of observations in the data set, that performs each of the following steps:</span>*\n",
    "\n",
    "#### <span style=\"font-family: 'NewComputerModernMath';\">&emsp; ***i.** Fit a logistic regression model using all but the $ i $th observation to predict <span style=\"color: rgb(145, 75, 40);\">Direction</span> using <span style=\"color: rgb(145, 75, 40);\">Lag1</span> and #### <span style=\"color: rgb(145, 75, 40);\">Lag2</span>.*  \n",
    "#### <span style=\"font-family: 'NewComputerModernMath';\">&emsp; ***ii.** Compute the posterior probability of the market moving up for the $ i $th observation.</span>*  \n",
    "#### <span style=\"font-family: 'NewComputerModernMath';\">&emsp; ***iii.** Use the posterior probability for the $ i $th observation in order to predict whether or not the market moves up.</span>*  \n",
    "#### <span style=\"font-family: 'NewComputerModernMath';\">&emsp; ***iv.** Determine whether or not an error was made in predicting the direction for the $ i $th observation. If an error was made, then indicate this as a 1, and otherwise indicate it as a 0.</span>*  "
   ]
  },
  {
   "cell_type": "code",
   "execution_count": 251,
   "id": "a287394b-29f9-480b-addf-c01b26468105",
   "metadata": {},
   "outputs": [],
   "source": [
    "error_count = 0\n",
    "for i in range(len(X)):\n",
    "    one_out  = ~X.index.isin([i])\n",
    "    model_c = sm.GLM(y[one_out], X[one_out], family=sm.families.Binomial())\n",
    "    model_c = model_c.fit()\n",
    "\n",
    "    error_count += 1 if ((model_c.predict(X[i:i+1]) > 0.5).astype(int)[i] != y[i:i+1][i]) else 0"
   ]
  },
  {
   "cell_type": "markdown",
   "id": "521640ac-2f37-480a-b0e3-cdcef824280a",
   "metadata": {},
   "source": [
    "#### <span style=\"font-family: 'NewComputerModernMath';\">*(e) Take the average of the $ n $ numbers obtained in (d)iv in order to obtain the LOOCV estimate for the test error. Comment on the results.</span>*\n",
    "</span>"
   ]
  },
  {
   "cell_type": "code",
   "execution_count": 252,
   "id": "27128f26-c069-4998-ab5d-2f8a1a7c3619",
   "metadata": {},
   "outputs": [
    {
     "name": "stdout",
     "output_type": "stream",
     "text": [
      "490 / 1089  =  0.44995408631772266\n"
     ]
    }
   ],
   "source": [
    "print(error_count,\"/\",len(X), \" = \", error_count/len(X))"
   ]
  },
  {
   "cell_type": "markdown",
   "id": "d7b24126-9062-4f35-a69b-2c2c116d6f98",
   "metadata": {},
   "source": [
    "### <span style=\"color: rgb(0, 105, 175);font-family: 'NewComputerModernMath';\">Q8</span>"
   ]
  },
  {
   "cell_type": "markdown",
   "id": "1f26d5cc-d523-41e6-8477-399af3a34ae6",
   "metadata": {},
   "source": [
    "#### <span style=\"font-family: 'NewComputerModernMath';\">*We will now perform cross-validation on a simulated data set.*"
   ]
  },
  {
   "cell_type": "markdown",
   "id": "773656b1-a8fd-49ee-b6c2-6ea838ac00ac",
   "metadata": {},
   "source": [
    "#### <span style=\"font-family: 'NewComputerModernMath';\">*(a) Generate a simulated data set as follows:</span>*\n",
    "\n",
    "```python\n",
    "rng = np.random.default_rng(1)\n",
    "x = rng.normal(size=100)\n",
    "y = x - 2 * x**2 + rng.normal(size=100)\n",
    "```\n",
    "\n",
    "#### <span style=\"font-family: 'NewComputerModernMath';\">*In this data set, what is 𝑛 and what is 𝑝? Write out the model used to generate the data in equation form.</span>*"
   ]
  },
  {
   "cell_type": "code",
   "execution_count": 253,
   "id": "f2835e1e-2bfe-4ea6-987c-c81e281b3b4f",
   "metadata": {},
   "outputs": [],
   "source": [
    "rng = np.random.default_rng(1)\n",
    "x = rng.normal(size=100)\n",
    "y = x - 2 * x**2 + rng.normal(size=100)"
   ]
  },
  {
   "cell_type": "markdown",
   "id": "d5ca1e48-f3fc-4195-b317-300ebd000ff1",
   "metadata": {},
   "source": [
    "<span style=\"font-family: '';\"> n = 100 | p = 2"
   ]
  },
  {
   "cell_type": "markdown",
   "id": "7b77ed88-146b-40d2-b871-91a7825f75cf",
   "metadata": {},
   "source": [
    "#### <span style=\"font-family: 'NewComputerModernMath';\">*(b) Create a scatterplot of 𝑋 against 𝑌. Comment on what you find.</span>*"
   ]
  },
  {
   "cell_type": "code",
   "execution_count": 254,
   "id": "0854e8c3-17bb-493e-9c14-3bd222eb1b0a",
   "metadata": {},
   "outputs": [
    {
     "data": {
      "text/plain": [
       "<matplotlib.collections.PathCollection at 0x314b22e90>"
      ]
     },
     "execution_count": 254,
     "metadata": {},
     "output_type": "execute_result"
    },
    {
     "data": {
      "image/png": "[encoded data removed]",
      "text/plain": [
       "<Figure size 640x480 with 1 Axes>"
      ]
     },
     "metadata": {},
     "output_type": "display_data"
    }
   ],
   "source": [
    "plt.scatter(x,y)"
   ]
  },
  {
   "cell_type": "markdown",
   "id": "35272613-e013-4f23-80e4-4cb74f742a32",
   "metadata": {},
   "source": [
    "#### <span style=\"font-family: 'NewComputerModernMath';\">*(c) Set a random seed, and then compute the LOOCV errors that result from fitting the following four models using least squares:</span>*\n",
    "\n",
    "#### **i.** $ Y = \\beta_0 + \\beta_1 X + \\epsilon $\n",
    "\n",
    "#### **ii.** $ Y = \\beta_0 + \\beta_1 X + \\beta_2 X^2 + \\epsilon $\n",
    "\n",
    "#### **iii.** $ Y = \\beta_0 + \\beta_1 X + \\beta_2 X^2 + \\beta_3 X^3 + \\epsilon $\n",
    "\n",
    "#### **iv.** $ Y = \\beta_0 + \\beta_1 X + \\beta_2 X^2 + \\beta_3 X^3 + \\beta_4 X^4 + \\epsilon $.\n",
    "\n",
    "#### <span style=\"font-family: 'NewComputerModernMath';\">*Note you may find it helpful to use the <span style=\"color: rgb(145, 75, 40);\">data.frame()</span> function to create a single data set containing both 𝑋 and 𝑌.</span>*"
   ]
  },
  {
   "cell_type": "code",
   "execution_count": 255,
   "id": "da453f30-2c3f-4ebf-97d2-5c7cd6327988",
   "metadata": {},
   "outputs": [
    {
     "data": {
      "text/html": [
       "<div>\n",
       "<style scoped>\n",
       "    .dataframe tbody tr th:only-of-type {\n",
       "        vertical-align: middle;\n",
       "    }\n",
       "\n",
       "    .dataframe tbody tr th {\n",
       "        vertical-align: top;\n",
       "    }\n",
       "\n",
       "    .dataframe thead th {\n",
       "        text-align: right;\n",
       "    }\n",
       "</style>\n",
       "<table border=\"1\" class=\"dataframe\">\n",
       "  <thead>\n",
       "    <tr style=\"text-align: right;\">\n",
       "      <th></th>\n",
       "      <th>X</th>\n",
       "      <th>y</th>\n",
       "    </tr>\n",
       "  </thead>\n",
       "  <tbody>\n",
       "    <tr>\n",
       "      <th>0</th>\n",
       "      <td>0.345584</td>\n",
       "      <td>-0.544554</td>\n",
       "    </tr>\n",
       "    <tr>\n",
       "      <th>1</th>\n",
       "      <td>0.821618</td>\n",
       "      <td>0.333950</td>\n",
       "    </tr>\n",
       "    <tr>\n",
       "      <th>2</th>\n",
       "      <td>0.330437</td>\n",
       "      <td>-0.013532</td>\n",
       "    </tr>\n",
       "    <tr>\n",
       "      <th>3</th>\n",
       "      <td>-1.303157</td>\n",
       "      <td>-4.030442</td>\n",
       "    </tr>\n",
       "    <tr>\n",
       "      <th>4</th>\n",
       "      <td>0.905356</td>\n",
       "      <td>0.484861</td>\n",
       "    </tr>\n",
       "    <tr>\n",
       "      <th>...</th>\n",
       "      <td>...</td>\n",
       "      <td>...</td>\n",
       "    </tr>\n",
       "    <tr>\n",
       "      <th>95</th>\n",
       "      <td>-2.250854</td>\n",
       "      <td>-14.001012</td>\n",
       "    </tr>\n",
       "    <tr>\n",
       "      <th>96</th>\n",
       "      <td>-0.138655</td>\n",
       "      <td>0.932532</td>\n",
       "    </tr>\n",
       "    <tr>\n",
       "      <th>97</th>\n",
       "      <td>0.033000</td>\n",
       "      <td>0.198928</td>\n",
       "    </tr>\n",
       "    <tr>\n",
       "      <th>98</th>\n",
       "      <td>-1.425349</td>\n",
       "      <td>-4.940183</td>\n",
       "    </tr>\n",
       "    <tr>\n",
       "      <th>99</th>\n",
       "      <td>0.332814</td>\n",
       "      <td>-0.953841</td>\n",
       "    </tr>\n",
       "  </tbody>\n",
       "</table>\n",
       "<p>100 rows × 2 columns</p>\n",
       "</div>"
      ],
      "text/plain": [
       "           X          y\n",
       "0   0.345584  -0.544554\n",
       "1   0.821618   0.333950\n",
       "2   0.330437  -0.013532\n",
       "3  -1.303157  -4.030442\n",
       "4   0.905356   0.484861\n",
       "..       ...        ...\n",
       "95 -2.250854 -14.001012\n",
       "96 -0.138655   0.932532\n",
       "97  0.033000   0.198928\n",
       "98 -1.425349  -4.940183\n",
       "99  0.332814  -0.953841\n",
       "\n",
       "[100 rows x 2 columns]"
      ]
     },
     "execution_count": 255,
     "metadata": {},
     "output_type": "execute_result"
    }
   ],
   "source": [
    "from sklearn.model_selection import LeaveOneOut\n",
    "from sklearn.preprocessing import PolynomialFeatures\n",
    "from sklearn.metrics import mean_squared_error\n",
    "\n",
    "\n",
    "np.random.seed(5)\n",
    "loo = LeaveOneOut()\n",
    "df = pd.DataFrame({'X':x, 'y':y})\n",
    "df"
   ]
  },
  {
   "cell_type": "code",
   "execution_count": 256,
   "id": "83a729cd-94de-4a38-8e51-009d367b5ca0",
   "metadata": {},
   "outputs": [],
   "source": [
    "def loocv_test(df,seed,degree):\n",
    "    loo_errors = {}\n",
    "    max_degree = 4\n",
    "    X = df['X'].values.reshape(-1, 1)  # Ensure X is a 2D array\n",
    "    y = df['y'].values\n",
    "    np.random.seed(seed)\n",
    "    for degree in range(1, max_degree + 1):\n",
    "        poly = PolynomialFeatures(degree=degree)\n",
    "        X_poly = poly.fit_transform(X)  # Transform X into polynomial features\n",
    "            \n",
    "        errors = []\n",
    "            \n",
    "        for train_index, test_index in loo.split(X_poly):\n",
    "            X_train, X_test = X_poly[train_index], X_poly[test_index]\n",
    "            y_train, y_test = y[train_index], y[test_index]\n",
    "            \n",
    "            # Add a constant term for the intercept in OLS model\n",
    "            X_train_const = sm.add_constant(X_train)\n",
    "            X_test_const = sm.add_constant(X_test)\n",
    "            \n",
    "            # Fit the OLS model\n",
    "            model = sm.OLS(y_train, X_train_const)\n",
    "            results = model.fit()\n",
    "            \n",
    "            # Predict and calculate the error\n",
    "            y_pred = results.predict(X_test_const)\n",
    "            error = mean_squared_error(y_test, y_pred)\n",
    "            errors.append(error)\n",
    "        \n",
    "        loo_errors[degree] = np.mean(errors)\n",
    "    print(loo_errors)\n"
   ]
  },
  {
   "cell_type": "code",
   "execution_count": 257,
   "id": "40076ba2-00de-49a1-98d2-771b8eab3dcd",
   "metadata": {},
   "outputs": [
    {
     "name": "stdout",
     "output_type": "stream",
     "text": [
      "{1: 6.633029839181984, 2: 1.1229368563419688, 3: 1.3017965489358887, 4: 1.332394269417942}\n"
     ]
    }
   ],
   "source": [
    "loocv_test(df,23,4)"
   ]
  },
  {
   "cell_type": "markdown",
   "id": "283d0a2a-ab12-4093-a390-871ae047a31c",
   "metadata": {},
   "source": [
    "#### <span style=\"font-family: 'NewComputerModernMath';\">*(d) Repeat (c) using another random seed, and report your results. Are your results the same as what you got in (c)? Why?</span>*"
   ]
  },
  {
   "cell_type": "code",
   "execution_count": 258,
   "id": "6cd651e6-5e04-49e7-b566-70df9bb8a86f",
   "metadata": {},
   "outputs": [
    {
     "name": "stdout",
     "output_type": "stream",
     "text": [
      "{1: 6.633029839181984, 2: 1.1229368563419688, 3: 1.3017965489358887, 4: 1.332394269417942}\n"
     ]
    }
   ],
   "source": [
    "loocv_test(df,44,4)"
   ]
  },
  {
   "cell_type": "markdown",
   "id": "c0fe154d-1a97-44a9-bba8-8a4b4d314e12",
   "metadata": {},
   "source": [
    "<span style=\"font-family: '';\"> Results are exactly same because LOOCV use only one sample to test, so even randomness is changed, while the order changes, operations are same. Therefore, results will be same."
   ]
  },
  {
   "cell_type": "markdown",
   "id": "d9a181eb-437a-499d-93b9-7be4fa142031",
   "metadata": {},
   "source": [
    "#### <span style=\"font-family: 'NewComputerModernMath';\">*(e) Which of the models in (c) had the smallest LOOCV error? Is this what you expected? Explain your answer.</span>*"
   ]
  },
  {
   "cell_type": "markdown",
   "id": "b56f5247-5bfc-4f1b-bec5-e04b8aad85d8",
   "metadata": {},
   "source": [
    "<span style=\"font-family: '';\"> p=2 (x**2) has the smallest error. We expected that because we know that the equation for y was $y = x - 2x^2 + \\epsilon$"
   ]
  },
  {
   "cell_type": "markdown",
   "id": "e61b6d8b-0bba-465e-a7bf-4327641d362e",
   "metadata": {},
   "source": [
    "#### <span style=\"font-family: 'NewComputerModernMath';\">*(f) Comment on the statistical significance of the coefficient estimates that result from fitting each of the models in (c) using least squares. Do these results agree with the conclusions drawn based on the cross-validation results?</span>*"
   ]
  },
  {
   "cell_type": "code",
   "execution_count": 259,
   "id": "0606ef56-65dc-4d9f-89cf-3b207d10a993",
   "metadata": {},
   "outputs": [
    {
     "data": {
      "text/html": [
       "<div>\n",
       "<style scoped>\n",
       "    .dataframe tbody tr th:only-of-type {\n",
       "        vertical-align: middle;\n",
       "    }\n",
       "\n",
       "    .dataframe tbody tr th {\n",
       "        vertical-align: top;\n",
       "    }\n",
       "\n",
       "    .dataframe thead th {\n",
       "        text-align: right;\n",
       "    }\n",
       "</style>\n",
       "<table border=\"1\" class=\"dataframe\">\n",
       "  <thead>\n",
       "    <tr style=\"text-align: right;\">\n",
       "      <th></th>\n",
       "      <th>coef</th>\n",
       "      <th>std err</th>\n",
       "      <th>t</th>\n",
       "      <th>P&gt;|t|</th>\n",
       "    </tr>\n",
       "  </thead>\n",
       "  <tbody>\n",
       "    <tr>\n",
       "      <th>const</th>\n",
       "      <td>0.1008</td>\n",
       "      <td>0.136</td>\n",
       "      <td>0.743</td>\n",
       "      <td>0.460</td>\n",
       "    </tr>\n",
       "    <tr>\n",
       "      <th>x1</th>\n",
       "      <td>0.9050</td>\n",
       "      <td>0.205</td>\n",
       "      <td>4.423</td>\n",
       "      <td>0.000</td>\n",
       "    </tr>\n",
       "    <tr>\n",
       "      <th>x2</th>\n",
       "      <td>-2.5059</td>\n",
       "      <td>0.221</td>\n",
       "      <td>-11.336</td>\n",
       "      <td>0.000</td>\n",
       "    </tr>\n",
       "    <tr>\n",
       "      <th>x3</th>\n",
       "      <td>0.0338</td>\n",
       "      <td>0.073</td>\n",
       "      <td>0.466</td>\n",
       "      <td>0.642</td>\n",
       "    </tr>\n",
       "    <tr>\n",
       "      <th>x4</th>\n",
       "      <td>0.1042</td>\n",
       "      <td>0.045</td>\n",
       "      <td>2.309</td>\n",
       "      <td>0.023</td>\n",
       "    </tr>\n",
       "  </tbody>\n",
       "</table>\n",
       "</div>"
      ],
      "text/plain": [
       "         coef  std err       t  P>|t|\n",
       "const  0.1008    0.136   0.743  0.460\n",
       "x1     0.9050    0.205   4.423  0.000\n",
       "x2    -2.5059    0.221 -11.336  0.000\n",
       "x3     0.0338    0.073   0.466  0.642\n",
       "x4     0.1042    0.045   2.309  0.023"
      ]
     },
     "execution_count": 259,
     "metadata": {},
     "output_type": "execute_result"
    }
   ],
   "source": [
    "X = df['X'].values.reshape(-1, 1)\n",
    "y = df['y'].values\n",
    "poly = PolynomialFeatures(degree=4)\n",
    "X_poly = poly.fit_transform(X)\n",
    "X_const = sm.add_constant(X_poly)\n",
    "\n",
    "model_f = sm.OLS(y,X_const).fit()\n",
    "\n",
    "summarize(model_f)"
   ]
  },
  {
   "cell_type": "markdown",
   "id": "963eb394-49d2-4c26-bd48-2c2777fd647e",
   "metadata": {},
   "source": [
    "<span style=\"font-family: '';\"> The model fitting with p=4 shows that $x^3$ and $x^4$ cannot pass the null hypothesis due to the p-values. Only $x$ and $x^2$ coefficients have significance"
   ]
  },
  {
   "cell_type": "markdown",
   "id": "4b88739d-986a-42db-8aba-c97bd9c24a8d",
   "metadata": {},
   "source": [
    "### <span style=\"color: rgb(0, 105, 175);font-family: 'NewComputerModernMath';\">Q9</span>"
   ]
  },
  {
   "cell_type": "markdown",
   "id": "57e3fdbb-5e23-40b4-a997-ad6d4623da4c",
   "metadata": {},
   "source": [
    "#### <span style=\"font-family: 'NewComputerModernMath';\">*We will now consider the <span style=\"color: rgb(145, 75, 40);\">Boston</span> housing data set, from the <span style=\"color: rgb(145, 75, 40);\">ISLP</span> library.*"
   ]
  },
  {
   "cell_type": "markdown",
   "id": "9e5551c7-502e-4a62-95d7-6a8997baccbf",
   "metadata": {},
   "source": [
    "#### <span style=\"font-family: 'NewComputerModernMath';\">*(a) Based on this data set, provide an estimate for the population mean of <span style=\"color: rgb(145, 75, 40);\">medv</span>. Call this estimate $ \\hat{\\mu} $.*"
   ]
  },
  {
   "cell_type": "code",
   "execution_count": 260,
   "id": "22ef6d67-1f8f-4bc7-a1cc-3ac0f492be16",
   "metadata": {},
   "outputs": [
    {
     "data": {
      "text/plain": [
       "22.532806324110677"
      ]
     },
     "execution_count": 260,
     "metadata": {},
     "output_type": "execute_result"
    }
   ],
   "source": [
    "Boston = load_data(\"Boston\")\n",
    "mu = Boston.medv.mean()\n",
    "mu"
   ]
  },
  {
   "cell_type": "markdown",
   "id": "6e3ef183-2b01-4fea-b1e9-ab83b5be0e18",
   "metadata": {},
   "source": [
    "#### <span style=\"font-family: 'NewComputerModernMath';\">*(b) Provide an estimate of the standard error of $ \\hat{\\mu} $. Interpret this result.</span>*\n",
    "\n",
    "#### <span style=\"font-style: italic;\">*Hint: We can compute the standard error of the sample mean by dividing the sample standard deviation by the square root of the number of observations.</span>*"
   ]
  },
  {
   "cell_type": "code",
   "execution_count": 261,
   "id": "0d4d7794-7c9d-4b6b-9223-69a0d77ff09f",
   "metadata": {},
   "outputs": [
    {
     "data": {
      "text/plain": [
       "0.4088611474975351"
      ]
     },
     "execution_count": 261,
     "metadata": {},
     "output_type": "execute_result"
    }
   ],
   "source": [
    "SE = Boston.medv.std() / np.sqrt(len(Boston))\n",
    "SE"
   ]
  },
  {
   "cell_type": "markdown",
   "id": "2f246405-7c02-4187-aee4-923b47cf5672",
   "metadata": {},
   "source": [
    "#### <span style=\"font-family: 'NewComputerModernMath';\">*(c) Now estimate the standard error of $ \\hat{\\mu} $ using the bootstrap. How does this compare to your answer from (b)?</span>*"
   ]
  },
  {
   "cell_type": "code",
   "execution_count": 262,
   "id": "ea93d75a-2063-4b82-8c93-b093fbecb959",
   "metadata": {},
   "outputs": [
    {
     "data": {
      "text/plain": [
       "0.4067956213735371"
      ]
     },
     "execution_count": 262,
     "metadata": {},
     "output_type": "execute_result"
    }
   ],
   "source": [
    "mus = [Boston.medv.sample(n = len(Boston), replace=True).mean() for _ in range(10000)]\n",
    "np.std(mus)"
   ]
  },
  {
   "cell_type": "markdown",
   "id": "273b7d3e-eb7f-4830-a9ab-1ffab2d98d24",
   "metadata": {},
   "source": [
    "#### <span style=\"font-family: 'NewComputerModernMath';\">*(d) Based on your bootstrap estimate from (c), provide a 95% confidence interval for the mean of <span style=\"color: rgb(145, 75, 40);\">medv</span>. Compare it to the results obtained by using <span style=\"color: rgb(145, 75, 40);\">Boston['medv'].std()</span> and the two standard error rule (<span style=\"color: rgb(0, 0, 255);\">3.9</span>).*  \n",
    "\n",
    "#### <span style=\"font-style: italic;\">*Hint: You can approximate a 95% confidence interval using the formula $[ \\hat{\\mu} - 2SE(\\hat{\\mu}), \\hat{\\mu} + 2SE(\\hat{\\mu}) ]$.</span>*"
   ]
  },
  {
   "cell_type": "code",
   "execution_count": 263,
   "id": "12c4ece1-25a7-4c85-9f64-3ee1103be5d3",
   "metadata": {},
   "outputs": [
    {
     "name": "stdout",
     "output_type": "stream",
     "text": [
      "21.719215081363604 23.34639756685775\n"
     ]
    }
   ],
   "source": [
    "SE = np.std(mus)\n",
    "print(mu - 2*SE, mu + 2*SE)"
   ]
  },
  {
   "cell_type": "code",
   "execution_count": 264,
   "id": "cee204d6-5c77-4e00-92fe-bb9e98309915",
   "metadata": {},
   "outputs": [
    {
     "name": "stdout",
     "output_type": "stream",
     "text": [
      "4.138598149351036 40.92701449887032\n"
     ]
    }
   ],
   "source": [
    "print(Boston['medv'].mean() - 2*Boston['medv'].std(), Boston['medv'].mean() + 2*Boston['medv'].std()) "
   ]
  },
  {
   "cell_type": "markdown",
   "id": "158c9f7b-b130-433a-9397-f18df8a493e4",
   "metadata": {},
   "source": [
    "#### <span style=\"font-family: 'NewComputerModernMath';\">*(e) Based on this data set, provide an estimate, $ \\hat{\\mu}_{med} $, for the median value of <span style=\"color: rgb(145, 75, 40);\">medv</span> in the population.</span>* "
   ]
  },
  {
   "cell_type": "code",
   "execution_count": 265,
   "id": "8b8a2a77-33de-4393-8d12-ac025a7b31fb",
   "metadata": {},
   "outputs": [
    {
     "data": {
      "text/plain": [
       "21.2"
      ]
     },
     "execution_count": 265,
     "metadata": {},
     "output_type": "execute_result"
    }
   ],
   "source": [
    "Boston.medv.median()"
   ]
  },
  {
   "cell_type": "markdown",
   "id": "b718e468-8ced-4632-af45-5a7f467c1a32",
   "metadata": {},
   "source": [
    "#### <span style=\"font-family: 'NewComputerModernMath';\">*(f) We now would like to estimate the standard error of $ \\hat{\\mu}_{med} $. Unfortunately, there is no simple formula for computing the standard error of the median. Instead, estimate the standard error of the median using the bootstrap. Comment on your findings.</span>*"
   ]
  },
  {
   "cell_type": "code",
   "execution_count": 266,
   "id": "41d5b8d4-2a47-4956-94db-2f1ec7a6dea4",
   "metadata": {},
   "outputs": [
    {
     "data": {
      "text/plain": [
       "0.37682039219633506"
      ]
     },
     "execution_count": 266,
     "metadata": {},
     "output_type": "execute_result"
    }
   ],
   "source": [
    "medians = [Boston.medv.sample(n = len(Boston), replace=True).median() for _ in range(10000)]\n",
    "np.std(medians)"
   ]
  },
  {
   "cell_type": "markdown",
   "id": "2656d76b-4a3b-4e0d-9dfd-7727c7804c8e",
   "metadata": {},
   "source": [
    "#### <span style=\"font-family: 'NewComputerModernMath';\">*(g) Based on this data set, provide an estimate for the tenth percentile of <span style=\"color: rgb(145, 75, 40);\">medv</span> in Boston census tracts. Call this quantity $ \\hat{\\mu}_{0.1} $. (You can use the <span style=\"color: rgb(145, 75, 40);\">np.percentile()</span> function.)</span>*"
   ]
  },
  {
   "cell_type": "code",
   "execution_count": 267,
   "id": "11f3ebae-e737-4186-a22d-7e044d05ec55",
   "metadata": {},
   "outputs": [
    {
     "data": {
      "text/plain": [
       "12.75"
      ]
     },
     "execution_count": 267,
     "metadata": {},
     "output_type": "execute_result"
    }
   ],
   "source": [
    "mu10 = np.percentile(Boston.medv, 10)\n",
    "mu10"
   ]
  },
  {
   "cell_type": "markdown",
   "id": "9cc2ea90-c3b0-4c95-a154-d64b2cccaa66",
   "metadata": {},
   "source": [
    "#### <span style=\"font-family: 'NewComputerModernMath';\">(*h) Use the bootstrap to estimate the standard error of $ \\hat{\\mu}_{0.1} $. Comment on your findings.</span>*"
   ]
  },
  {
   "cell_type": "code",
   "execution_count": 268,
   "id": "a9082d09-e692-4695-86d4-8836842801e0",
   "metadata": {},
   "outputs": [
    {
     "data": {
      "text/plain": [
       "0.49683440611535745"
      ]
     },
     "execution_count": 268,
     "metadata": {},
     "output_type": "execute_result"
    }
   ],
   "source": [
    "mu10s = [np.percentile(Boston.medv.sample(n = len(Boston), replace=True),10) for _ in range(10000)]\n",
    "np.std(mu10s)"
   ]
  }
 ],
 "metadata": {
  "kernelspec": {
   "display_name": "Python 3 (ipykernel)",
   "language": "python",
   "name": "python3"
  },
  "language_info": {
   "codemirror_mode": {
    "name": "ipython",
    "version": 3
   },
   "file_extension": ".py",
   "mimetype": "text/x-python",
   "name": "python",
   "nbconvert_exporter": "python",
   "pygments_lexer": "ipython3",
   "version": "3.10.16"
  }
 },
 "nbformat": 4,
 "nbformat_minor": 5
}
