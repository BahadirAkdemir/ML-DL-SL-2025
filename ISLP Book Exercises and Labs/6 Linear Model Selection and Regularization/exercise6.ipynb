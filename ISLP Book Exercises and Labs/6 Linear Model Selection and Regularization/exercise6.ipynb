{
 "cells": [
  {
   "cell_type": "markdown",
   "id": "1e0adc2a-b01b-4247-9f0b-8f18ec61a172",
   "metadata": {},
   "source": [
    "# <span style=\"color: rgb(0, 105, 175);font-family: 'NewComputerModernMath';\">*Exercise Solutions*</span>"
   ]
  },
  {
   "cell_type": "markdown",
   "id": "daa9163b-68d4-4da9-938c-4a58623cd834",
   "metadata": {},
   "source": [
    "## <span style=\"color: rgb(0, 105, 175);font-family: 'NewComputerModernMath';\">*Conceptual*</span>"
   ]
  },
  {
   "cell_type": "markdown",
   "id": "aee50d20-ab7b-426e-b552-dcf6ed4437cc",
   "metadata": {},
   "source": [
    "### <span style=\"color: rgb(0, 105, 175);font-family: 'NewComputerModernMath';\">Q1</span>"
   ]
  },
  {
   "cell_type": "markdown",
   "id": "0f7f4a31-7591-4925-a15e-b5ad00bc0ca5",
   "metadata": {},
   "source": [
    "#### <span style=\"font-family: 'NewComputerModernMath';\">**1.** We perform best subset, forward stepwise, and backward stepwise selection on a single data set. For each approach, we obtain $ p + 1 $ models, containing $ 0, 1, 2, \\dots, p $ predictors. Explain your answers:"
   ]
  },
  {
   "cell_type": "markdown",
   "id": "dc1ab264-07b6-4e73-9def-a632c09a13e9",
   "metadata": {},
   "source": [
    "#### <span style=\"font-family: 'NewComputerModernMath';\">(a) Which of the three models with $ k $ predictors has the smallest *training* RSS?</span>"
   ]
  },
  {
   "cell_type": "markdown",
   "id": "937cd5d5-0f2a-4d21-a2ba-c10ec29ca325",
   "metadata": {},
   "source": [
    "##### <span style=\"font-family: 'NewComputerModernMath';\"> Best Subset Model with k predictors has the smallest training error. As the name suggests, Best subset model will choose k predictors by checking all possible $\\frac{p!}{(p-k)!}$ models with k predictors. On the other hand, Forward / Backward stepwise methods will be stuck ta local minimum in terms of choosing a good model with k parameters. The reason is that Forward / Backward stepwise models depend on the previous model. The next model has to be the subset of the previous model in terms of predictors."
   ]
  },
  {
   "cell_type": "markdown",
   "id": "c94343af-d5a1-4642-b152-d4de8ba4152b",
   "metadata": {},
   "source": [
    "#### <span style=\"font-family: 'NewComputerModernMath';\">(b) Which of the three models with $ k $ predictors has the smallest *test* RSS?</span>"
   ]
  },
  {
   "cell_type": "markdown",
   "id": "2309c4b2-ca1f-45ce-ac8a-f2e235785298",
   "metadata": {},
   "source": [
    "##### <span style=\"font-family: 'NewComputerModernMath';\"> We cannot state an exact result for this question. If everything is going well, the best subset model may has the smallest test error. However, since the training take place with training data, model may overfit. In this scenario (overfit), Forward / Backward methods may give better results than the best subset model. But, since we do not know any information about the data, we cannot give an answer for this question."
   ]
  },
  {
   "cell_type": "markdown",
   "id": "714dedf3-a003-4975-97ee-b5da80775beb",
   "metadata": {},
   "source": [
    "#### <span style=\"font-family: 'NewComputerModernMath';\">(c) True or False:</span>\n",
    "\n",
    "#### <span style=\"font-family: 'NewComputerModernMath';\">&emsp; **i.** The predictors in the $ k $-variable model identified by forward stepwise are a subset of the predictors in the $ (k+1) $-variable model identified by forward stepwise selection.</span>  \n",
    "\n",
    "#### <span style=\"font-family: 'NewComputerModernMath';\">&emsp; **ii.** The predictors in the $ k $-variable model identified by backward stepwise are a subset of the predictors in the $ (k+1) $-variable model identified by backward stepwise selection.</span>  \n",
    "\n",
    "#### <span style=\"font-family: 'NewComputerModernMath';\">&emsp; **iii.** The predictors in the $ k $-variable model identified by backward stepwise are a subset of the predictors in the $ (k+1) $-variable model identified by forward stepwise selection.</span>  \n",
    "\n",
    "#### <span style=\"font-family: 'NewComputerModernMath';\">&emsp; **iv.** The predictors in the $ k $-variable model identified by forward stepwise are a subset of the predictors in the $ (k+1) $-variable model identified by backward stepwise selection.</span>  \n",
    "\n",
    "#### <span style=\"font-family: 'NewComputerModernMath';\">&emsp; **v.** The predictors in the $ k $-variable model identified by best subset are a subset of the predictors in the $ (k+1) $-variable model identified by best subset selection.</span>  \n",
    "</span>"
   ]
  },
  {
   "cell_type": "markdown",
   "id": "d9f708f8-3cbb-4c5a-b29a-17503ae20b55",
   "metadata": {},
   "source": [
    "##### <span style=\"font-family: 'NewComputerModernMath';\"> \n",
    "\n",
    "(i and ii) - True: In Forward / Backward stepwise selection, k model (the next model) is always the subset of k+1 model (previous model) in terms of predictors.\n",
    "\n",
    "(iii and iv) - False: We cannot state that Forward and Backward methods will obtain the same predictors at the model with k predictors. Both methods can direct to different results at the model with k predictors.\n",
    "\n",
    "(vi) - False: Again, Forward, Backward and Best Subset methods may choose different predictors at the model with k predictors. The reason is that Best subset methods checks all possible models with k predictors and choose the best, while Forward / Backward methods starts with 0 / p predictors and each step will depend on the previous step."
   ]
  },
  {
   "cell_type": "markdown",
   "id": "493b0f0f-aea7-4d3b-a986-f9c1af73bae8",
   "metadata": {},
   "source": [
    "### <span style=\"color: rgb(0, 105, 175);font-family: 'NewComputerModernMath';\">Q2</span>"
   ]
  },
  {
   "cell_type": "markdown",
   "id": "a6ba7bb0-941c-4f5a-a3b4-898a74877d31",
   "metadata": {},
   "source": [
    "#### <span style=\"font-family: 'NewComputerModernMath';\">**2.** For parts (a) through (c), indicate which of **i.** through **iv.** is correct. Justify your answer."
   ]
  },
  {
   "cell_type": "markdown",
   "id": "7597467f-2696-4168-94c2-308ff7c1f0b7",
   "metadata": {},
   "source": [
    "#### <span style=\"font-family: 'NewComputerModernMath';\">(a) The lasso, relative to least squares, is:</span>\n",
    "\n",
    "#### <span style=\"font-family: 'NewComputerModernMath';\">&emsp; **i.** More flexible and hence will give improved prediction accuracy when its increase in bias is less than its decrease in variance.</span>  \n",
    "\n",
    "#### <span style=\"font-family: 'NewComputerModernMath';\">&emsp; **ii.** More flexible and hence will give improved prediction accuracy when its increase in variance is less than its decrease in bias.</span>  \n",
    "\n",
    "#### <span style=\"font-family: 'NewComputerModernMath';\">&emsp; **iii.** Less flexible and hence will give improved prediction accuracy when its increase in bias is less than its decrease in variance.</span>  \n",
    "\n",
    "#### <span style=\"font-family: 'NewComputerModernMath';\">&emsp; **iv.** Less flexible and hence will give improved prediction accuracy when its increase in variance is less than its decrease in bias.</span>  "
   ]
  },
  {
   "cell_type": "markdown",
   "id": "058c3917-829e-4d46-9248-12a8d032971b",
   "metadata": {},
   "source": [
    "#### <span style=\"font-family: 'NewComputerModernMath';\"> iii is correct. Lasso method is used when model overfits. The method tries to reduce variance by pruning (reducing the magnitude of the parameters)."
   ]
  },
  {
   "cell_type": "markdown",
   "id": "985560f0-0f89-43a0-b5be-7b1b86603f81",
   "metadata": {},
   "source": [
    "#### <span style=\"font-family: 'NewComputerModernMath';\">(b) Repeat (a) for ridge regression relative to least squares.</span>"
   ]
  },
  {
   "cell_type": "markdown",
   "id": "e55ef17d-7ba3-4daf-8646-016a8745c46d",
   "metadata": {
    "jp-MarkdownHeadingCollapsed": true
   },
   "source": [
    "#### <span style=\"font-family: 'NewComputerModernMath';\">The aim of Ridge and Lasso is same. Therefore, answer is same."
   ]
  },
  {
   "cell_type": "markdown",
   "id": "ccc2a65d-c8ea-443b-a15c-f7f81c16d17d",
   "metadata": {},
   "source": [
    "#### <span style=\"font-family: 'NewComputerModernMath';\">(c) Repeat (a) for non-linear methods relative to least squares.</span>\n",
    "</span>"
   ]
  },
  {
   "cell_type": "markdown",
   "id": "99ceb17c-9938-40b8-a67f-613037ffddb4",
   "metadata": {},
   "source": [
    "#### <span style=\"font-family: 'NewComputerModernMath';\"> ii is True: Non-linear methods are flexible than Least Squares. They will be preferred when the current model underfits."
   ]
  },
  {
   "cell_type": "markdown",
   "id": "36cb5525-4008-4344-9a24-8a964835c802",
   "metadata": {},
   "source": [
    "### <span style=\"color: rgb(0, 105, 175);font-family: 'NewComputerModernMath';\">Q3</span>"
   ]
  },
  {
   "cell_type": "markdown",
   "id": "9a811c65-e57d-4900-b8b4-f96c778c72b8",
   "metadata": {},
   "source": [
    "#### <span style=\"font-family: 'NewComputerModernMath';\">**3.** Suppose we estimate the regression coefficients in a linear regression model by minimizing\n",
    "\n",
    "$$\n",
    "\\sum_{i=1}^{n} \\left( y_i - \\beta_0 - \\sum_{j=1}^{p} \\beta_j x_{ij} \\right)^2\n",
    "$$\n",
    "\n",
    "subject to\n",
    "\n",
    "$$\n",
    "\\sum_{j=1}^{p} |\\beta_j| \\leq s\n",
    "$$\n",
    "\n",
    "#### <span style=\"font-family: 'NewComputerModernMath';\">for a particular value of $ s $. For parts (a) through (e), indicate which of **i.** through **v.** is correct. Justify your answer."
   ]
  },
  {
   "cell_type": "markdown",
   "id": "8911b5f0-7636-4999-923f-cc0a1e6ee0f5",
   "metadata": {},
   "source": [
    "#### <span style=\"font-family: 'NewComputerModernMath';\">(a) As we increase $ s $ from 0, the training RSS will:</span>\n",
    "\n",
    "#### <span style=\"font-family: 'NewComputerModernMath';\">&emsp; **i.** Increase initially, and then eventually start decreasing in an inverted U shape.</span>  \n",
    "\n",
    "#### <span style=\"font-family: 'NewComputerModernMath';\">&emsp; **ii.** Decrease initially, and then eventually start increasing in a U shape.</span>  \n",
    "\n",
    "#### <span style=\"font-family: 'NewComputerModernMath';\">&emsp; **iii.** Steadily increase.</span>  \n",
    "\n",
    "#### <span style=\"font-family: 'NewComputerModernMath';\">&emsp; **iv.** Steadily decrease.</span>  \n",
    "\n",
    "#### <span style=\"font-family: 'NewComputerModernMath';\">&emsp; **v.** Remain constant.</span>  "
   ]
  },
  {
   "cell_type": "markdown",
   "id": "6c865be2-33c8-470d-ba97-26a52d48ca5a",
   "metadata": {},
   "source": [
    "##### <span style=\"font-family: 'NewComputerModernMath';\"> Steadily decrease. When s is zero, the all parameters have to be zero. So, it just like we do not predict anything (all prediction is zero) and training error (RSS) will be high. However, RSS starts decreasing while s is increasing because the limit on the parameter values will be more loose. Also since it is about training, RSS will be the lowest point when s in infinite (there will be no limit on parameters)."
   ]
  },
  {
   "cell_type": "markdown",
   "id": "caa6f617-17b8-4ab9-9f4f-ac6b0a1357cf",
   "metadata": {},
   "source": [
    "#### <span style=\"font-family: 'NewComputerModernMath';\">(b) Repeat (a) for test RSS.</span>  "
   ]
  },
  {
   "cell_type": "markdown",
   "id": "e7fa0b1e-513d-41a0-a5c4-d850ddefb7cd",
   "metadata": {},
   "source": [
    "##### <span style=\"font-family: 'NewComputerModernMath';\">Decrease initially, and then eventually start increasing in a U shape: Decrement has the same reason in part (a). However, the model will start to overfit at some point when s is increasing. Therefore, the error starts to increase again at the point that overfitting occurs."
   ]
  },
  {
   "cell_type": "markdown",
   "id": "c1c89103-ba3e-41a7-a77d-24df424a796e",
   "metadata": {},
   "source": [
    "#### <span style=\"font-family: 'NewComputerModernMath';\">(c) Repeat (a) for variance.</span>  "
   ]
  },
  {
   "cell_type": "markdown",
   "id": "5742cb0a-4a27-45d4-bc7d-b38928333374",
   "metadata": {},
   "source": [
    "##### <span style=\"font-family: 'NewComputerModernMath';\"> Steadily increase: The model is getting more flexible while s is increased. So the variance will increase while flexibility is increasing."
   ]
  },
  {
   "cell_type": "markdown",
   "id": "636b3a08-4e37-49dd-a37d-37f03c675139",
   "metadata": {},
   "source": [
    "#### <span style=\"font-family: 'NewComputerModernMath';\">(d) Repeat (a) for (squared) bias.</span>  "
   ]
  },
  {
   "cell_type": "markdown",
   "id": "1ec4c803-bf08-485b-9805-e9c8cd3f9ce5",
   "metadata": {},
   "source": [
    "##### <span style=\"font-family: 'NewComputerModernMath';\"> Steadily decrease: Opposite of variance. The model is getting more flexible while s is increased. So the bias will decrease while flexibility is increasing."
   ]
  },
  {
   "cell_type": "markdown",
   "id": "993d8e0d-6614-465c-a07b-af1ad953106e",
   "metadata": {},
   "source": [
    "#### <span style=\"font-family: 'NewComputerModernMath';\">(e) Repeat (a) for the irreducible error.</span>  \n",
    "</span>"
   ]
  },
  {
   "cell_type": "markdown",
   "id": "6e7cc10c-6c97-43b9-8951-1590d5b8f44c",
   "metadata": {},
   "source": [
    "##### <span style=\"font-family: 'NewComputerModernMath';\"> Remain constant: As the name explains itself, Irreducible error cannot be affected by the model. Whatever model is, irreducible error will be same."
   ]
  },
  {
   "cell_type": "markdown",
   "id": "a7bdf245-3453-4b04-85d6-b0e6cef4b995",
   "metadata": {},
   "source": [
    "### <span style=\"color: rgb(0, 105, 175);font-family: 'NewComputerModernMath';\">Q4</span>"
   ]
  },
  {
   "cell_type": "markdown",
   "id": "0e947773-e31f-4ab4-8acf-90f6f73ac018",
   "metadata": {},
   "source": [
    "#### <span style=\"font-family: 'NewComputerModernMath';\">**4.** Suppose we estimate the regression coefficients in a linear regression model by minimizing\n",
    "\n",
    "$$\n",
    "\\sum_{i=1}^{n} \\left( y_i - \\beta_0 - \\sum_{j=1}^{p} \\beta_j x_{ij} \\right)^2 + \\lambda \\sum_{j=1}^{p} \\beta_j^2\n",
    "$$\n",
    "\n",
    "#### <span style=\"font-family: 'NewComputerModernMath';\">for a particular value of $ \\lambda $. For parts (a) through (e), indicate which of **i.** through **v.** is correct. Justify your answer."
   ]
  },
  {
   "cell_type": "markdown",
   "id": "d4f079f7-c08d-4ddc-935c-e5b77c368314",
   "metadata": {},
   "source": [
    "#### <span style=\"font-family: 'NewComputerModernMath';\">(a) As we increase $ \\lambda $ from 0, the training RSS will:</span>\n",
    "\n",
    "#### <span style=\"font-family: 'NewComputerModernMath';\">&emsp; **i.** Increase initially, and then eventually start decreasing in an inverted U shape.</span>  \n",
    "\n",
    "#### <span style=\"font-family: 'NewComputerModernMath';\">&emsp; **ii.** Decrease initially, and then eventually start increasing in a U shape.</span>  \n",
    "\n",
    "#### <span style=\"font-family: 'NewComputerModernMath';\">&emsp; **iii.** Steadily increase.</span>  \n",
    "\n",
    "#### <span style=\"font-family: 'NewComputerModernMath';\">&emsp; **iv.** Steadily decrease.</span>  \n",
    "\n",
    "#### <span style=\"font-family: 'NewComputerModernMath';\">&emsp; **v.** Remain constant.</span>  "
   ]
  },
  {
   "cell_type": "markdown",
   "id": "8c8a3330-4681-45db-9226-d7ca9d7c6ee0",
   "metadata": {},
   "source": [
    "##### <span style=\"font-family: 'NewComputerModernMath';\"> Steadily increase: This time, lambda affects the magnitude of the parameters. So if lambda increases, the effect of the magnitude of the parameters on the error will increase. Therefore, the model is getting less flexible while lamda is increasing. Less flexible models tend to produce bigger RSS values. "
   ]
  },
  {
   "cell_type": "markdown",
   "id": "11215caa-ac65-4c91-bf7d-2fd7d1843b97",
   "metadata": {},
   "source": [
    "#### <span style=\"font-family: 'NewComputerModernMath';\">(b) Repeat (a) for test RSS.</span>  "
   ]
  },
  {
   "cell_type": "markdown",
   "id": "2d90bccd-8891-461a-a1f4-314b619f1b62",
   "metadata": {},
   "source": [
    "##### <span style=\"font-family: 'NewComputerModernMath';\">Decrease initially, and then eventually start increasing in a U shape: While lambda is zero, the model will be at the peak in terms of flexibility. So it will overfit produce high RSS result. However, a big lambda value has also produce high RSS because it will overfit. When lambda is at optimum value, RSS will be low. Therefore, it will plot an U shape."
   ]
  },
  {
   "cell_type": "markdown",
   "id": "e5408dd9-af3f-4664-9242-8b5dbbcfd0ea",
   "metadata": {},
   "source": [
    "#### <span style=\"font-family: 'NewComputerModernMath';\">(c) Repeat (a) for variance.</span>  "
   ]
  },
  {
   "cell_type": "markdown",
   "id": "28e33226-0197-4253-b390-f4f356de00a9",
   "metadata": {},
   "source": [
    "##### <span style=\"font-family: 'NewComputerModernMath';\">Stadily decrease: The less flexibility, the less variance."
   ]
  },
  {
   "cell_type": "markdown",
   "id": "8d35d821-2f1f-468b-b044-66b57cdd7b2d",
   "metadata": {},
   "source": [
    "#### <span style=\"font-family: 'NewComputerModernMath';\">(d) Repeat (a) for (squared) bias.</span>  "
   ]
  },
  {
   "cell_type": "markdown",
   "id": "22ef80c1-8edd-4c72-b4fb-05522fa4ccfb",
   "metadata": {},
   "source": [
    "##### <span style=\"font-family: 'NewComputerModernMath';\">Stadily decrease: The less flexibility, the more bias."
   ]
  },
  {
   "cell_type": "markdown",
   "id": "d6e42632-d214-4241-8e64-d0f34f321777",
   "metadata": {},
   "source": [
    "#### <span style=\"font-family: 'NewComputerModernMath';\">(e) Repeat (a) for the irreducible error.</span>  \n",
    "</span>"
   ]
  },
  {
   "cell_type": "markdown",
   "id": "7c66d423-a83e-42f1-8ee6-d585cf91ddeb",
   "metadata": {},
   "source": [
    "##### <span style=\"font-family: 'NewComputerModernMath';\"> Remain constant: Again, as the name explains itself, Irreducible error cannot be affected by the model. Whatever model is, irreducible error will be same."
   ]
  },
  {
   "cell_type": "markdown",
   "id": "6a51c3f5-e5a5-4760-b62e-957ec16762e7",
   "metadata": {},
   "source": [
    "### <span style=\"color: rgb(0, 105, 175);font-family: 'NewComputerModernMath';\">Q5</span>"
   ]
  },
  {
   "cell_type": "markdown",
   "id": "31d0810c-49ba-4a96-861d-db106f333159",
   "metadata": {},
   "source": [
    "#### <span style=\"font-family: 'NewComputerModernMath';\">**5.** It is well-known that ridge regression tends to give similar coefficient values to correlated variables, whereas the lasso may give quite different coefficient values to correlated variables. We will now explore this property in a very simple setting.\n",
    "\n",
    "#### <span style=\"font-family: 'NewComputerModernMath';\"> Suppose that $ n = 2 $, $ p = 2 $, $ x_{11} = x_{12} $, $ x_{21} = x_{22} $. Furthermore, suppose that $ y_1 + y_2 = 0 $ and $ x_{11} + x_{21} = 0 $ and $ x_{12} + x_{22} = 0 $, so that the estimate for the intercept in a least squares, ridge regression, or lasso model is zero: $ \\hat{\\beta}_0 = 0 $."
   ]
  },
  {
   "cell_type": "markdown",
   "id": "5096df82-55fb-404b-8820-7bace209096e",
   "metadata": {},
   "source": [
    "#### <span style=\"font-family: 'NewComputerModernMath';\">(a) Write out the ridge regression optimization problem in this setting.</span>"
   ]
  },
  {
   "cell_type": "markdown",
   "id": "a79eb2b6-e986-4b7a-a5f6-d2dc710e96b3",
   "metadata": {},
   "source": [
    "#### <span style=\"font-family: 'NewComputerModernMath';\">(b) Argue that in this setting, the ridge coefficient estimates satisfy $ \\hat{\\beta}_1 = \\hat{\\beta}_2 $.</span>"
   ]
  },
  {
   "cell_type": "markdown",
   "id": "05e120d6-d41f-463c-a883-9c3d47a65a8a",
   "metadata": {},
   "source": [
    "#### <span style=\"font-family: 'NewComputerModernMath';\">(c) Write out the lasso optimization problem in this setting.</span>"
   ]
  },
  {
   "cell_type": "markdown",
   "id": "8bc3de96-11e6-463d-a452-dca9eaa89701",
   "metadata": {},
   "source": [
    "#### <span style=\"font-family: 'NewComputerModernMath';\">(d) Argue that in this setting, the lasso coefficients $ \\hat{\\beta}_1 $ and $ \\hat{\\beta}_2 $ are not unique—in other words, there are many possible solutions to the optimization problem in (c). Describe these solutions.</span>"
   ]
  },
  {
   "cell_type": "markdown",
   "id": "181fa407-6dd3-4533-a0c7-140663e767b8",
   "metadata": {},
   "source": [
    "<span style=\"font-family: 'NewComputerModernMath';\">**Solution to Lasso and Ridge Regression Optimization Problems**\n",
    "\n",
    "---\n",
    "\n",
    "<span style=\"font-family: 'NewComputerModernMath';\">**(a) Ridge Regression Optimization Problem**\n",
    "\n",
    "<span style=\"font-family: 'NewComputerModernMath';\">Ridge regression minimizes the following objective function:\n",
    "\n",
    "$$\n",
    "\\text{Minimize:} \\quad \\sum_{i=1}^{n} \\left( y_i - \\beta_0 - \\beta_1 x_{i1} - \\beta_2 x_{i2} \\right)^2 + \\lambda \\left( \\beta_1^2 + \\beta_2^2 \\right)\n",
    "$$\n",
    "\n",
    "<span style=\"font-family: 'NewComputerModernMath';\">Here:\n",
    "\n",
    "- $ n = 2 $, $ p = 2 $, and $ \\beta_0 = 0 $ (as given in the problem).\n",
    "- The data constraints are:\n",
    "  - $ x_{11} = x_{12} $ and $ x_{21} = x_{22} $,\n",
    "  - $ y_1 + y_2 = 0 $,\n",
    "  - $ x_{11} + x_{21} = 0 $ and $ x_{12} + x_{22} = 0 $.\n",
    "\n",
    "<span style=\"font-family: 'NewComputerModernMath';\">Substituting these constraints, the ridge regression optimization problem becomes:\n",
    "\n",
    "$$\n",
    "\\text{Minimize:} \\quad (y_1 - \\beta_1 x_{11} - \\beta_2 x_{11})^2 + (y_2 - \\beta_1 x_{21} - \\beta_2 x_{21})^2 + \\lambda \\left( \\beta_1^2 + \\beta_2^2 \\right).\n",
    "$$\n",
    "\n",
    "---\n",
    "\n",
    "<span style=\"font-family: 'NewComputerModernMath';\">**(b) Ridge Coefficient Estimates Satisfy $ \\hat{\\beta}_1 = \\hat{\\beta}_2 $**\n",
    "\n",
    "<span style=\"font-family: 'NewComputerModernMath';\">From the data constraints:\n",
    "\n",
    "1. $ x_{11} = x_{12} $ and $ x_{21} = x_{22} $,\n",
    "2. $ x_{11} + x_{21} = 0 $, so $ x_{21} = -x_{11} $.\n",
    "\n",
    "<span style=\"font-family: 'NewComputerModernMath';\">Substituting $ x_{21} = -x_{11} $ into the ridge regression objective function:\n",
    "\n",
    "$$\n",
    "\\text{Minimize:} \\quad (y_1 - \\beta_1 x_{11} - \\beta_2 x_{11})^2 + (y_2 - \\beta_1 (-x_{11}) - \\beta_2 (-x_{11}))^2 + \\lambda \\left( \\beta_1^2 + \\beta_2^2 \\right).\n",
    "$$\n",
    "\n",
    "<span style=\"font-family: 'NewComputerModernMath';\">Simplifying the second term using $ y_2 = -y_1 $ (since $ y_1 + y_2 = 0 $):\n",
    "\n",
    "$$\n",
    "(-y_1 + \\beta_1 x_{11} + \\beta_2 x_{11})^2 = (y_1 - \\beta_1 x_{11} - \\beta_2 x_{11})^2.\n",
    "$$\n",
    "\n",
    "<span style=\"font-family: 'NewComputerModernMath';\">Thus, the objective function becomes:\n",
    "\n",
    "$$\n",
    "\\text{Minimize:} \\quad 2 (y_1 - \\beta_1 x_{11} - \\beta_2 x_{11})^2 + \\lambda \\left( \\beta_1^2 + \\beta_2^2 \\right).\n",
    "$$\n",
    "\n",
    "Let $ \\beta_1 = \\beta_2 = \\beta $. Substituting into the objective function:\n",
    "\n",
    "$$\n",
    "\\text{Minimize:} \\quad 2 (y_1 - 2\\beta x_{11})^2 + \\lambda (2\\beta^2).\n",
    "$$\n",
    "\n",
    "<span style=\"font-family: 'NewComputerModernMath';\">This is symmetric in $ \\beta_1 $ and $ \\beta_2 $, so the minimum occurs when $ \\beta_1 = \\beta_2 $.\n",
    "\n",
    "---\n",
    "\n",
    "<span style=\"font-family: 'NewComputerModernMath';\">**(c) Lasso Optimization Problem**\n",
    "\n",
    "<span style=\"font-family: 'NewComputerModernMath';\">The lasso optimization problem minimizes:\n",
    "\n",
    "$$\n",
    "\\text{Minimize:} \\quad \\sum_{i=1}^{n} \\left( y_i - \\beta_0 - \\beta_1 x_{i1} - \\beta_2 x_{i2} \\right)^2 + \\lambda \\left( |\\beta_1| + |\\beta_2| \\right).\n",
    "$$\n",
    "\n",
    "<span style=\"font-family: 'NewComputerModernMath';\">Substituting the constraints ($ \\beta_0 = 0 $, $ x_{11} = x_{12} $, $ x_{21} = x_{22} $, $ y_1 + y_2 = 0 $, $ x_{11} + x_{21} = 0 $), the lasso optimization problem becomes:\n",
    "\n",
    "$$\n",
    "\\text{Minimize:} \\quad (y_1 - \\beta_1 x_{11} - \\beta_2 x_{11})^2 + (y_2 - \\beta_1 x_{21} - \\beta_2 x_{21})^2 + \\lambda (|\\beta_1| + |\\beta_2|).\n",
    "$$\n",
    "\n",
    "<span style=\"font-family: 'NewComputerModernMath';\">Using $ x_{21} = -x_{11} $ and $ y_2 = -y_1 $, this simplifies to:\n",
    "\n",
    "$$\n",
    "\\text{Minimize:} \\quad 2 (y_1 - \\beta_1 x_{11} - \\beta_2 x_{11})^2 + \\lambda (|\\beta_1| + |\\beta_2|).\n",
    "$$\n",
    "\n",
    "---\n",
    "\n",
    "<span style=\"font-family: 'NewComputerModernMath';\">**(d) Lasso Coefficients $ \\hat{\\beta}_1 $ and $ \\hat{\\beta}_2 $ are Not Unique**\n",
    "\n",
    "<span style=\"font-family: 'NewComputerModernMath';\">The lasso objective function is:\n",
    "\n",
    "$$\n",
    "\\text{Minimize:} \\quad 2 (y_1 - \\beta_1 x_{11} - \\beta_2 x_{11})^2 + \\lambda (|\\beta_1| + |\\beta_2|).\n",
    "$$\n",
    "\n",
    "<span style=\"font-family: 'NewComputerModernMath';\">Let $ \\beta_1 + \\beta_2 = c $, where $ c $ is a constant determined by the data. The objective function becomes:\n",
    "\n",
    "$$\n",
    "\\text{Minimize:} \\quad 2 (y_1 - c x_{11})^2 + \\lambda (|\\beta_1| + |\\beta_2|).\n",
    "$$\n",
    "\n",
    "<span style=\"font-family: 'NewComputerModernMath';\">The term $ 2 (y_1 - c x_{11})^2 $ is fixed for a given $ c $, so the optimization reduces to minimizing $ |\\beta_1| + |\\beta_2| $ subject to $ \\beta_1 + \\beta_2 = c $.\n",
    "\n",
    "<span style=\"font-family: 'NewComputerModernMath';\">This problem has infinitely many solutions. For example:\n",
    "\n",
    "- If $ c > 0 $, one solution is $ \\beta_1 = c $, $ \\beta_2 = 0 $.\n",
    "- Another solution is $ \\beta_1 = 0 $, $ \\beta_2 = c $.\n",
    "- Any convex combination $ \\beta_1 = tc $, $ \\beta_2 = (1 - t)c $ for $ t \\in [0,1] $ also satisfies the constraint and minimizes the penalty term $ |\\beta_1| + |\\beta_2| $.\n",
    "\n",
    "<span style=\"font-family: 'NewComputerModernMath';\">Thus, the lasso coefficients $ \\hat{\\beta}_1 $ and $ \\hat{\\beta}_2 $ **are not unique**.\n",
    "\n",
    "</span>\n"
   ]
  },
  {
   "cell_type": "markdown",
   "id": "cb68bbeb-c32a-4e19-ba71-cceaf354524b",
   "metadata": {},
   "source": [
    "### <span style=\"color: rgb(0, 105, 175);font-family: 'NewComputerModernMath';\">Q6</span>"
   ]
  },
  {
   "cell_type": "markdown",
   "id": "7ea373f6-0e83-4ab4-a5d1-f6b26551b5ee",
   "metadata": {},
   "source": [
    "#### <span style=\"font-family: 'NewComputerModernMath';\">**6.** We will now explore (6.12) and (6.13) further.\n",
    "![Dataset](e6_6-12_6-13.png)\n",
    "![Dataset](e6_6-14_6-15.png)"
   ]
  },
  {
   "cell_type": "markdown",
   "id": "349474cc-52cf-4294-84d5-fb10aa5793b3",
   "metadata": {},
   "source": [
    "#### <span style=\"font-family: 'NewComputerModernMath';\">(a) Consider (6.12) with $ p = 1 $. For some choice of $ y_1 $ and $ \\lambda > 0 $, plot (6.12) as a function of $ \\beta_1 $. Your plot should confirm that (6.12) is solved by (6.14).</span>"
   ]
  },
  {
   "cell_type": "code",
   "execution_count": 3,
   "id": "5463e8e0-3fa6-4362-ac26-46cbc90411ee",
   "metadata": {},
   "outputs": [
    {
     "data": {
      "image/png": "[encoded data removed]",
      "text/plain": [
       "<Figure size 640x480 with 1 Axes>"
      ]
     },
     "metadata": {},
     "output_type": "display_data"
    }
   ],
   "source": [
    "import numpy as np\n",
    "import matplotlib.pyplot as plt\n",
    "\n",
    "y1 = np.random.randint(low=1, high=100)\n",
    "lamb = np.random.randint(low=1, high=100)\n",
    "beta = np.arange(-100,100,.1)\n",
    "\n",
    "y = (y1 - beta)**2 + lamb*beta**2 \n",
    "\n",
    "min_beta = y1/(1+lamb)\n",
    "y_min = (y1 - min_beta)**2 + lamb*min_beta**2 \n",
    "plt.plot(beta,y);\n",
    "plt.plot(min_beta, y_min, 'ro');"
   ]
  },
  {
   "cell_type": "markdown",
   "id": "2d5c6f34-deec-4251-a06c-0a9c4dbf35a0",
   "metadata": {},
   "source": [
    "#### <span style=\"font-family: 'NewComputerModernMath';\">(b) Consider (6.13) with $ p = 1 $. For some choice of $ y_1 $ and $ \\lambda > 0 $, plot (6.13) as a function of $ \\beta_1 $. Your plot should confirm that (6.13) is solved by (6.15).</span>"
   ]
  },
  {
   "cell_type": "code",
   "execution_count": 4,
   "id": "57130151-450a-43e9-b4ea-fa524108e515",
   "metadata": {},
   "outputs": [
    {
     "data": {
      "image/png": "[encoded data removed]",
      "text/plain": [
       "<Figure size 640x480 with 1 Axes>"
      ]
     },
     "metadata": {},
     "output_type": "display_data"
    }
   ],
   "source": [
    "y1 = np.random.randint(low=1, high=100)\n",
    "lamb = np.random.randint(low=1, high=100)\n",
    "beta = np.arange(1,100,.1)\n",
    "\n",
    "y = (y1 - beta)**2 + lamb*abs(beta)\n",
    "\n",
    "min_beta = y1 - (lamb/2)\n",
    "y_min = (y1 - min_beta)**2 + lamb*abs(min_beta)\n",
    "plt.plot(beta,y);\n",
    "plt.plot(min_beta, y_min, 'ro');"
   ]
  },
  {
   "cell_type": "markdown",
   "id": "a110f799-ab0b-4a8b-9bf6-ee397bb4e8c1",
   "metadata": {},
   "source": [
    "### <span style=\"color: rgb(0, 105, 175);font-family: 'NewComputerModernMath';\">Q7</span>"
   ]
  },
  {
   "cell_type": "markdown",
   "id": "3e651538-1b08-4a7a-8b31-94d13f645bb9",
   "metadata": {
    "jp-MarkdownHeadingCollapsed": true
   },
   "source": [
    "#### <span style=\"font-family: 'NewComputerModernMath';\">**7.** We will now derive the Bayesian connection to the lasso and ridge regression discussed in Section 6.2.2."
   ]
  },
  {
   "cell_type": "markdown",
   "id": "e0bfad8e-a4e4-4b2c-8d38-bbd560ba2d8b",
   "metadata": {},
   "source": [
    "#### <span style=\"font-family: 'NewComputerModernMath';\">(a) Suppose that $ y_i = \\beta_0 + \\sum_{j=1}^{p} x_{ij} \\beta_j + \\epsilon_i $ where $ \\epsilon_1, \\dots, \\epsilon_n $ are independent and identically distributed from a $ N(0, \\sigma^2) $ distribution. Write out the likelihood for the data.</span>"
   ]
  },
  {
   "cell_type": "markdown",
   "id": "00dd8820-76f5-4831-a011-75bff85d4ade",
   "metadata": {},
   "source": [
    "#### <span style=\"font-family: 'NewComputerModernMath';\">(b) Assume the following prior for $ \\beta $: $ \\beta_1, \\dots, \\beta_p $ are independent and identically distributed according to a double-exponential distribution with mean 0 and common scale parameter $ b $: i.e. $ p(\\beta) = \\frac{1}{2b} \\exp(-|\\beta|/b) $. Write out the posterior for $ \\beta $ in this setting.</span>"
   ]
  },
  {
   "cell_type": "markdown",
   "id": "f7824624-72c8-4ce7-a58a-e98d1c20af63",
   "metadata": {},
   "source": [
    "#### <span style=\"font-family: 'NewComputerModernMath';\">(c) Argue that the lasso estimate is the **mode** for $ \\beta $ under this posterior distribution.</span>"
   ]
  },
  {
   "cell_type": "markdown",
   "id": "f02ccace-f1ab-4104-b558-7af0d288c037",
   "metadata": {},
   "source": [
    "#### <span style=\"font-family: 'NewComputerModernMath';\">(d) Now assume the following prior for $ \\beta $: $ \\beta_1, \\dots, \\beta_p $ are independent and identically distributed according to a normal distribution with mean zero and variance $ c $. Write out the posterior for $ \\beta $ in this setting.</span>"
   ]
  },
  {
   "cell_type": "markdown",
   "id": "3b3460af-b007-4005-bc1f-ce2a1580ad36",
   "metadata": {},
   "source": [
    "#### <span style=\"font-family: 'NewComputerModernMath';\">(e) Argue that the ridge regression estimate is both the **mode** and the **mean** for $ \\beta $ under this posterior distribution.</span>\n",
    "</span>"
   ]
  },
  {
   "cell_type": "markdown",
   "id": "fd77d357-02f3-4251-be2e-bbc3ddf6b8e2",
   "metadata": {},
   "source": [
    "# <span style=\"color: rgb(0, 105, 175);font-family: 'NewComputerModernMath';\">*Applied*</span>"
   ]
  },
  {
   "cell_type": "markdown",
   "id": "027d20d5-f9c9-4d30-9a69-016eace7ec6c",
   "metadata": {},
   "source": [
    "### <span style=\"color: rgb(0, 105, 175);font-family: 'NewComputerModernMath';\">Q8</span>"
   ]
  },
  {
   "cell_type": "code",
   "execution_count": 5,
   "id": "367582bd-ba66-4f4a-b031-84925eb8a992",
   "metadata": {},
   "outputs": [
    {
     "name": "stdout",
     "output_type": "stream",
     "text": [
      "Requirement already satisfied: l0bnb in /Users/bahadirakdemir/miniconda3/envs/ISLP/lib/python3.10/site-packages (1.0.0)\n",
      "Requirement already satisfied: numpy>=1.18.1 in /Users/bahadirakdemir/miniconda3/envs/ISLP/lib/python3.10/site-packages (from l0bnb) (1.26.4)\n",
      "Requirement already satisfied: scipy>=1.4.1 in /Users/bahadirakdemir/miniconda3/envs/ISLP/lib/python3.10/site-packages (from l0bnb) (1.11.4)\n",
      "Requirement already satisfied: numba>=0.53.1 in /Users/bahadirakdemir/miniconda3/envs/ISLP/lib/python3.10/site-packages (from l0bnb) (0.61.0)\n",
      "Requirement already satisfied: llvmlite<0.45,>=0.44.0dev0 in /Users/bahadirakdemir/miniconda3/envs/ISLP/lib/python3.10/site-packages (from numba>=0.53.1->l0bnb) (0.44.0)\n"
     ]
    }
   ],
   "source": [
    "import numpy as np\n",
    "import pandas as pd\n",
    "from matplotlib .pyplot import subplots\n",
    "from statsmodels .api import OLS\n",
    "import sklearn. model_selection as skm\n",
    "import sklearn. linear_model as skl\n",
    "from sklearn. preprocessing import StandardScaler\n",
    "from ISLP import load_data\n",
    "from ISLP.models import ModelSpec as MS\n",
    "from functools import partial\n",
    "from sklearn. pipeline import Pipeline\n",
    "from sklearn. decomposition import PCA\n",
    "from sklearn. cross_decomposition import PLSRegression\n",
    "from ISLP.models import \\\n",
    "    (Stepwise ,\n",
    "    sklearn_selected ,\n",
    "    sklearn_selection_path )\n",
    "!pip install l0bnb\n",
    "from l0bnb import fit_path"
   ]
  },
  {
   "cell_type": "markdown",
   "id": "ee3d4f8e-368e-4067-8b40-3c497bad7f4f",
   "metadata": {},
   "source": [
    "#### <span style=\"font-family: 'NewComputerModernMath';\">**8.** In this exercise, we will generate simulated data, and will then use this data to perform forward and backward stepwise selection."
   ]
  },
  {
   "cell_type": "markdown",
   "id": "2d46643b-ae6f-4d5b-8f7d-d7e8c52e66f7",
   "metadata": {},
   "source": [
    "#### <span style=\"font-family: 'NewComputerModernMath';\">(a) Create a random number generator and use its <span style=\"color: rgb(145, 75, 40);\">normal()</span> method to generate a predictor $ X $ of length $ n = 100 $, as well as a noise vector $ \\epsilon $ of length $ n = 100 $.</span>"
   ]
  },
  {
   "cell_type": "code",
   "execution_count": 6,
   "id": "ad34dd50-a518-474f-825e-db366407147d",
   "metadata": {},
   "outputs": [],
   "source": [
    "np.random.seed(42)\n",
    "\n",
    "n = 100\n",
    "\n",
    "X = np.random.normal(loc=0, scale=1, size=n)\n",
    "\n",
    "epsilon = np.random.normal(loc=0, scale=1, size=n)"
   ]
  },
  {
   "cell_type": "markdown",
   "id": "8d062b27-a15e-4dcf-8504-a22ffc82dbca",
   "metadata": {},
   "source": [
    "#### <span style=\"font-family: 'NewComputerModernMath';\">(b) Generate a response vector $ Y $ of length $ n = 100 $ according to the model</span>\n",
    "\n",
    "$$\n",
    "Y = \\beta_0 + \\beta_1 X + \\beta_2 X^2 + \\beta_3 X^3 + \\epsilon,\n",
    "$$\n",
    "\n",
    "#### <span style=\"font-family: 'NewComputerModernMath';\">where $ \\beta_0, \\beta_1, \\beta_2, $ and $ \\beta_3 $ are constants of your choice.</span>"
   ]
  },
  {
   "cell_type": "code",
   "execution_count": 7,
   "id": "d8cf97fc-cbbf-4587-a95b-7ff952cdca88",
   "metadata": {},
   "outputs": [],
   "source": [
    "y = 1 + 2*X + 3*(X**2) + 4*(X**3) + epsilon # b0 -> 1 / b1 -> 2 / b2 -> 3 / b3 -> 4"
   ]
  },
  {
   "cell_type": "markdown",
   "id": "837455a7-f739-4f2c-ba33-9ef6ab14a54a",
   "metadata": {},
   "source": [
    "#### <span style=\"font-family: 'NewComputerModernMath';\">(c) Use forward stepwise selection in order to select a model containing the predictors $ X, X^2, \\dots, X^{10} $. What is the model obtained according to $ C_p $? Report the coefficients of the model obtained.</span>"
   ]
  },
  {
   "cell_type": "code",
   "execution_count": 8,
   "id": "1772881d-0f6f-4607-a002-d38e0c4a5419",
   "metadata": {},
   "outputs": [],
   "source": [
    "df = pd.DataFrame({'X': X})\n",
    "for i in range(2, 11):  # Generate X^2 to X^10\n",
    "    df[f'X^{i}'] = X ** i\n",
    "\n",
    "df['y'] = y"
   ]
  },
  {
   "cell_type": "code",
   "execution_count": 9,
   "id": "4779d460-48fb-4335-af75-4ee73d411ff4",
   "metadata": {},
   "outputs": [
    {
     "name": "stdout",
     "output_type": "stream",
     "text": [
      "Selected Features (Forward Selection with nCp): ['X^3', 'X^2', 'X', 'intercept']\n"
     ]
    }
   ],
   "source": [
    "import numpy as np\n",
    "import pandas as pd\n",
    "import statsmodels.api as sm\n",
    "from itertools import combinations\n",
    "\n",
    "# Define nCp function\n",
    "def nCp(sigma2, estimator, X, Y):\n",
    "    n, p = X.shape\n",
    "    Yhat = estimator.predict(X)\n",
    "    RSS = np.sum((Y - Yhat) ** 2)\n",
    "    return -(RSS + 2 * p * sigma2) / n\n",
    "\n",
    "# Forward Selection using nCp\n",
    "def forward_selection_nCp(design, df):\n",
    "    feature_names = list(design.transform(df).columns)\n",
    "    selected_features = []\n",
    "    Y = np.array(df['y'])\n",
    "    sigma2 = sm.OLS(Y, design.transform(df).values).fit().scale  # Compute variance\n",
    "    \n",
    "    best_nCp = float('-inf')\n",
    "\n",
    "    while len(selected_features) < len(feature_names):\n",
    "        best_feature = None\n",
    "        for feature in feature_names:\n",
    "            if feature not in selected_features:\n",
    "                temp_features = selected_features + [feature]\n",
    "                selected_indices = [feature_names.index(f) for f in temp_features]\n",
    "                X_temp = design.transform(df).values[:, selected_indices]  # Ensure NumPy array indexing\n",
    "                \n",
    "                model_temp = sm.OLS(Y, X_temp).fit()\n",
    "                nCp_temp = nCp(sigma2, model_temp, X_temp, Y)\n",
    "                \n",
    "                if nCp_temp > best_nCp:\n",
    "                    best_nCp = nCp_temp\n",
    "                    best_feature = feature\n",
    "\n",
    "        if best_feature:\n",
    "            selected_features.append(best_feature)\n",
    "        else:\n",
    "            break\n",
    "\n",
    "    return selected_features\n",
    "\n",
    "# Example Usage\n",
    "design = MS(df.columns.drop('y')).fit(df)  # Define design matrix\n",
    "selected_features_forward = forward_selection_nCp(design, df)\n",
    "print(\"Selected Features (Forward Selection with nCp):\", selected_features_forward)\n"
   ]
  },
  {
   "cell_type": "markdown",
   "id": "cdfbf9bd-4273-4d78-bebe-b8e7ef8f4f10",
   "metadata": {},
   "source": [
    "#### <span style=\"font-family: 'NewComputerModernMath';\">(d) Repeat (c), using backwards stepwise selection. How does your answer compare to the results in (c)?</span>"
   ]
  },
  {
   "cell_type": "code",
   "execution_count": 10,
   "id": "22480fa0-ff6b-4c76-8fdf-6f7ba1ed3240",
   "metadata": {},
   "outputs": [
    {
     "name": "stdout",
     "output_type": "stream",
     "text": [
      "Selected Features (Backward Elimination with nCp): ['intercept', 'X', 'X^2', 'X^3']\n"
     ]
    }
   ],
   "source": [
    "# Backward Elimination using nCp\n",
    "def backward_elimination_nCp(design, df):\n",
    "    X = design.transform(df).values  # Convert to NumPy array\n",
    "    Y = np.array(df['y'])\n",
    "    sigma2 = sm.OLS(Y, X).fit().scale  # Compute variance\n",
    "    \n",
    "    # Extract feature names correctly\n",
    "    feature_names = list(design.transform(df).columns)\n",
    "    #print(\"Initial Feature Names:\", feature_names)\n",
    "\n",
    "    best_nCp = float('-inf')\n",
    "    \n",
    "    while len(feature_names) > 1:\n",
    "        worst_feature = None\n",
    "        #print(\"------\")\n",
    "        for feature in feature_names:\n",
    "            temp_columns = [f for f in feature_names if f != feature]\n",
    "            #print(temp_columns)\n",
    "            selected_indices = [feature_names.index(f) for f in temp_columns]  # Get correct indices\n",
    "            X_temp = X[:, selected_indices]  # Subset columns\n",
    "            \n",
    "            model_temp = sm.OLS(Y, X_temp).fit()\n",
    "            nCp_temp = nCp(sigma2, model_temp, X_temp, Y)\n",
    "            \n",
    "            if nCp_temp > best_nCp:\n",
    "                best_nCp = nCp_temp\n",
    "                worst_feature = feature\n",
    "\n",
    "        if worst_feature is not None:\n",
    "            feature_names.remove(worst_feature)  # Remove feature name\n",
    "        else:\n",
    "            break\n",
    "\n",
    "    return feature_names\n",
    "    \n",
    "selected_features_backward = backward_elimination_nCp(design, df)\n",
    "print(\"Selected Features (Backward Elimination with nCp):\", selected_features_backward)"
   ]
  },
  {
   "cell_type": "markdown",
   "id": "534d93cd-af4a-41ed-9b00-f035c8c6175f",
   "metadata": {},
   "source": [
    "#### <span style=\"font-family: 'NewComputerModernMath';\">(e) Now fit a lasso model to the simulated data, again using $ X, X^2, \\dots, X^{10} $ as predictors. Use cross-validation to select the optimal value of $ \\lambda $. Create plots of the cross-validation error as a function of $ \\lambda $. Report the resulting coefficient estimates, and discuss the results obtained.</span>"
   ]
  },
  {
   "cell_type": "code",
   "execution_count": 11,
   "id": "bda36f3d-aede-4c1d-b172-5a6df9841747",
   "metadata": {},
   "outputs": [],
   "source": [
    "import numpy as np\n",
    "import pandas as pd\n",
    "import matplotlib.pyplot as plt\n",
    "from sklearn.linear_model import Lasso\n",
    "from sklearn.preprocessing import StandardScaler\n",
    "from sklearn.pipeline import Pipeline\n",
    "from sklearn.model_selection import GridSearchCV"
   ]
  },
  {
   "cell_type": "code",
   "execution_count": 12,
   "id": "59561562-b67f-4fc7-b131-c888cf55e815",
   "metadata": {},
   "outputs": [],
   "source": [
    "pipeline = Pipeline([\n",
    "    ('scaler', StandardScaler()),  # Standardizes features\n",
    "    ('lasso', Lasso(max_iter=10000))  # Lasso with increased max_iter for convergence\n",
    "])"
   ]
  },
  {
   "cell_type": "code",
   "execution_count": 13,
   "id": "a3ecf45c-0c43-4f68-a948-fea813f0eddc",
   "metadata": {},
   "outputs": [],
   "source": [
    "alphas = np.logspace(-4, 4, 100)  # Log-spaced alphas from 10^-4 to 10^4"
   ]
  },
  {
   "cell_type": "code",
   "execution_count": 14,
   "id": "e3f01f22-c94b-400e-a535-fe59456cf53c",
   "metadata": {},
   "outputs": [],
   "source": [
    "import warnings\n",
    "from sklearn.exceptions import ConvergenceWarning\n",
    "\n",
    "warnings.filterwarnings(\"ignore\", category=ConvergenceWarning) #To hide warnings due to the small lambda values (Converge Warning)\n",
    "\n",
    "grid_search = GridSearchCV(\n",
    "    estimator=pipeline,\n",
    "    param_grid={'lasso__alpha': alphas},\n",
    "    cv=10,  # 5-fold cross-validation\n",
    "    scoring='neg_mean_squared_error',  # Use MSE for evaluation\n",
    "    return_train_score=True\n",
    ")"
   ]
  },
  {
   "cell_type": "code",
   "execution_count": 15,
   "id": "50b2806e-9764-4bce-841e-f684a019d5f1",
   "metadata": {},
   "outputs": [
    {
     "data": {
      "text/html": [
       "<style>#sk-container-id-1 {\n",
       "  /* Definition of color scheme common for light and dark mode */\n",
       "  --sklearn-color-text: #000;\n",
       "  --sklearn-color-text-muted: #666;\n",
       "  --sklearn-color-line: gray;\n",
       "  /* Definition of color scheme for unfitted estimators */\n",
       "  --sklearn-color-unfitted-level-0: #fff5e6;\n",
       "  --sklearn-color-unfitted-level-1: #f6e4d2;\n",
       "  --sklearn-color-unfitted-level-2: #ffe0b3;\n",
       "  --sklearn-color-unfitted-level-3: chocolate;\n",
       "  /* Definition of color scheme for fitted estimators */\n",
       "  --sklearn-color-fitted-level-0: #f0f8ff;\n",
       "  --sklearn-color-fitted-level-1: #d4ebff;\n",
       "  --sklearn-color-fitted-level-2: #b3dbfd;\n",
       "  --sklearn-color-fitted-level-3: cornflowerblue;\n",
       "\n",
       "  /* Specific color for light theme */\n",
       "  --sklearn-color-text-on-default-background: var(--sg-text-color, var(--theme-code-foreground, var(--jp-content-font-color1, black)));\n",
       "  --sklearn-color-background: var(--sg-background-color, var(--theme-background, var(--jp-layout-color0, white)));\n",
       "  --sklearn-color-border-box: var(--sg-text-color, var(--theme-code-foreground, var(--jp-content-font-color1, black)));\n",
       "  --sklearn-color-icon: #696969;\n",
       "\n",
       "  @media (prefers-color-scheme: dark) {\n",
       "    /* Redefinition of color scheme for dark theme */\n",
       "    --sklearn-color-text-on-default-background: var(--sg-text-color, var(--theme-code-foreground, var(--jp-content-font-color1, white)));\n",
       "    --sklearn-color-background: var(--sg-background-color, var(--theme-background, var(--jp-layout-color0, #111)));\n",
       "    --sklearn-color-border-box: var(--sg-text-color, var(--theme-code-foreground, var(--jp-content-font-color1, white)));\n",
       "    --sklearn-color-icon: #878787;\n",
       "  }\n",
       "}\n",
       "\n",
       "#sk-container-id-1 {\n",
       "  color: var(--sklearn-color-text);\n",
       "}\n",
       "\n",
       "#sk-container-id-1 pre {\n",
       "  padding: 0;\n",
       "}\n",
       "\n",
       "#sk-container-id-1 input.sk-hidden--visually {\n",
       "  border: 0;\n",
       "  clip: rect(1px 1px 1px 1px);\n",
       "  clip: rect(1px, 1px, 1px, 1px);\n",
       "  height: 1px;\n",
       "  margin: -1px;\n",
       "  overflow: hidden;\n",
       "  padding: 0;\n",
       "  position: absolute;\n",
       "  width: 1px;\n",
       "}\n",
       "\n",
       "#sk-container-id-1 div.sk-dashed-wrapped {\n",
       "  border: 1px dashed var(--sklearn-color-line);\n",
       "  margin: 0 0.4em 0.5em 0.4em;\n",
       "  box-sizing: border-box;\n",
       "  padding-bottom: 0.4em;\n",
       "  background-color: var(--sklearn-color-background);\n",
       "}\n",
       "\n",
       "#sk-container-id-1 div.sk-container {\n",
       "  /* jupyter's `normalize.less` sets `[hidden] { display: none; }`\n",
       "     but bootstrap.min.css set `[hidden] { display: none !important; }`\n",
       "     so we also need the `!important` here to be able to override the\n",
       "     default hidden behavior on the sphinx rendered scikit-learn.org.\n",
       "     See: https://github.com/scikit-learn/scikit-learn/issues/21755 */\n",
       "  display: inline-block !important;\n",
       "  position: relative;\n",
       "}\n",
       "\n",
       "#sk-container-id-1 div.sk-text-repr-fallback {\n",
       "  display: none;\n",
       "}\n",
       "\n",
       "div.sk-parallel-item,\n",
       "div.sk-serial,\n",
       "div.sk-item {\n",
       "  /* draw centered vertical line to link estimators */\n",
       "  background-image: linear-gradient(var(--sklearn-color-text-on-default-background), var(--sklearn-color-text-on-default-background));\n",
       "  background-size: 2px 100%;\n",
       "  background-repeat: no-repeat;\n",
       "  background-position: center center;\n",
       "}\n",
       "\n",
       "/* Parallel-specific style estimator block */\n",
       "\n",
       "#sk-container-id-1 div.sk-parallel-item::after {\n",
       "  content: \"\";\n",
       "  width: 100%;\n",
       "  border-bottom: 2px solid var(--sklearn-color-text-on-default-background);\n",
       "  flex-grow: 1;\n",
       "}\n",
       "\n",
       "#sk-container-id-1 div.sk-parallel {\n",
       "  display: flex;\n",
       "  align-items: stretch;\n",
       "  justify-content: center;\n",
       "  background-color: var(--sklearn-color-background);\n",
       "  position: relative;\n",
       "}\n",
       "\n",
       "#sk-container-id-1 div.sk-parallel-item {\n",
       "  display: flex;\n",
       "  flex-direction: column;\n",
       "}\n",
       "\n",
       "#sk-container-id-1 div.sk-parallel-item:first-child::after {\n",
       "  align-self: flex-end;\n",
       "  width: 50%;\n",
       "}\n",
       "\n",
       "#sk-container-id-1 div.sk-parallel-item:last-child::after {\n",
       "  align-self: flex-start;\n",
       "  width: 50%;\n",
       "}\n",
       "\n",
       "#sk-container-id-1 div.sk-parallel-item:only-child::after {\n",
       "  width: 0;\n",
       "}\n",
       "\n",
       "/* Serial-specific style estimator block */\n",
       "\n",
       "#sk-container-id-1 div.sk-serial {\n",
       "  display: flex;\n",
       "  flex-direction: column;\n",
       "  align-items: center;\n",
       "  background-color: var(--sklearn-color-background);\n",
       "  padding-right: 1em;\n",
       "  padding-left: 1em;\n",
       "}\n",
       "\n",
       "\n",
       "/* Toggleable style: style used for estimator/Pipeline/ColumnTransformer box that is\n",
       "clickable and can be expanded/collapsed.\n",
       "- Pipeline and ColumnTransformer use this feature and define the default style\n",
       "- Estimators will overwrite some part of the style using the `sk-estimator` class\n",
       "*/\n",
       "\n",
       "/* Pipeline and ColumnTransformer style (default) */\n",
       "\n",
       "#sk-container-id-1 div.sk-toggleable {\n",
       "  /* Default theme specific background. It is overwritten whether we have a\n",
       "  specific estimator or a Pipeline/ColumnTransformer */\n",
       "  background-color: var(--sklearn-color-background);\n",
       "}\n",
       "\n",
       "/* Toggleable label */\n",
       "#sk-container-id-1 label.sk-toggleable__label {\n",
       "  cursor: pointer;\n",
       "  display: flex;\n",
       "  width: 100%;\n",
       "  margin-bottom: 0;\n",
       "  padding: 0.5em;\n",
       "  box-sizing: border-box;\n",
       "  text-align: center;\n",
       "  align-items: start;\n",
       "  justify-content: space-between;\n",
       "  gap: 0.5em;\n",
       "}\n",
       "\n",
       "#sk-container-id-1 label.sk-toggleable__label .caption {\n",
       "  font-size: 0.6rem;\n",
       "  font-weight: lighter;\n",
       "  color: var(--sklearn-color-text-muted);\n",
       "}\n",
       "\n",
       "#sk-container-id-1 label.sk-toggleable__label-arrow:before {\n",
       "  /* Arrow on the left of the label */\n",
       "  content: \"▸\";\n",
       "  float: left;\n",
       "  margin-right: 0.25em;\n",
       "  color: var(--sklearn-color-icon);\n",
       "}\n",
       "\n",
       "#sk-container-id-1 label.sk-toggleable__label-arrow:hover:before {\n",
       "  color: var(--sklearn-color-text);\n",
       "}\n",
       "\n",
       "/* Toggleable content - dropdown */\n",
       "\n",
       "#sk-container-id-1 div.sk-toggleable__content {\n",
       "  max-height: 0;\n",
       "  max-width: 0;\n",
       "  overflow: hidden;\n",
       "  text-align: left;\n",
       "  /* unfitted */\n",
       "  background-color: var(--sklearn-color-unfitted-level-0);\n",
       "}\n",
       "\n",
       "#sk-container-id-1 div.sk-toggleable__content.fitted {\n",
       "  /* fitted */\n",
       "  background-color: var(--sklearn-color-fitted-level-0);\n",
       "}\n",
       "\n",
       "#sk-container-id-1 div.sk-toggleable__content pre {\n",
       "  margin: 0.2em;\n",
       "  border-radius: 0.25em;\n",
       "  color: var(--sklearn-color-text);\n",
       "  /* unfitted */\n",
       "  background-color: var(--sklearn-color-unfitted-level-0);\n",
       "}\n",
       "\n",
       "#sk-container-id-1 div.sk-toggleable__content.fitted pre {\n",
       "  /* unfitted */\n",
       "  background-color: var(--sklearn-color-fitted-level-0);\n",
       "}\n",
       "\n",
       "#sk-container-id-1 input.sk-toggleable__control:checked~div.sk-toggleable__content {\n",
       "  /* Expand drop-down */\n",
       "  max-height: 200px;\n",
       "  max-width: 100%;\n",
       "  overflow: auto;\n",
       "}\n",
       "\n",
       "#sk-container-id-1 input.sk-toggleable__control:checked~label.sk-toggleable__label-arrow:before {\n",
       "  content: \"▾\";\n",
       "}\n",
       "\n",
       "/* Pipeline/ColumnTransformer-specific style */\n",
       "\n",
       "#sk-container-id-1 div.sk-label input.sk-toggleable__control:checked~label.sk-toggleable__label {\n",
       "  color: var(--sklearn-color-text);\n",
       "  background-color: var(--sklearn-color-unfitted-level-2);\n",
       "}\n",
       "\n",
       "#sk-container-id-1 div.sk-label.fitted input.sk-toggleable__control:checked~label.sk-toggleable__label {\n",
       "  background-color: var(--sklearn-color-fitted-level-2);\n",
       "}\n",
       "\n",
       "/* Estimator-specific style */\n",
       "\n",
       "/* Colorize estimator box */\n",
       "#sk-container-id-1 div.sk-estimator input.sk-toggleable__control:checked~label.sk-toggleable__label {\n",
       "  /* unfitted */\n",
       "  background-color: var(--sklearn-color-unfitted-level-2);\n",
       "}\n",
       "\n",
       "#sk-container-id-1 div.sk-estimator.fitted input.sk-toggleable__control:checked~label.sk-toggleable__label {\n",
       "  /* fitted */\n",
       "  background-color: var(--sklearn-color-fitted-level-2);\n",
       "}\n",
       "\n",
       "#sk-container-id-1 div.sk-label label.sk-toggleable__label,\n",
       "#sk-container-id-1 div.sk-label label {\n",
       "  /* The background is the default theme color */\n",
       "  color: var(--sklearn-color-text-on-default-background);\n",
       "}\n",
       "\n",
       "/* On hover, darken the color of the background */\n",
       "#sk-container-id-1 div.sk-label:hover label.sk-toggleable__label {\n",
       "  color: var(--sklearn-color-text);\n",
       "  background-color: var(--sklearn-color-unfitted-level-2);\n",
       "}\n",
       "\n",
       "/* Label box, darken color on hover, fitted */\n",
       "#sk-container-id-1 div.sk-label.fitted:hover label.sk-toggleable__label.fitted {\n",
       "  color: var(--sklearn-color-text);\n",
       "  background-color: var(--sklearn-color-fitted-level-2);\n",
       "}\n",
       "\n",
       "/* Estimator label */\n",
       "\n",
       "#sk-container-id-1 div.sk-label label {\n",
       "  font-family: monospace;\n",
       "  font-weight: bold;\n",
       "  display: inline-block;\n",
       "  line-height: 1.2em;\n",
       "}\n",
       "\n",
       "#sk-container-id-1 div.sk-label-container {\n",
       "  text-align: center;\n",
       "}\n",
       "\n",
       "/* Estimator-specific */\n",
       "#sk-container-id-1 div.sk-estimator {\n",
       "  font-family: monospace;\n",
       "  border: 1px dotted var(--sklearn-color-border-box);\n",
       "  border-radius: 0.25em;\n",
       "  box-sizing: border-box;\n",
       "  margin-bottom: 0.5em;\n",
       "  /* unfitted */\n",
       "  background-color: var(--sklearn-color-unfitted-level-0);\n",
       "}\n",
       "\n",
       "#sk-container-id-1 div.sk-estimator.fitted {\n",
       "  /* fitted */\n",
       "  background-color: var(--sklearn-color-fitted-level-0);\n",
       "}\n",
       "\n",
       "/* on hover */\n",
       "#sk-container-id-1 div.sk-estimator:hover {\n",
       "  /* unfitted */\n",
       "  background-color: var(--sklearn-color-unfitted-level-2);\n",
       "}\n",
       "\n",
       "#sk-container-id-1 div.sk-estimator.fitted:hover {\n",
       "  /* fitted */\n",
       "  background-color: var(--sklearn-color-fitted-level-2);\n",
       "}\n",
       "\n",
       "/* Specification for estimator info (e.g. \"i\" and \"?\") */\n",
       "\n",
       "/* Common style for \"i\" and \"?\" */\n",
       "\n",
       ".sk-estimator-doc-link,\n",
       "a:link.sk-estimator-doc-link,\n",
       "a:visited.sk-estimator-doc-link {\n",
       "  float: right;\n",
       "  font-size: smaller;\n",
       "  line-height: 1em;\n",
       "  font-family: monospace;\n",
       "  background-color: var(--sklearn-color-background);\n",
       "  border-radius: 1em;\n",
       "  height: 1em;\n",
       "  width: 1em;\n",
       "  text-decoration: none !important;\n",
       "  margin-left: 0.5em;\n",
       "  text-align: center;\n",
       "  /* unfitted */\n",
       "  border: var(--sklearn-color-unfitted-level-1) 1pt solid;\n",
       "  color: var(--sklearn-color-unfitted-level-1);\n",
       "}\n",
       "\n",
       ".sk-estimator-doc-link.fitted,\n",
       "a:link.sk-estimator-doc-link.fitted,\n",
       "a:visited.sk-estimator-doc-link.fitted {\n",
       "  /* fitted */\n",
       "  border: var(--sklearn-color-fitted-level-1) 1pt solid;\n",
       "  color: var(--sklearn-color-fitted-level-1);\n",
       "}\n",
       "\n",
       "/* On hover */\n",
       "div.sk-estimator:hover .sk-estimator-doc-link:hover,\n",
       ".sk-estimator-doc-link:hover,\n",
       "div.sk-label-container:hover .sk-estimator-doc-link:hover,\n",
       ".sk-estimator-doc-link:hover {\n",
       "  /* unfitted */\n",
       "  background-color: var(--sklearn-color-unfitted-level-3);\n",
       "  color: var(--sklearn-color-background);\n",
       "  text-decoration: none;\n",
       "}\n",
       "\n",
       "div.sk-estimator.fitted:hover .sk-estimator-doc-link.fitted:hover,\n",
       ".sk-estimator-doc-link.fitted:hover,\n",
       "div.sk-label-container:hover .sk-estimator-doc-link.fitted:hover,\n",
       ".sk-estimator-doc-link.fitted:hover {\n",
       "  /* fitted */\n",
       "  background-color: var(--sklearn-color-fitted-level-3);\n",
       "  color: var(--sklearn-color-background);\n",
       "  text-decoration: none;\n",
       "}\n",
       "\n",
       "/* Span, style for the box shown on hovering the info icon */\n",
       ".sk-estimator-doc-link span {\n",
       "  display: none;\n",
       "  z-index: 9999;\n",
       "  position: relative;\n",
       "  font-weight: normal;\n",
       "  right: .2ex;\n",
       "  padding: .5ex;\n",
       "  margin: .5ex;\n",
       "  width: min-content;\n",
       "  min-width: 20ex;\n",
       "  max-width: 50ex;\n",
       "  color: var(--sklearn-color-text);\n",
       "  box-shadow: 2pt 2pt 4pt #999;\n",
       "  /* unfitted */\n",
       "  background: var(--sklearn-color-unfitted-level-0);\n",
       "  border: .5pt solid var(--sklearn-color-unfitted-level-3);\n",
       "}\n",
       "\n",
       ".sk-estimator-doc-link.fitted span {\n",
       "  /* fitted */\n",
       "  background: var(--sklearn-color-fitted-level-0);\n",
       "  border: var(--sklearn-color-fitted-level-3);\n",
       "}\n",
       "\n",
       ".sk-estimator-doc-link:hover span {\n",
       "  display: block;\n",
       "}\n",
       "\n",
       "/* \"?\"-specific style due to the `<a>` HTML tag */\n",
       "\n",
       "#sk-container-id-1 a.estimator_doc_link {\n",
       "  float: right;\n",
       "  font-size: 1rem;\n",
       "  line-height: 1em;\n",
       "  font-family: monospace;\n",
       "  background-color: var(--sklearn-color-background);\n",
       "  border-radius: 1rem;\n",
       "  height: 1rem;\n",
       "  width: 1rem;\n",
       "  text-decoration: none;\n",
       "  /* unfitted */\n",
       "  color: var(--sklearn-color-unfitted-level-1);\n",
       "  border: var(--sklearn-color-unfitted-level-1) 1pt solid;\n",
       "}\n",
       "\n",
       "#sk-container-id-1 a.estimator_doc_link.fitted {\n",
       "  /* fitted */\n",
       "  border: var(--sklearn-color-fitted-level-1) 1pt solid;\n",
       "  color: var(--sklearn-color-fitted-level-1);\n",
       "}\n",
       "\n",
       "/* On hover */\n",
       "#sk-container-id-1 a.estimator_doc_link:hover {\n",
       "  /* unfitted */\n",
       "  background-color: var(--sklearn-color-unfitted-level-3);\n",
       "  color: var(--sklearn-color-background);\n",
       "  text-decoration: none;\n",
       "}\n",
       "\n",
       "#sk-container-id-1 a.estimator_doc_link.fitted:hover {\n",
       "  /* fitted */\n",
       "  background-color: var(--sklearn-color-fitted-level-3);\n",
       "}\n",
       "</style><div id=\"sk-container-id-1\" class=\"sk-top-container\"><div class=\"sk-text-repr-fallback\"><pre>GridSearchCV(cv=10,\n",
       "             estimator=Pipeline(steps=[(&#x27;scaler&#x27;, StandardScaler()),\n",
       "                                       (&#x27;lasso&#x27;, Lasso(max_iter=10000))]),\n",
       "             param_grid={&#x27;lasso__alpha&#x27;: array([1.00000000e-04, 1.20450354e-04, 1.45082878e-04, 1.74752840e-04,\n",
       "       2.10490414e-04, 2.53536449e-04, 3.05385551e-04, 3.67837977e-04,\n",
       "       4.43062146e-04, 5.33669923e-04, 6.42807312e-04, 7.74263683e-04,\n",
       "       9.32603347e-04, 1.12332403e-03...\n",
       "       2.91505306e+02, 3.51119173e+02, 4.22924287e+02, 5.09413801e+02,\n",
       "       6.13590727e+02, 7.39072203e+02, 8.90215085e+02, 1.07226722e+03,\n",
       "       1.29154967e+03, 1.55567614e+03, 1.87381742e+03, 2.25701972e+03,\n",
       "       2.71858824e+03, 3.27454916e+03, 3.94420606e+03, 4.75081016e+03,\n",
       "       5.72236766e+03, 6.89261210e+03, 8.30217568e+03, 1.00000000e+04])},\n",
       "             return_train_score=True, scoring=&#x27;neg_mean_squared_error&#x27;)</pre><b>In a Jupyter environment, please rerun this cell to show the HTML representation or trust the notebook. <br />On GitHub, the HTML representation is unable to render, please try loading this page with nbviewer.org.</b></div><div class=\"sk-container\" hidden><div class=\"sk-item sk-dashed-wrapped\"><div class=\"sk-label-container\"><div class=\"sk-label fitted sk-toggleable\"><input class=\"sk-toggleable__control sk-hidden--visually\" id=\"sk-estimator-id-1\" type=\"checkbox\" ><label for=\"sk-estimator-id-1\" class=\"sk-toggleable__label fitted sk-toggleable__label-arrow\"><div><div>GridSearchCV</div></div><div><a class=\"sk-estimator-doc-link fitted\" rel=\"noreferrer\" target=\"_blank\" href=\"https://scikit-learn.org/1.6/modules/generated/sklearn.model_selection.GridSearchCV.html\">?<span>Documentation for GridSearchCV</span></a><span class=\"sk-estimator-doc-link fitted\">i<span>Fitted</span></span></div></label><div class=\"sk-toggleable__content fitted\"><pre>GridSearchCV(cv=10,\n",
       "             estimator=Pipeline(steps=[(&#x27;scaler&#x27;, StandardScaler()),\n",
       "                                       (&#x27;lasso&#x27;, Lasso(max_iter=10000))]),\n",
       "             param_grid={&#x27;lasso__alpha&#x27;: array([1.00000000e-04, 1.20450354e-04, 1.45082878e-04, 1.74752840e-04,\n",
       "       2.10490414e-04, 2.53536449e-04, 3.05385551e-04, 3.67837977e-04,\n",
       "       4.43062146e-04, 5.33669923e-04, 6.42807312e-04, 7.74263683e-04,\n",
       "       9.32603347e-04, 1.12332403e-03...\n",
       "       2.91505306e+02, 3.51119173e+02, 4.22924287e+02, 5.09413801e+02,\n",
       "       6.13590727e+02, 7.39072203e+02, 8.90215085e+02, 1.07226722e+03,\n",
       "       1.29154967e+03, 1.55567614e+03, 1.87381742e+03, 2.25701972e+03,\n",
       "       2.71858824e+03, 3.27454916e+03, 3.94420606e+03, 4.75081016e+03,\n",
       "       5.72236766e+03, 6.89261210e+03, 8.30217568e+03, 1.00000000e+04])},\n",
       "             return_train_score=True, scoring=&#x27;neg_mean_squared_error&#x27;)</pre></div> </div></div><div class=\"sk-parallel\"><div class=\"sk-parallel-item\"><div class=\"sk-item\"><div class=\"sk-label-container\"><div class=\"sk-label fitted sk-toggleable\"><input class=\"sk-toggleable__control sk-hidden--visually\" id=\"sk-estimator-id-2\" type=\"checkbox\" ><label for=\"sk-estimator-id-2\" class=\"sk-toggleable__label fitted sk-toggleable__label-arrow\"><div><div>best_estimator_: Pipeline</div></div></label><div class=\"sk-toggleable__content fitted\"><pre>Pipeline(steps=[(&#x27;scaler&#x27;, StandardScaler()),\n",
       "                (&#x27;lasso&#x27;, Lasso(alpha=0.015199110829529346, max_iter=10000))])</pre></div> </div></div><div class=\"sk-serial\"><div class=\"sk-item\"><div class=\"sk-serial\"><div class=\"sk-item\"><div class=\"sk-estimator fitted sk-toggleable\"><input class=\"sk-toggleable__control sk-hidden--visually\" id=\"sk-estimator-id-3\" type=\"checkbox\" ><label for=\"sk-estimator-id-3\" class=\"sk-toggleable__label fitted sk-toggleable__label-arrow\"><div><div>StandardScaler</div></div><div><a class=\"sk-estimator-doc-link fitted\" rel=\"noreferrer\" target=\"_blank\" href=\"https://scikit-learn.org/1.6/modules/generated/sklearn.preprocessing.StandardScaler.html\">?<span>Documentation for StandardScaler</span></a></div></label><div class=\"sk-toggleable__content fitted\"><pre>StandardScaler()</pre></div> </div></div><div class=\"sk-item\"><div class=\"sk-estimator fitted sk-toggleable\"><input class=\"sk-toggleable__control sk-hidden--visually\" id=\"sk-estimator-id-4\" type=\"checkbox\" ><label for=\"sk-estimator-id-4\" class=\"sk-toggleable__label fitted sk-toggleable__label-arrow\"><div><div>Lasso</div></div><div><a class=\"sk-estimator-doc-link fitted\" rel=\"noreferrer\" target=\"_blank\" href=\"https://scikit-learn.org/1.6/modules/generated/sklearn.linear_model.Lasso.html\">?<span>Documentation for Lasso</span></a></div></label><div class=\"sk-toggleable__content fitted\"><pre>Lasso(alpha=0.015199110829529346, max_iter=10000)</pre></div> </div></div></div></div></div></div></div></div></div></div></div>"
      ],
      "text/plain": [
       "GridSearchCV(cv=10,\n",
       "             estimator=Pipeline(steps=[('scaler', StandardScaler()),\n",
       "                                       ('lasso', Lasso(max_iter=10000))]),\n",
       "             param_grid={'lasso__alpha': array([1.00000000e-04, 1.20450354e-04, 1.45082878e-04, 1.74752840e-04,\n",
       "       2.10490414e-04, 2.53536449e-04, 3.05385551e-04, 3.67837977e-04,\n",
       "       4.43062146e-04, 5.33669923e-04, 6.42807312e-04, 7.74263683e-04,\n",
       "       9.32603347e-04, 1.12332403e-03...\n",
       "       2.91505306e+02, 3.51119173e+02, 4.22924287e+02, 5.09413801e+02,\n",
       "       6.13590727e+02, 7.39072203e+02, 8.90215085e+02, 1.07226722e+03,\n",
       "       1.29154967e+03, 1.55567614e+03, 1.87381742e+03, 2.25701972e+03,\n",
       "       2.71858824e+03, 3.27454916e+03, 3.94420606e+03, 4.75081016e+03,\n",
       "       5.72236766e+03, 6.89261210e+03, 8.30217568e+03, 1.00000000e+04])},\n",
       "             return_train_score=True, scoring='neg_mean_squared_error')"
      ]
     },
     "execution_count": 15,
     "metadata": {},
     "output_type": "execute_result"
    }
   ],
   "source": [
    "grid_search.fit(df.drop(columns=['y']), df['y'])"
   ]
  },
  {
   "cell_type": "code",
   "execution_count": 16,
   "id": "02190936-9ebc-48ba-8225-f408495c8cad",
   "metadata": {},
   "outputs": [
    {
     "data": {
      "image/png": "[encoded data removed]",
      "text/plain": [
       "<Figure size 1000x600 with 1 Axes>"
      ]
     },
     "metadata": {},
     "output_type": "display_data"
    }
   ],
   "source": [
    "# Get results\n",
    "cv_results = grid_search.cv_results_\n",
    "mse_means = -cv_results['mean_test_score']  # Convert back to MSE\n",
    "alphas_vals = cv_results['param_lasso__alpha'].data\n",
    "\n",
    "# Plot\n",
    "plt.figure(figsize=(10, 6))\n",
    "plt.semilogx(alphas_vals, mse_means)\n",
    "plt.xlabel('Lambda (alpha)')\n",
    "plt.ylabel('Cross-Validation Error (MSE)')\n",
    "plt.title('MSE vs. Lambda for Lasso Regression')\n",
    "plt.show()"
   ]
  },
  {
   "cell_type": "code",
   "execution_count": 17,
   "id": "9a6b8d77-ff86-408e-9a4a-0e3d6e6b0d58",
   "metadata": {},
   "outputs": [
    {
     "name": "stdout",
     "output_type": "stream",
     "text": [
      "[ 1.8303062   3.67512302 10.52523149  0.          0.         -0.\n",
      "  0.         -0.          0.06426599 -0.14065934]\n",
      "Optimal Lambda (α): 0.015199110829529346\n"
     ]
    }
   ],
   "source": [
    "best_alpha = grid_search.best_params_['lasso__alpha']\n",
    "best_model = grid_search.best_estimator_\n",
    "coefficients = best_model.named_steps['lasso'].coef_\n",
    "intercept = best_model.named_steps['lasso'].intercept_\n",
    "\n",
    "print(coefficients)\n",
    "\n",
    "# Display coefficients\n",
    "coef_df = pd.DataFrame({\n",
    "    'Feature': df.drop(columns=['y']).columns.tolist(),\n",
    "    'Coefficient': coefficients\n",
    "})\n",
    "print(f'Optimal Lambda (α): {best_alpha}')"
   ]
  },
  {
   "cell_type": "markdown",
   "id": "61592f7f-8e1f-4f55-b72b-a9cdad3fc759",
   "metadata": {},
   "source": [
    "#### <span style=\"font-family: 'NewComputerModernMath';\">(f) Now generate a response vector $ Y $ according to the model</span>\n",
    "\n",
    "$$\n",
    "Y = \\beta_0 + \\beta_7 X^7 + \\epsilon,\n",
    "$$\n",
    "\n",
    "#### <span style=\"font-family: 'NewComputerModernMath';\">and perform forward stepwise selection and the lasso. Discuss the results obtained.</span>\n",
    "</span>"
   ]
  },
  {
   "cell_type": "code",
   "execution_count": 18,
   "id": "e53d242d-2a31-4dda-ad94-8ec923aa1af0",
   "metadata": {},
   "outputs": [],
   "source": [
    "y_f = 1 + 8*(X**7) + epsilon # b0 -> 1 / b7 -> 8"
   ]
  },
  {
   "cell_type": "code",
   "execution_count": 19,
   "id": "f3b76f36-d7bc-429c-a12a-ea2de21a5a78",
   "metadata": {},
   "outputs": [
    {
     "name": "stdout",
     "output_type": "stream",
     "text": [
      "Selected Features (Forward Selection with nCp): ['X^7', 'intercept', 'X^2', 'X^9']\n"
     ]
    }
   ],
   "source": [
    "df_f = df.copy()\n",
    "df_f['y'] = y_f\n",
    "design = MS(df.columns.drop('y')).fit(df_f)  # Define design matrix\n",
    "selected_features_forward = forward_selection_nCp(design, df_f)\n",
    "print(\"Selected Features (Forward Selection with nCp):\", selected_features_forward)"
   ]
  },
  {
   "cell_type": "code",
   "execution_count": 20,
   "id": "a578dcc3-2776-405a-b00b-f7eccb9947ce",
   "metadata": {},
   "outputs": [
    {
     "data": {
      "text/plain": [
       "['X^5', 'X^6', 'X^7', 'X^9']"
      ]
     },
     "execution_count": 20,
     "metadata": {},
     "output_type": "execute_result"
    }
   ],
   "source": [
    "from sklearn.linear_model import LassoCV\n",
    "pipeline = Pipeline([\n",
    "    ('scaler', StandardScaler()),  # Standardizes features\n",
    "    ('lasso', LassoCV(cv=10, max_iter=10000, random_state=42))  # Lasso with cross-validation\n",
    "])\n",
    "\n",
    "pipeline.fit(df_f.drop(columns=['y']), df_f['y'])\n",
    "\n",
    "# Get selected features from Lasso (non-zero coefficients)\n",
    "lasso_coefs = pipeline.named_steps['lasso'].coef_\n",
    "selected_features_lasso = [df_f.columns[i] for i in range(len(lasso_coefs)) if lasso_coefs[i] != 0]\n",
    "\n",
    "# Display results\n",
    "lasso_coefs\n",
    "selected_features_lasso"
   ]
  },
  {
   "cell_type": "markdown",
   "id": "555bb2c1-f981-4658-8501-31fcf7861237",
   "metadata": {},
   "source": [
    "##### <span style=\"font-family: 'NewComputerModernMath';\"> Both methods found $X^7$ as an important, which is correct, but also find other predictors. Lasso has more predictor than forward stepwise method."
   ]
  },
  {
   "cell_type": "markdown",
   "id": "72d9c651-1b4c-49cb-8c60-48dd6ba50084",
   "metadata": {},
   "source": [
    "### <span style=\"color: rgb(0, 105, 175);font-family: 'NewComputerModernMath';\">Q9</span>"
   ]
  },
  {
   "cell_type": "markdown",
   "id": "539db9a2-304a-47eb-88d4-e23f9cf73a04",
   "metadata": {},
   "source": [
    "#### <span style=\"font-family: 'NewComputerModernMath';\">**9.** In this exercise, we will predict the number of applications received using the other variables in the <span style=\"color: rgb(145, 75, 40);\">College</span> data set."
   ]
  },
  {
   "cell_type": "code",
   "execution_count": 21,
   "id": "55f56724-305d-4125-a35b-51baebe807a3",
   "metadata": {},
   "outputs": [],
   "source": [
    "College = load_data(\"College\")"
   ]
  },
  {
   "cell_type": "code",
   "execution_count": 22,
   "id": "bc2a12a6-d42d-4595-99f3-856750d92a6c",
   "metadata": {},
   "outputs": [],
   "source": [
    "College['Private'] = (College['Private'] == 'Yes').astype(int)"
   ]
  },
  {
   "cell_type": "markdown",
   "id": "f4a852ac-444e-46eb-b774-bce302f2fe4e",
   "metadata": {},
   "source": [
    "#### <span style=\"font-family: 'NewComputerModernMath';\">(a) Split the data set into a training set and a test set.</span>"
   ]
  },
  {
   "cell_type": "code",
   "execution_count": 23,
   "id": "9282bb92-73d4-42f9-8594-ee9a7c1add34",
   "metadata": {},
   "outputs": [],
   "source": [
    "from sklearn.model_selection import train_test_split\n",
    "\n",
    "train, test = train_test_split(College)"
   ]
  },
  {
   "cell_type": "markdown",
   "id": "b213bc9a-244d-4769-935b-39cd3cb60900",
   "metadata": {},
   "source": [
    "#### <span style=\"font-family: 'NewComputerModernMath';\">(b) Fit a linear model using least squares on the training set, and report the test error obtained.</span>"
   ]
  },
  {
   "cell_type": "code",
   "execution_count": 25,
   "id": "aae34fef-74aa-40e7-b58a-d95de5b17e02",
   "metadata": {},
   "outputs": [
    {
     "data": {
      "text/plain": [
       "14.210289199716051"
      ]
     },
     "execution_count": 25,
     "metadata": {},
     "output_type": "execute_result"
    }
   ],
   "source": [
    "from ISLP.models import summarize\n",
    "X_train = sm.add_constant(train).drop(columns=[\"Apps\"])\n",
    "X_test = sm.add_constant(test).drop(columns=[\"Apps\"])\n",
    "model_b = sm.OLS(train['Apps'], X_train).fit()\n",
    "\n",
    "Y_pred_ols = model_b.predict(X_test)\n",
    "rss_test = np.sum(Y_pred_ols - test['Apps'])\n",
    "mse_test = rss_test / len(test['Apps'])\n",
    "rmse_test = np.sqrt(mse_test)\n",
    "rmse_test"
   ]
  },
  {
   "cell_type": "markdown",
   "id": "18e2cf49-eed5-4a9d-99e6-0adf7575ed50",
   "metadata": {},
   "source": [
    "#### <span style=\"font-family: 'NewComputerModernMath';\">(c) Fit a ridge regression model on the training set, with $ \\lambda $ chosen by cross-validation. Report the test error obtained.</span>"
   ]
  },
  {
   "cell_type": "code",
   "execution_count": 26,
   "id": "40b0fcee-9463-4986-938b-de46cb0eb528",
   "metadata": {},
   "outputs": [
    {
     "name": "stdout",
     "output_type": "stream",
     "text": [
      "[    0.          -200.87664533  3932.40111945 -1010.04985979\n",
      "   717.87275199  -170.25429825   503.35592919    87.32929087\n",
      "  -336.73340006   141.75095888    41.0918717     25.19141043\n",
      "  -149.52007396  -117.12320363   138.41760431    19.51276027\n",
      "   616.588943     148.47406464]\n",
      "Optimal Lambda (α): 0.0001\n"
     ]
    }
   ],
   "source": [
    "from sklearn.linear_model import Ridge\n",
    "\n",
    "pipeline = Pipeline([\n",
    "    ('scaler', StandardScaler()),  # Standardizes features\n",
    "    ('ridge', Ridge(max_iter=10000))  # Lasso with increased max_iter for convergence\n",
    "])\n",
    "\n",
    "alphas = np.logspace(-4, 4, 100)  # Log-spaced alphas from 10^-4 to 10^4\n",
    "\n",
    "grid_search = GridSearchCV(\n",
    "    estimator=pipeline,\n",
    "    param_grid={'ridge__alpha': alphas},\n",
    "    cv=10,  # 5-fold cross-validation\n",
    "    scoring='neg_mean_squared_error',  # Use MSE for evaluation\n",
    "    return_train_score=True\n",
    ")\n",
    "\n",
    "grid_search.fit(X_train, train['Apps'])\n",
    "\n",
    "best_alpha = grid_search.best_params_['ridge__alpha']\n",
    "best_model = grid_search.best_estimator_\n",
    "coefficients = best_model.named_steps['ridge'].coef_\n",
    "intercept = best_model.named_steps['ridge'].intercept_\n",
    "\n",
    "print(coefficients)\n",
    "\n",
    "# Display coefficients\n",
    "coef_df = pd.DataFrame({\n",
    "    'Feature': X_train.columns.tolist(),\n",
    "    'Coefficient': coefficients\n",
    "})\n",
    "print(f'Optimal Lambda (α): {best_alpha}')"
   ]
  },
  {
   "cell_type": "code",
   "execution_count": 28,
   "id": "d1c26eee-7fb8-4177-82aa-80b5dc79f5f9",
   "metadata": {},
   "outputs": [
    {
     "data": {
      "text/plain": [
       "14.210289203476355"
      ]
     },
     "execution_count": 28,
     "metadata": {},
     "output_type": "execute_result"
    }
   ],
   "source": [
    "ridge_model_c = Ridge(alpha=0.0001).fit(X_train, train['Apps'])\n",
    "Y_pred_ridge = ridge_model_c.predict(X_test)\n",
    "rss_test = np.sum(Y_pred_ridge - test['Apps'])\n",
    "mse_test = rss_test / len(test['Apps'])\n",
    "rmse_test = np.sqrt(mse_test)\n",
    "rmse_test"
   ]
  },
  {
   "cell_type": "markdown",
   "id": "2cf63517-d5d1-4fe2-8280-99ee4c73fd6c",
   "metadata": {},
   "source": [
    "#### <span style=\"font-family: 'NewComputerModernMath';\">(d) Fit a lasso model on the training set, with $ \\lambda $ chosen by cross-validation. Report the test error obtained, along with the number of non-zero coefficient estimates.</span>"
   ]
  },
  {
   "cell_type": "code",
   "execution_count": 29,
   "id": "96b1bc23-d733-4d9f-802a-791694e6d0fd",
   "metadata": {},
   "outputs": [
    {
     "name": "stdout",
     "output_type": "stream",
     "text": [
      "[    0.          -200.8763462   3932.40490098 -1010.05413546\n",
      "   717.87302091  -170.2542473    503.35679737    87.32926085\n",
      "  -336.73371146   141.75047781    41.09184904    25.19140571\n",
      "  -149.52002332  -117.12307409   138.41749476    19.51280365\n",
      "   616.58893258   148.47372174]\n",
      "Optimal Lambda (α): 0.0001\n"
     ]
    }
   ],
   "source": [
    "\n",
    "pipeline = Pipeline([\n",
    "    ('scaler', StandardScaler()),  # Standardizes features\n",
    "    ('lasso', Lasso(max_iter=10000))  # Lasso with increased max_iter for convergence\n",
    "])\n",
    "\n",
    "alphas = np.logspace(-4, 4, 100)  # Log-spaced alphas from 10^-4 to 10^4\n",
    "\n",
    "grid_search = GridSearchCV(\n",
    "    estimator=pipeline,\n",
    "    param_grid={'lasso__alpha': alphas},\n",
    "    cv=10,  # 5-fold cross-validation\n",
    "    scoring='neg_mean_squared_error',  # Use MSE for evaluation\n",
    "    return_train_score=True\n",
    ")\n",
    "\n",
    "grid_search.fit(X_train, train['Apps'])\n",
    "\n",
    "best_alpha = grid_search.best_params_['lasso__alpha']\n",
    "best_model = grid_search.best_estimator_\n",
    "coefficients = best_model.named_steps['lasso'].coef_\n",
    "intercept = best_model.named_steps['lasso'].intercept_\n",
    "\n",
    "print(coefficients)\n",
    "\n",
    "# Display coefficients\n",
    "coef_df = pd.DataFrame({\n",
    "    'Feature': X_train.columns.tolist(),\n",
    "    'Coefficient': coefficients\n",
    "})\n",
    "print(f'Optimal Lambda (α): {best_alpha}')"
   ]
  },
  {
   "cell_type": "code",
   "execution_count": 30,
   "id": "a04cef89-24ce-4982-a631-33964366872d",
   "metadata": {},
   "outputs": [
    {
     "data": {
      "text/plain": [
       "['Private',\n",
       " 'Accept',\n",
       " 'Enroll',\n",
       " 'Top10perc',\n",
       " 'Top25perc',\n",
       " 'F.Undergrad',\n",
       " 'P.Undergrad',\n",
       " 'Outstate',\n",
       " 'Room.Board',\n",
       " 'Books',\n",
       " 'Personal',\n",
       " 'PhD',\n",
       " 'Terminal',\n",
       " 'S.F.Ratio',\n",
       " 'perc.alumni',\n",
       " 'Expend',\n",
       " 'Grad.Rate']"
      ]
     },
     "execution_count": 30,
     "metadata": {},
     "output_type": "execute_result"
    }
   ],
   "source": [
    "selected_features_lasso = [X_train.columns[i] for i in range(len(coefficients)) if coefficients[i] != 0]\n",
    "selected_features_lasso"
   ]
  },
  {
   "cell_type": "code",
   "execution_count": 32,
   "id": "e8ca43a3-5e76-4b3e-a89f-93f1da0a394e",
   "metadata": {},
   "outputs": [
    {
     "data": {
      "text/plain": [
       "14.21028920347636"
      ]
     },
     "execution_count": 32,
     "metadata": {},
     "output_type": "execute_result"
    }
   ],
   "source": [
    "lasso_model_d = Ridge(alpha=0.0001).fit(X_train[selected_features_lasso], train['Apps'])\n",
    "Y_pred_lasso = lasso_model_d.predict(X_test[selected_features_lasso])\n",
    "rss_test = np.sum(Y_pred_lasso - test['Apps'])\n",
    "mse_test = rss_test / len(test['Apps'])\n",
    "rmse_test = np.sqrt(mse_test)\n",
    "rmse_test"
   ]
  },
  {
   "cell_type": "markdown",
   "id": "a7a47903-2b99-4402-ac2c-6163d3e186fb",
   "metadata": {},
   "source": [
    "#### <span style=\"font-family: 'NewComputerModernMath';\">(e) Fit a PCR model on the training set, with $ M $ chosen by cross-validation. Report the test error obtained, along with the value of $ M $ selected by cross-validation.</span>"
   ]
  },
  {
   "cell_type": "code",
   "execution_count": 40,
   "id": "64d0da0a-76c4-47b8-9e32-3462b68815d2",
   "metadata": {},
   "outputs": [
    {
     "data": {
      "text/html": [
       "<div>\n",
       "<style scoped>\n",
       "    .dataframe tbody tr th:only-of-type {\n",
       "        vertical-align: middle;\n",
       "    }\n",
       "\n",
       "    .dataframe tbody tr th {\n",
       "        vertical-align: top;\n",
       "    }\n",
       "\n",
       "    .dataframe thead th {\n",
       "        text-align: right;\n",
       "    }\n",
       "</style>\n",
       "<table border=\"1\" class=\"dataframe\">\n",
       "  <thead>\n",
       "    <tr style=\"text-align: right;\">\n",
       "      <th></th>\n",
       "      <th>Selected M</th>\n",
       "      <th>Test RSS</th>\n",
       "      <th>Test MSE</th>\n",
       "      <th>Test RMSE</th>\n",
       "    </tr>\n",
       "  </thead>\n",
       "  <tbody>\n",
       "    <tr>\n",
       "      <th>0</th>\n",
       "      <td>17</td>\n",
       "      <td>2.282516e+08</td>\n",
       "      <td>1.170521e+06</td>\n",
       "      <td>1081.906235</td>\n",
       "    </tr>\n",
       "  </tbody>\n",
       "</table>\n",
       "</div>"
      ],
      "text/plain": [
       "   Selected M      Test RSS      Test MSE    Test RMSE\n",
       "0          17  2.282516e+08  1.170521e+06  1081.906235"
      ]
     },
     "execution_count": 40,
     "metadata": {},
     "output_type": "execute_result"
    }
   ],
   "source": [
    "from sklearn.decomposition import PCA\n",
    "from sklearn.linear_model import LinearRegression\n",
    "from sklearn.model_selection import cross_val_score\n",
    "from sklearn.preprocessing import StandardScaler\n",
    "import numpy as np\n",
    "import statsmodels.api as sm  # Only if using statsmodels\n",
    "\n",
    "\n",
    "# 1. Standardize the data\n",
    "scaler = StandardScaler()\n",
    "X_train_scaled = scaler.fit_transform(X_train)  # Correct scaling\n",
    "X_test_scaled = scaler.transform(X_test)        # Correct scaling\n",
    "\n",
    "# 2. Perform PCA\n",
    "pca = PCA()\n",
    "X_train_pca = pca.fit_transform(X_train_scaled)\n",
    "X_test_pca = pca.transform(X_test_scaled)\n",
    "\n",
    "# 3. Cross-validation for best M\n",
    "m_values = range(1,len(X_train)+1)\n",
    "mse_scores = []\n",
    "for m in m_values:\n",
    "    X_subset = X_train_pca[:, :m]\n",
    "    model = LinearRegression()\n",
    "    scores = cross_val_score(model, X_subset, train['Apps'], cv=10, scoring='neg_mean_squared_error')\n",
    "    mse_scores.append(-scores.mean())\n",
    "\n",
    "best_m = m_values[np.argmin(mse_scores)]\n",
    "\n",
    "# 4. Train final model with intercept (using sklearn)\n",
    "X_train_best = sm.add_constant(X_train_pca[:, :best_m])\n",
    "X_test_best = sm.add_constant(X_test_pca[:, :best_m])\n",
    "\n",
    "pcr_model = sm.OLS(train['Apps'], X_train_best).fit()  # Handles intercept\n",
    "\n",
    "# 5. Predict and evaluate\n",
    "Y_pred_pcr = pcr_model.predict(X_test_best)\n",
    "\n",
    "rss_pcr_test = ((test['Apps'] - Y_pred_pcr) ** 2).sum()\n",
    "mse_pcr_test = rss_pcr_test / len(test['Apps'])\n",
    "rmse_pcr_test = np.sqrt(mse_pcr_test)\n",
    "\n",
    "# Results\n",
    "pcr_results = pd.DataFrame({\n",
    "    \"Selected M\": [best_m],\n",
    "    \"Test RSS\": [rss_pcr_test],\n",
    "    \"Test MSE\": [mse_pcr_test],\n",
    "    \"Test RMSE\": [rmse_pcr_test]\n",
    "})\n",
    "pcr_results"
   ]
  },
  {
   "cell_type": "markdown",
   "id": "bfb64e0f-fdf1-4757-bee1-c51569081f68",
   "metadata": {},
   "source": [
    "#### <span style=\"font-family: 'NewComputerModernMath';\">(f) Fit a PLS model on the training set, with $ M $ chosen by cross-validation. Report the test error obtained, along with the value of $ M $ selected by cross-validation.</span>"
   ]
  },
  {
   "cell_type": "code",
   "execution_count": 42,
   "id": "93622332-46a1-43c7-843b-7d4eed0abdfb",
   "metadata": {},
   "outputs": [
    {
     "data": {
      "text/html": [
       "<div>\n",
       "<style scoped>\n",
       "    .dataframe tbody tr th:only-of-type {\n",
       "        vertical-align: middle;\n",
       "    }\n",
       "\n",
       "    .dataframe tbody tr th {\n",
       "        vertical-align: top;\n",
       "    }\n",
       "\n",
       "    .dataframe thead th {\n",
       "        text-align: right;\n",
       "    }\n",
       "</style>\n",
       "<table border=\"1\" class=\"dataframe\">\n",
       "  <thead>\n",
       "    <tr style=\"text-align: right;\">\n",
       "      <th></th>\n",
       "      <th>Selected M (Number of Components)</th>\n",
       "      <th>Test RSS (Residual Sum of Squares)</th>\n",
       "      <th>Test MSE (Mean Squared Error)</th>\n",
       "      <th>Test RMSE (Root Mean Squared Error)</th>\n",
       "    </tr>\n",
       "  </thead>\n",
       "  <tbody>\n",
       "    <tr>\n",
       "      <th>0</th>\n",
       "      <td>11</td>\n",
       "      <td>2.243457e+08</td>\n",
       "      <td>1.150491e+06</td>\n",
       "      <td>1072.609301</td>\n",
       "    </tr>\n",
       "  </tbody>\n",
       "</table>\n",
       "</div>"
      ],
      "text/plain": [
       "   Selected M (Number of Components)  Test RSS (Residual Sum of Squares)  \\\n",
       "0                                 11                        2.243457e+08   \n",
       "\n",
       "   Test MSE (Mean Squared Error)  Test RMSE (Root Mean Squared Error)  \n",
       "0                   1.150491e+06                          1072.609301  "
      ]
     },
     "execution_count": 42,
     "metadata": {},
     "output_type": "execute_result"
    }
   ],
   "source": [
    "from sklearn.cross_decomposition import PLSRegression\n",
    "\n",
    "# Define the range of components to test\n",
    "m_values = np.arange(1, X_train.shape[1] + 1)\n",
    "pls_mse_scores = []\n",
    "\n",
    "# Perform cross-validation to select the best number of components M\n",
    "for m in m_values:\n",
    "    pls_model = PLSRegression(n_components=m)\n",
    "    scores = cross_val_score(pls_model, X_train_scaled, train['Apps'], cv=10, scoring='neg_mean_squared_error')\n",
    "    pls_mse_scores.append(-scores.mean())  # Convert negative MSE to positive\n",
    "\n",
    "# Select the best M (minimum MSE)\n",
    "best_m_pls = m_values[np.argmin(pls_mse_scores)]\n",
    "\n",
    "# Train final PLS model using the best M components\n",
    "pls_final_model = PLSRegression(n_components=best_m_pls)\n",
    "pls_final_model.fit(X_train_scaled, train['Apps'])\n",
    "\n",
    "# Predict on test data\n",
    "Y_pred_pls = pls_final_model.predict(X_test_scaled).flatten()\n",
    "\n",
    "# Compute test error\n",
    "rss_pls_test = np.sum((test['Apps'] - Y_pred_pls) ** 2)\n",
    "mse_pls_test = rss_pls_test / len(test['Apps'])\n",
    "rmse_pls_test = np.sqrt(mse_pls_test)\n",
    "\n",
    "# Display results\n",
    "pls_results = pd.DataFrame({\n",
    "    \"Selected M (Number of Components)\": [best_m_pls],\n",
    "    \"Test RSS (Residual Sum of Squares)\": [rss_pls_test],\n",
    "    \"Test MSE (Mean Squared Error)\": [mse_pls_test],\n",
    "    \"Test RMSE (Root Mean Squared Error)\": [rmse_pls_test]\n",
    "})\n",
    "pls_results"
   ]
  },
  {
   "cell_type": "markdown",
   "id": "e9968d95-1dba-4423-9c59-3c90cc4c8678",
   "metadata": {},
   "source": [
    "#### <span style=\"font-family: 'NewComputerModernMath';\">(g) Comment on the results obtained. How accurately can we predict the number of college applications received? Is there much difference among the test errors resulting from these five approaches?</span>\n",
    "</span>"
   ]
  },
  {
   "cell_type": "markdown",
   "id": "1b719304-90f6-44a4-ab2a-4619f84a4d98",
   "metadata": {},
   "source": [
    "##### <span style=\"font-family: 'NewComputerModernMath';\"> PLS and PCR has more error than Lasso, Ridge and Linear Model."
   ]
  },
  {
   "cell_type": "markdown",
   "id": "8b70a705-6e70-4004-ba1e-85da5afab231",
   "metadata": {},
   "source": [
    "### <span style=\"color: rgb(0, 105, 175);font-family: 'NewComputerModernMath';\">Q10</span>"
   ]
  },
  {
   "cell_type": "markdown",
   "id": "11fb8a63-991f-400a-aab9-4a93910c8431",
   "metadata": {},
   "source": [
    "<span style=\"font-family: 'NewComputerModernMath';\"> 10. We have seen that as the number of features used in a model increases, the training error will necessarily decrease, but the test error may not. We will now explore this in a simulated data set."
   ]
  },
  {
   "cell_type": "markdown",
   "id": "0b2a6496-8df1-4747-a2d2-271679058ef1",
   "metadata": {},
   "source": [
    "<span style=\"font-family: 'NewComputerModernMath';\">(a) Generate a data set with $ p = 20 $ features, $ n = 1,000 $ observations, and an associated quantitative response vector generated according to the model:\n",
    "$$\n",
    "Y = X\\beta + \\epsilon,\n",
    "$$\n",
    "<span style=\"font-family: 'NewComputerModernMath';\">where $ \\beta $ has some elements that are exactly equal to zero."
   ]
  },
  {
   "cell_type": "code",
   "execution_count": 43,
   "id": "f34cb66b-dd7a-4cc8-82d2-9040bae09dab",
   "metadata": {},
   "outputs": [
    {
     "data": {
      "text/html": [
       "<div>\n",
       "<style scoped>\n",
       "    .dataframe tbody tr th:only-of-type {\n",
       "        vertical-align: middle;\n",
       "    }\n",
       "\n",
       "    .dataframe tbody tr th {\n",
       "        vertical-align: top;\n",
       "    }\n",
       "\n",
       "    .dataframe thead th {\n",
       "        text-align: right;\n",
       "    }\n",
       "</style>\n",
       "<table border=\"1\" class=\"dataframe\">\n",
       "  <thead>\n",
       "    <tr style=\"text-align: right;\">\n",
       "      <th></th>\n",
       "      <th>X1</th>\n",
       "      <th>X2</th>\n",
       "      <th>X3</th>\n",
       "      <th>X4</th>\n",
       "      <th>X5</th>\n",
       "      <th>X6</th>\n",
       "      <th>X7</th>\n",
       "      <th>X8</th>\n",
       "      <th>X9</th>\n",
       "      <th>X10</th>\n",
       "      <th>...</th>\n",
       "      <th>X12</th>\n",
       "      <th>X13</th>\n",
       "      <th>X14</th>\n",
       "      <th>X15</th>\n",
       "      <th>X16</th>\n",
       "      <th>X17</th>\n",
       "      <th>X18</th>\n",
       "      <th>X19</th>\n",
       "      <th>X20</th>\n",
       "      <th>Y</th>\n",
       "    </tr>\n",
       "  </thead>\n",
       "  <tbody>\n",
       "    <tr>\n",
       "      <th>0</th>\n",
       "      <td>0.496714</td>\n",
       "      <td>-0.138264</td>\n",
       "      <td>0.647689</td>\n",
       "      <td>1.523030</td>\n",
       "      <td>-0.234153</td>\n",
       "      <td>-0.234137</td>\n",
       "      <td>1.579213</td>\n",
       "      <td>0.767435</td>\n",
       "      <td>-0.469474</td>\n",
       "      <td>0.542560</td>\n",
       "      <td>...</td>\n",
       "      <td>-0.465730</td>\n",
       "      <td>0.241962</td>\n",
       "      <td>-1.913280</td>\n",
       "      <td>-1.724918</td>\n",
       "      <td>-0.562288</td>\n",
       "      <td>-1.012831</td>\n",
       "      <td>0.314247</td>\n",
       "      <td>-0.908024</td>\n",
       "      <td>-1.412304</td>\n",
       "      <td>0.938226</td>\n",
       "    </tr>\n",
       "    <tr>\n",
       "      <th>1</th>\n",
       "      <td>1.465649</td>\n",
       "      <td>-0.225776</td>\n",
       "      <td>0.067528</td>\n",
       "      <td>-1.424748</td>\n",
       "      <td>-0.544383</td>\n",
       "      <td>0.110923</td>\n",
       "      <td>-1.150994</td>\n",
       "      <td>0.375698</td>\n",
       "      <td>-0.600639</td>\n",
       "      <td>-0.291694</td>\n",
       "      <td>...</td>\n",
       "      <td>1.852278</td>\n",
       "      <td>-0.013497</td>\n",
       "      <td>-1.057711</td>\n",
       "      <td>0.822545</td>\n",
       "      <td>-1.220844</td>\n",
       "      <td>0.208864</td>\n",
       "      <td>-1.959670</td>\n",
       "      <td>-1.328186</td>\n",
       "      <td>0.196861</td>\n",
       "      <td>9.095739</td>\n",
       "    </tr>\n",
       "    <tr>\n",
       "      <th>2</th>\n",
       "      <td>0.738467</td>\n",
       "      <td>0.171368</td>\n",
       "      <td>-0.115648</td>\n",
       "      <td>-0.301104</td>\n",
       "      <td>-1.478522</td>\n",
       "      <td>-0.719844</td>\n",
       "      <td>-0.460639</td>\n",
       "      <td>1.057122</td>\n",
       "      <td>0.343618</td>\n",
       "      <td>-1.763040</td>\n",
       "      <td>...</td>\n",
       "      <td>-0.385082</td>\n",
       "      <td>-0.676922</td>\n",
       "      <td>0.611676</td>\n",
       "      <td>1.031000</td>\n",
       "      <td>0.931280</td>\n",
       "      <td>-0.839218</td>\n",
       "      <td>-0.309212</td>\n",
       "      <td>0.331263</td>\n",
       "      <td>0.975545</td>\n",
       "      <td>5.025571</td>\n",
       "    </tr>\n",
       "    <tr>\n",
       "      <th>3</th>\n",
       "      <td>-0.479174</td>\n",
       "      <td>-0.185659</td>\n",
       "      <td>-1.106335</td>\n",
       "      <td>-1.196207</td>\n",
       "      <td>0.812526</td>\n",
       "      <td>1.356240</td>\n",
       "      <td>-0.072010</td>\n",
       "      <td>1.003533</td>\n",
       "      <td>0.361636</td>\n",
       "      <td>-0.645120</td>\n",
       "      <td>...</td>\n",
       "      <td>1.538037</td>\n",
       "      <td>-0.035826</td>\n",
       "      <td>1.564644</td>\n",
       "      <td>-2.619745</td>\n",
       "      <td>0.821903</td>\n",
       "      <td>0.087047</td>\n",
       "      <td>-0.299007</td>\n",
       "      <td>0.091761</td>\n",
       "      <td>-1.987569</td>\n",
       "      <td>-7.352275</td>\n",
       "    </tr>\n",
       "    <tr>\n",
       "      <th>4</th>\n",
       "      <td>-0.219672</td>\n",
       "      <td>0.357113</td>\n",
       "      <td>1.477894</td>\n",
       "      <td>-0.518270</td>\n",
       "      <td>-0.808494</td>\n",
       "      <td>-0.501757</td>\n",
       "      <td>0.915402</td>\n",
       "      <td>0.328751</td>\n",
       "      <td>-0.529760</td>\n",
       "      <td>0.513267</td>\n",
       "      <td>...</td>\n",
       "      <td>0.968645</td>\n",
       "      <td>-0.702053</td>\n",
       "      <td>-0.327662</td>\n",
       "      <td>-0.392108</td>\n",
       "      <td>-1.463515</td>\n",
       "      <td>0.296120</td>\n",
       "      <td>0.261055</td>\n",
       "      <td>0.005113</td>\n",
       "      <td>-0.234587</td>\n",
       "      <td>-0.735417</td>\n",
       "    </tr>\n",
       "    <tr>\n",
       "      <th>...</th>\n",
       "      <td>...</td>\n",
       "      <td>...</td>\n",
       "      <td>...</td>\n",
       "      <td>...</td>\n",
       "      <td>...</td>\n",
       "      <td>...</td>\n",
       "      <td>...</td>\n",
       "      <td>...</td>\n",
       "      <td>...</td>\n",
       "      <td>...</td>\n",
       "      <td>...</td>\n",
       "      <td>...</td>\n",
       "      <td>...</td>\n",
       "      <td>...</td>\n",
       "      <td>...</td>\n",
       "      <td>...</td>\n",
       "      <td>...</td>\n",
       "      <td>...</td>\n",
       "      <td>...</td>\n",
       "      <td>...</td>\n",
       "      <td>...</td>\n",
       "    </tr>\n",
       "    <tr>\n",
       "      <th>995</th>\n",
       "      <td>0.121244</td>\n",
       "      <td>-0.554667</td>\n",
       "      <td>-1.852343</td>\n",
       "      <td>0.247086</td>\n",
       "      <td>0.530490</td>\n",
       "      <td>-1.574868</td>\n",
       "      <td>-1.233694</td>\n",
       "      <td>0.252330</td>\n",
       "      <td>0.339142</td>\n",
       "      <td>-0.990647</td>\n",
       "      <td>...</td>\n",
       "      <td>-1.836489</td>\n",
       "      <td>1.377264</td>\n",
       "      <td>-1.299874</td>\n",
       "      <td>0.542259</td>\n",
       "      <td>-0.034961</td>\n",
       "      <td>1.289594</td>\n",
       "      <td>-0.792254</td>\n",
       "      <td>0.061253</td>\n",
       "      <td>-1.698427</td>\n",
       "      <td>-1.047414</td>\n",
       "    </tr>\n",
       "    <tr>\n",
       "      <th>996</th>\n",
       "      <td>-1.938527</td>\n",
       "      <td>0.596334</td>\n",
       "      <td>-1.785026</td>\n",
       "      <td>-0.228218</td>\n",
       "      <td>1.011295</td>\n",
       "      <td>0.746685</td>\n",
       "      <td>-0.664585</td>\n",
       "      <td>-1.588503</td>\n",
       "      <td>0.509495</td>\n",
       "      <td>1.342257</td>\n",
       "      <td>...</td>\n",
       "      <td>-0.803313</td>\n",
       "      <td>-0.524902</td>\n",
       "      <td>0.571609</td>\n",
       "      <td>1.228518</td>\n",
       "      <td>-1.239607</td>\n",
       "      <td>-1.498282</td>\n",
       "      <td>2.339996</td>\n",
       "      <td>-0.177323</td>\n",
       "      <td>0.252893</td>\n",
       "      <td>-0.811625</td>\n",
       "    </tr>\n",
       "    <tr>\n",
       "      <th>997</th>\n",
       "      <td>-0.691931</td>\n",
       "      <td>0.489962</td>\n",
       "      <td>0.960061</td>\n",
       "      <td>0.299796</td>\n",
       "      <td>1.740858</td>\n",
       "      <td>-0.326745</td>\n",
       "      <td>-0.262882</td>\n",
       "      <td>0.231406</td>\n",
       "      <td>0.464962</td>\n",
       "      <td>0.227947</td>\n",
       "      <td>...</td>\n",
       "      <td>0.312515</td>\n",
       "      <td>-0.374174</td>\n",
       "      <td>-0.580977</td>\n",
       "      <td>0.032482</td>\n",
       "      <td>-0.961523</td>\n",
       "      <td>-1.135391</td>\n",
       "      <td>-2.615469</td>\n",
       "      <td>1.747237</td>\n",
       "      <td>0.555731</td>\n",
       "      <td>3.091799</td>\n",
       "    </tr>\n",
       "    <tr>\n",
       "      <th>998</th>\n",
       "      <td>-0.116764</td>\n",
       "      <td>-0.667223</td>\n",
       "      <td>-2.876032</td>\n",
       "      <td>-0.728529</td>\n",
       "      <td>0.715866</td>\n",
       "      <td>0.942174</td>\n",
       "      <td>0.642292</td>\n",
       "      <td>0.158392</td>\n",
       "      <td>1.303874</td>\n",
       "      <td>-0.328537</td>\n",
       "      <td>...</td>\n",
       "      <td>-0.384582</td>\n",
       "      <td>-0.881141</td>\n",
       "      <td>-1.005713</td>\n",
       "      <td>-1.064496</td>\n",
       "      <td>0.659068</td>\n",
       "      <td>-0.742746</td>\n",
       "      <td>-1.033029</td>\n",
       "      <td>0.713735</td>\n",
       "      <td>0.327970</td>\n",
       "      <td>3.282070</td>\n",
       "    </tr>\n",
       "    <tr>\n",
       "      <th>999</th>\n",
       "      <td>0.962592</td>\n",
       "      <td>0.512600</td>\n",
       "      <td>-0.753112</td>\n",
       "      <td>0.076102</td>\n",
       "      <td>0.125133</td>\n",
       "      <td>-0.919159</td>\n",
       "      <td>-1.104625</td>\n",
       "      <td>-0.680722</td>\n",
       "      <td>2.036582</td>\n",
       "      <td>-0.412744</td>\n",
       "      <td>...</td>\n",
       "      <td>-0.468661</td>\n",
       "      <td>0.888839</td>\n",
       "      <td>0.902492</td>\n",
       "      <td>0.952591</td>\n",
       "      <td>0.387827</td>\n",
       "      <td>1.377367</td>\n",
       "      <td>0.378354</td>\n",
       "      <td>1.713530</td>\n",
       "      <td>-1.619920</td>\n",
       "      <td>-5.264685</td>\n",
       "    </tr>\n",
       "  </tbody>\n",
       "</table>\n",
       "<p>1000 rows × 21 columns</p>\n",
       "</div>"
      ],
      "text/plain": [
       "           X1        X2        X3        X4        X5        X6        X7  \\\n",
       "0    0.496714 -0.138264  0.647689  1.523030 -0.234153 -0.234137  1.579213   \n",
       "1    1.465649 -0.225776  0.067528 -1.424748 -0.544383  0.110923 -1.150994   \n",
       "2    0.738467  0.171368 -0.115648 -0.301104 -1.478522 -0.719844 -0.460639   \n",
       "3   -0.479174 -0.185659 -1.106335 -1.196207  0.812526  1.356240 -0.072010   \n",
       "4   -0.219672  0.357113  1.477894 -0.518270 -0.808494 -0.501757  0.915402   \n",
       "..        ...       ...       ...       ...       ...       ...       ...   \n",
       "995  0.121244 -0.554667 -1.852343  0.247086  0.530490 -1.574868 -1.233694   \n",
       "996 -1.938527  0.596334 -1.785026 -0.228218  1.011295  0.746685 -0.664585   \n",
       "997 -0.691931  0.489962  0.960061  0.299796  1.740858 -0.326745 -0.262882   \n",
       "998 -0.116764 -0.667223 -2.876032 -0.728529  0.715866  0.942174  0.642292   \n",
       "999  0.962592  0.512600 -0.753112  0.076102  0.125133 -0.919159 -1.104625   \n",
       "\n",
       "           X8        X9       X10  ...       X12       X13       X14  \\\n",
       "0    0.767435 -0.469474  0.542560  ... -0.465730  0.241962 -1.913280   \n",
       "1    0.375698 -0.600639 -0.291694  ...  1.852278 -0.013497 -1.057711   \n",
       "2    1.057122  0.343618 -1.763040  ... -0.385082 -0.676922  0.611676   \n",
       "3    1.003533  0.361636 -0.645120  ...  1.538037 -0.035826  1.564644   \n",
       "4    0.328751 -0.529760  0.513267  ...  0.968645 -0.702053 -0.327662   \n",
       "..        ...       ...       ...  ...       ...       ...       ...   \n",
       "995  0.252330  0.339142 -0.990647  ... -1.836489  1.377264 -1.299874   \n",
       "996 -1.588503  0.509495  1.342257  ... -0.803313 -0.524902  0.571609   \n",
       "997  0.231406  0.464962  0.227947  ...  0.312515 -0.374174 -0.580977   \n",
       "998  0.158392  1.303874 -0.328537  ... -0.384582 -0.881141 -1.005713   \n",
       "999 -0.680722  2.036582 -0.412744  ... -0.468661  0.888839  0.902492   \n",
       "\n",
       "          X15       X16       X17       X18       X19       X20         Y  \n",
       "0   -1.724918 -0.562288 -1.012831  0.314247 -0.908024 -1.412304  0.938226  \n",
       "1    0.822545 -1.220844  0.208864 -1.959670 -1.328186  0.196861  9.095739  \n",
       "2    1.031000  0.931280 -0.839218 -0.309212  0.331263  0.975545  5.025571  \n",
       "3   -2.619745  0.821903  0.087047 -0.299007  0.091761 -1.987569 -7.352275  \n",
       "4   -0.392108 -1.463515  0.296120  0.261055  0.005113 -0.234587 -0.735417  \n",
       "..        ...       ...       ...       ...       ...       ...       ...  \n",
       "995  0.542259 -0.034961  1.289594 -0.792254  0.061253 -1.698427 -1.047414  \n",
       "996  1.228518 -1.239607 -1.498282  2.339996 -0.177323  0.252893 -0.811625  \n",
       "997  0.032482 -0.961523 -1.135391 -2.615469  1.747237  0.555731  3.091799  \n",
       "998 -1.064496  0.659068 -0.742746 -1.033029  0.713735  0.327970  3.282070  \n",
       "999  0.952591  0.387827  1.377367  0.378354  1.713530 -1.619920 -5.264685  \n",
       "\n",
       "[1000 rows x 21 columns]"
      ]
     },
     "execution_count": 43,
     "metadata": {},
     "output_type": "execute_result"
    }
   ],
   "source": [
    "np.random.seed(42)\n",
    "\n",
    "n, p = 1000, 20  # n observations, p features\n",
    "\n",
    "X = np.random.randn(n, p)\n",
    "\n",
    "beta = np.random.randn(p, 1)\n",
    "\n",
    "epsilon = np.random.randn(n, 1) * 0.5  # Scaled noise\n",
    "\n",
    "Y = X @ beta + epsilon\n",
    "\n",
    "df = pd.DataFrame(X, columns=[f'X{i+1}' for i in range(p)])\n",
    "df['Y'] = Y\n",
    "df"
   ]
  },
  {
   "cell_type": "markdown",
   "id": "e5630101-9ea8-411a-84fc-37e29439cf1b",
   "metadata": {},
   "source": [
    "<span style=\"font-family: 'NewComputerModernMath';\">(b) Split your data set into a training set containing 100 observations and a test set containing 900 observations."
   ]
  },
  {
   "cell_type": "code",
   "execution_count": 44,
   "id": "66200962-87d2-4fbb-9d34-2c5dbb7e6c1c",
   "metadata": {},
   "outputs": [
    {
     "name": "stdout",
     "output_type": "stream",
     "text": [
      "100 900\n"
     ]
    }
   ],
   "source": [
    "train, test = train_test_split(df,test_size=900)\n",
    "print(len(train), len(test))"
   ]
  },
  {
   "cell_type": "markdown",
   "id": "65136d10-879c-456e-ac15-ba61a112dc32",
   "metadata": {},
   "source": [
    "<span style=\"font-family: 'NewComputerModernMath';\">(c) Perform best subset selection on the training set, and plot the training set MSE associated with the best model of each size."
   ]
  },
  {
   "cell_type": "markdown",
   "id": "97a9f2b7-c516-4b02-97c9-0debaa1a5cd6",
   "metadata": {},
   "source": [
    "<span style=\"font-family: 'NewComputerModernMath';\">(d) Plot the test set MSE associated with the best model of each size."
   ]
  },
  {
   "cell_type": "markdown",
   "id": "2f37b0f5-ba3e-4f8c-af1c-5d4724fa9fad",
   "metadata": {},
   "source": [
    "<span style=\"font-family: 'NewComputerModernMath';\"> In the book, this package is used for best subset selection. However, I want to create my own. Package function is faster than my own."
   ]
  },
  {
   "cell_type": "code",
   "execution_count": 45,
   "id": "ba36171f-8d90-4a43-9b46-4de46b3e1f01",
   "metadata": {},
   "outputs": [
    {
     "name": "stdout",
     "output_type": "stream",
     "text": [
      "Preprocessing Data.\n",
      "BnB Started.\n"
     ]
    },
    {
     "name": "stderr",
     "output_type": "stream",
     "text": [
      "OMP: Info #276: omp_set_nested routine deprecated, please use omp_set_max_active_levels instead.\n"
     ]
    },
    {
     "name": "stdout",
     "output_type": "stream",
     "text": [
      "Iteration: 1. Number of non-zeros:  1\n",
      "Iteration: 2. Number of non-zeros:  4\n",
      "Iteration: 3. Number of non-zeros:  5\n",
      "Iteration: 4. Number of non-zeros:  9\n",
      "Iteration: 5. Number of non-zeros:  9\n",
      "Iteration: 6. Number of non-zeros:  9\n",
      "Iteration: 7. Number of non-zeros:  10\n",
      "Iteration: 8. Number of non-zeros:  12\n",
      "Iteration: 9. Number of non-zeros:  14\n",
      "Iteration: 10. Number of non-zeros:  16\n",
      "Iteration: 11. Number of non-zeros:  18\n",
      "Iteration: 12. Number of non-zeros:  18\n",
      "Iteration: 13. Number of non-zeros:  18\n",
      "Iteration: 14. Number of non-zeros:  18\n",
      "Iteration: 15. Number of non-zeros:  18\n",
      "Iteration: 16. Number of non-zeros:  18\n",
      "Iteration: 17. Number of non-zeros:  19\n",
      "Iteration: 18. Number of non-zeros:  20\n"
     ]
    },
    {
     "data": {
      "text/plain": [
       "{'B': array([ 0.        ,  0.        , -0.89522499,  0.        , -1.21165362,\n",
       "         0.        , -2.03689626,  1.12419103,  0.        ,  2.14390529,\n",
       "         0.        ,  0.        ,  0.        , -1.33836489,  0.        ,\n",
       "         0.        , -1.28784098, -1.20580685,  0.        ,  1.83692095]),\n",
       " 'B0': -0.27363469708574517,\n",
       " 'lambda_0': 0.024646812003342476,\n",
       " 'M': 0.59662867905732,\n",
       " 'Time_exceeded': False}"
      ]
     },
     "execution_count": 45,
     "metadata": {},
     "output_type": "execute_result"
    }
   ],
   "source": [
    "design = MS(train.columns.drop('Y')).fit(train)\n",
    "D = design.fit_transform(train)\n",
    "D = D.drop('intercept', axis =1)\n",
    "X = np.asarray(D)\n",
    "path = fit_path(X,np.asarray(train['Y']), max_nonzeros=X.shape[1])\n",
    "path[3]"
   ]
  },
  {
   "cell_type": "code",
   "execution_count": 46,
   "id": "30a559fc-7f2d-4853-96a7-c0d4621ea2e9",
   "metadata": {},
   "outputs": [
    {
     "data": {
      "image/png": "[encoded data removed]",
      "text/plain": [
       "<Figure size 800x500 with 1 Axes>"
      ]
     },
     "metadata": {},
     "output_type": "display_data"
    },
    {
     "data": {
      "image/png": "[encoded data removed]",
      "text/plain": [
       "<Figure size 800x500 with 1 Axes>"
      ]
     },
     "metadata": {},
     "output_type": "display_data"
    }
   ],
   "source": [
    "import itertools\n",
    "import statsmodels.api as sm\n",
    "import matplotlib.pyplot as plt\n",
    "from sklearn.model_selection import train_test_split\n",
    "from sklearn.metrics import mean_squared_error\n",
    "\n",
    "X_train, Y_train = train.drop(columns=['Y']), train['Y']\n",
    "X_test, Y_test = test.drop(columns=['Y']), test['Y']\n",
    "\n",
    "# Function to compute best subset selection and store models\n",
    "def best_subset_selection(X, Y):\n",
    "    n_features = X.shape[1]\n",
    "    results = []\n",
    "\n",
    "    for k in range(1, n_features + 1):\n",
    "        best_mse = float('inf')\n",
    "        best_subset = None\n",
    "        best_model = None\n",
    "\n",
    "        for subset in itertools.combinations(X.columns, k):\n",
    "            X_subset = X[list(subset)]\n",
    "            X_subset = sm.add_constant(X_subset)  \n",
    "            model = sm.OLS(Y, X_subset).fit()\n",
    "            mse = mean_squared_error(Y, model.predict(X_subset))\n",
    "\n",
    "            if mse < best_mse:\n",
    "                best_mse = mse\n",
    "                best_subset = subset\n",
    "                best_model = model \n",
    "        \n",
    "        results.append((k, best_mse, best_subset, best_model))\n",
    "\n",
    "    return results\n",
    "\n",
    "subset_results = best_subset_selection(X_train, Y_train)\n",
    "\n",
    "subset_sizes = [res[0] for res in subset_results]\n",
    "train_mse_values = [res[1] for res in subset_results]\n",
    "best_models = [res[3] for res in subset_results]  \n",
    "\n",
    "test_mse_values = []\n",
    "for i, res in enumerate(subset_results):\n",
    "    best_subset = list(res[2])  \n",
    "    X_test_subset = X_test[best_subset]  \n",
    "    X_test_subset = sm.add_constant(X_test_subset)  \n",
    "\n",
    "    y_pred = best_models[i].predict(X_test_subset)\n",
    "    test_mse = mean_squared_error(Y_test, y_pred)\n",
    "    test_mse_values.append(test_mse)\n",
    "\n",
    "# Plot Training MSE vs. Model Size\n",
    "plt.figure(figsize=(8, 5))\n",
    "plt.plot(subset_sizes, train_mse_values, marker='o', linestyle='-', label=\"Training MSE\")\n",
    "plt.xlabel(\"Number of Predictors\")\n",
    "plt.ylabel(\"MSE\")\n",
    "plt.title(\"Best Subset Selection: Training MSE vs. Model Size\")\n",
    "plt.grid(True)\n",
    "plt.legend()\n",
    "plt.show()\n",
    "\n",
    "# Plot Test MSE vs. Model Size\n",
    "plt.figure(figsize=(8, 5))\n",
    "plt.plot(subset_sizes, test_mse_values, marker='o', linestyle='-', color='r', label=\"Test MSE\")\n",
    "plt.xlabel(\"Number of Predictors\")\n",
    "plt.ylabel(\"Test MSE\")\n",
    "plt.title(\"Best Subset Selection: Test MSE vs. Model Size\")\n",
    "plt.grid(True)\n",
    "plt.legend()\n",
    "plt.show()"
   ]
  },
  {
   "cell_type": "markdown",
   "id": "a44576ea-7c75-4ecc-9671-9ae27ea518e0",
   "metadata": {},
   "source": [
    "<span style=\"font-family: 'NewComputerModernMath';\">(e) For which model size does the test set MSE take on its minimum value? Comment on your results. If it takes on its minimum value for a model containing only an intercept or a model containing all of the features, then play around with the way that you are generating the data in (a) until you come up with a scenario in which the test set MSE is minimized for an intermediate model size."
   ]
  },
  {
   "cell_type": "markdown",
   "id": "56a9b9ab-ff51-41b8-a1d1-7a6a2eac3ffc",
   "metadata": {},
   "source": [
    "<span style=\"font-family: 'NewComputerModernMath';\"> Best model seems the model with the whole features but p=16-20 interval is good enough to be chosen. "
   ]
  },
  {
   "cell_type": "markdown",
   "id": "03c763d2-0a03-4dbf-9787-b89524815d7d",
   "metadata": {},
   "source": [
    "<span style=\"font-family: 'NewComputerModernMath';\">(f) How does the model at which the test set MSE is minimized compare to the true model used to generate the data? Comment on the coefficient values."
   ]
  },
  {
   "cell_type": "code",
   "execution_count": 47,
   "id": "67c03fd5-b410-46ca-a921-9db483722f12",
   "metadata": {},
   "outputs": [
    {
     "data": {
      "text/plain": [
       "array([[0.03231512],\n",
       "       [0.0289586 ],\n",
       "       [0.06116962],\n",
       "       [0.11317615],\n",
       "       [0.07405812],\n",
       "       [0.01728317],\n",
       "       [0.08219398],\n",
       "       [0.07307396],\n",
       "       [0.01808271],\n",
       "       [0.02985384],\n",
       "       [0.04597951],\n",
       "       [0.05699701],\n",
       "       [0.02641092],\n",
       "       [0.03424249],\n",
       "       [0.12598386],\n",
       "       [0.16049197],\n",
       "       [0.06994251],\n",
       "       [0.0024252 ],\n",
       "       [0.04880997],\n",
       "       [0.10039135]])"
      ]
     },
     "execution_count": 47,
     "metadata": {},
     "output_type": "execute_result"
    }
   ],
   "source": [
    "np.random.seed(42)\n",
    "np.abs(np.asarray(subset_results[-1][3].params[1:]).reshape(20,1) - beta)"
   ]
  },
  {
   "cell_type": "markdown",
   "id": "05c7328a-5c2d-422f-8d75-3a26ac0fed8d",
   "metadata": {},
   "source": [
    "<span style=\"font-family: 'NewComputerModernMath';\">While some of the parameters are close to the originals, others may not that close."
   ]
  },
  {
   "cell_type": "markdown",
   "id": "01c2e62b-b24a-4004-9d3a-78c6e624ab53",
   "metadata": {},
   "source": [
    "<span style=\"font-family: 'NewComputerModernMath';\">(g) Create a plot displaying:\n",
    "$$\n",
    "\\sqrt{\\sum_{j=1}^{p} (\\beta_j - \\hat{\\beta}_j)^2}\n",
    "$$\n",
    "<span style=\"font-family: 'NewComputerModernMath';\">for a range of values of $ r $, where $ \\hat{\\beta}_j $ is the $ j $th coefficient estimate for the best model containing $ r $ coefficients. Comment on what you observe. How does this compare to the test MSE plot from (d)?\n",
    "</span>"
   ]
  },
  {
   "cell_type": "code",
   "execution_count": 48,
   "id": "c54c46a2-cdf0-4b45-90db-2f5edd0c9dea",
   "metadata": {},
   "outputs": [
    {
     "data": {
      "image/png": "[encoded data removed]",
      "text/plain": [
       "<Figure size 800x500 with 1 Axes>"
      ]
     },
     "metadata": {},
     "output_type": "display_data"
    }
   ],
   "source": [
    "true_beta = beta\n",
    "\n",
    "euclidean_distances = []\n",
    "\n",
    "for res in subset_results:\n",
    "    r = res[0]  \n",
    "    estimated_beta = np.asarray(res[3].params[1:]).reshape(-1, 1)  \n",
    "    \n",
    "    distance = np.sqrt(np.sum((true_beta[:r] - estimated_beta) ** 2))\n",
    "    euclidean_distances.append(distance)\n",
    "\n",
    "plt.figure(figsize=(8, 5))\n",
    "plt.plot(subset_sizes, euclidean_distances, marker='o', linestyle='-', color='g', label=\"Coefficient Distance\")\n",
    "plt.xlabel(\"Number of Predictors (r)\")\n",
    "plt.ylabel(\"Euclidean Distance\")\n",
    "plt.title(\"Coefficient Distance vs. Model Size\")\n",
    "plt.grid(True)\n",
    "plt.legend()\n",
    "plt.show()"
   ]
  },
  {
   "cell_type": "markdown",
   "id": "0513b6bb-4917-4deb-a6f1-401e7e9a9ced",
   "metadata": {},
   "source": [
    "### <span style=\"color: rgb(0, 105, 175);font-family: 'NewComputerModernMath';\">Q11</span>"
   ]
  },
  {
   "cell_type": "markdown",
   "id": "bab74962-430d-4fbd-8a0a-00710ee3ece2",
   "metadata": {},
   "source": [
    "#### <span style=\"font-family: 'NewComputerModernMath';\">**11.** We will now try to predict per capita crime rate in the <span style=\"color: rgb(145, 75, 40);\">Boston</span> data set."
   ]
  },
  {
   "cell_type": "code",
   "execution_count": 115,
   "id": "dc39cd86-d76a-4459-bdc0-1cc109d5ce65",
   "metadata": {},
   "outputs": [],
   "source": [
    "Boston = load_data(\"Boston\")"
   ]
  },
  {
   "cell_type": "markdown",
   "id": "8c317e9d-5bff-4b13-b462-c9bed85b0118",
   "metadata": {},
   "source": [
    "#### <span style=\"font-family: 'NewComputerModernMath';\">(a) Try out some of the regression methods explored in this chapter, such as best subset selection, the lasso, ridge regression, and PCR. Present and discuss results for the approaches that you consider.</span>"
   ]
  },
  {
   "cell_type": "code",
   "execution_count": 116,
   "id": "7a5440fc-db8e-45dd-9c71-0bdeb8ca445c",
   "metadata": {},
   "outputs": [],
   "source": [
    "y = Boston['medv']\n",
    "Boston = Boston.drop(columns=[\"medv\"])\n",
    "\n",
    "scaler = StandardScaler()\n",
    "Boston_scaled = scaler.fit_transform(Boston)  # Returns a NumPy array\n",
    "\n",
    "Boston_scaled = pd.DataFrame(Boston_scaled, columns=Boston.columns)\n",
    "\n",
    "Boston_scaled['medv'] = y.reset_index(drop=True)\n",
    "\n",
    "X_train, X_test = train_test_split(Boston_scaled)\n",
    "y_train =  X_train['medv']\n",
    "y_test = X_test['medv']\n",
    "X_train = X_train.drop(columns=['medv'])\n",
    "X_test = X_test.drop(columns=['medv'])"
   ]
  },
  {
   "cell_type": "code",
   "execution_count": 51,
   "id": "32c1466c-bee7-4740-8a3d-9277b808af10",
   "metadata": {},
   "outputs": [
    {
     "data": {
      "text/html": [
       "<div>\n",
       "<style scoped>\n",
       "    .dataframe tbody tr th:only-of-type {\n",
       "        vertical-align: middle;\n",
       "    }\n",
       "\n",
       "    .dataframe tbody tr th {\n",
       "        vertical-align: top;\n",
       "    }\n",
       "\n",
       "    .dataframe thead th {\n",
       "        text-align: right;\n",
       "    }\n",
       "</style>\n",
       "<table border=\"1\" class=\"dataframe\">\n",
       "  <thead>\n",
       "    <tr style=\"text-align: right;\">\n",
       "      <th></th>\n",
       "      <th>Test RSS</th>\n",
       "      <th>Test MSE</th>\n",
       "      <th>Test RMSE</th>\n",
       "    </tr>\n",
       "  </thead>\n",
       "  <tbody>\n",
       "    <tr>\n",
       "      <th>0</th>\n",
       "      <td>2604.44004</td>\n",
       "      <td>20.507402</td>\n",
       "      <td>4.52851</td>\n",
       "    </tr>\n",
       "  </tbody>\n",
       "</table>\n",
       "</div>"
      ],
      "text/plain": [
       "     Test RSS   Test MSE  Test RMSE\n",
       "0  2604.44004  20.507402    4.52851"
      ]
     },
     "execution_count": 51,
     "metadata": {},
     "output_type": "execute_result"
    }
   ],
   "source": [
    "lasso = LassoCV(cv=None, random_state=23)\n",
    "lasso.fit(X_train, y_train)\n",
    "\n",
    "# Get selected features from Lasso (non-zero coefficients)\n",
    "lasso_coefs = lasso.coef_\n",
    "selected_features_lasso = [X_train.columns[i] for i in range(len(lasso_coefs)) if lasso_coefs[i] != 0]\n",
    "\n",
    "# Display results\n",
    "lasso_coefs\n",
    "selected_features_lasso\n",
    "\n",
    "y_pred_lasso = lasso.predict(X_test)\n",
    "\n",
    "rss_lasso_test = ((y_test - y_pred_lasso) ** 2).sum()\n",
    "mse_lasso_test = rss_lasso_test / len(y_test)\n",
    "rmse_lasso_test = np.sqrt(mse_lasso_test)\n",
    "\n",
    "# Results\n",
    "pcr_results = pd.DataFrame({\n",
    "    \"Test RSS\": [rss_lasso_test],\n",
    "    \"Test MSE\": [mse_lasso_test],\n",
    "    \"Test RMSE\": [rmse_lasso_test]\n",
    "})\n",
    "pcr_results"
   ]
  },
  {
   "cell_type": "code",
   "execution_count": 117,
   "id": "0ff1f236-097d-4315-bc67-7ee22ca4acb1",
   "metadata": {},
   "outputs": [
    {
     "name": "stdout",
     "output_type": "stream",
     "text": [
      "57.5712520404377\n",
      "47.28946605311868\n",
      "35.59853989335214\n",
      "33.95846294453766\n",
      "30.627932727047227\n",
      "30.542552439738234\n",
      "30.47405358739703\n",
      "30.696249374683255\n",
      "30.85153295581396\n",
      "31.235015466814325\n",
      "28.610516852987974\n",
      "27.462553552665547\n"
     ]
    },
    {
     "data": {
      "image/png": "[encoded data removed]",
      "text/plain": [
       "<Figure size 1000x600 with 1 Axes>"
      ]
     },
     "metadata": {},
     "output_type": "display_data"
    },
    {
     "data": {
      "text/html": [
       "<div>\n",
       "<style scoped>\n",
       "    .dataframe tbody tr th:only-of-type {\n",
       "        vertical-align: middle;\n",
       "    }\n",
       "\n",
       "    .dataframe tbody tr th {\n",
       "        vertical-align: top;\n",
       "    }\n",
       "\n",
       "    .dataframe thead th {\n",
       "        text-align: right;\n",
       "    }\n",
       "</style>\n",
       "<table border=\"1\" class=\"dataframe\">\n",
       "  <thead>\n",
       "    <tr style=\"text-align: right;\">\n",
       "      <th></th>\n",
       "      <th>Selected M</th>\n",
       "      <th>Test RSS</th>\n",
       "      <th>Test MSE</th>\n",
       "      <th>Test RMSE</th>\n",
       "    </tr>\n",
       "  </thead>\n",
       "  <tbody>\n",
       "    <tr>\n",
       "      <th>0</th>\n",
       "      <td>12</td>\n",
       "      <td>2354.317732</td>\n",
       "      <td>2.615909</td>\n",
       "      <td>1.617377</td>\n",
       "    </tr>\n",
       "  </tbody>\n",
       "</table>\n",
       "</div>"
      ],
      "text/plain": [
       "   Selected M     Test RSS  Test MSE  Test RMSE\n",
       "0          12  2354.317732  2.615909   1.617377"
      ]
     },
     "execution_count": 117,
     "metadata": {},
     "output_type": "execute_result"
    }
   ],
   "source": [
    "pca = PCA()\n",
    "\n",
    "#X_pca =  pca.fit_transform(Boston) Explained in the end of the question\n",
    "X_train_pca = pca.fit_transform(X_train)\n",
    "X_test_pca = pca.transform(X_test)\n",
    "\n",
    "mse_scores = []\n",
    "for m in m_values:\n",
    "    X_subset = X_train_pca[:, :m]\n",
    "    model = LinearRegression()\n",
    "    scores = cross_val_score(model, X_subset, y_train, cv=10, scoring='neg_mean_squared_error')\n",
    "    print(-scores.mean())\n",
    "    mse_scores.append(-scores.mean())\n",
    "\n",
    "best_m = m_values[np.argmin(mse_scores)]\n",
    "\n",
    "# 4. Train final model with intercept (using sklearn)\n",
    "X_train_best = sm.add_constant(X_train_pca[:, :best_m])\n",
    "X_test_best = sm.add_constant(X_test_pca[:, :best_m])\n",
    "\n",
    "pcr_model = sm.OLS(y_train, X_train_best).fit()  # Handles intercept\n",
    "\n",
    "# 5. Predict and evaluate\n",
    "Y_pred_pcr = pcr_model.predict(X_test_best)\n",
    "\n",
    "rss_pcr_test = ((y_test - Y_pred_pcr) ** 2).sum()\n",
    "mse_pcr_test = rss_pcr_test / len(Y_test)\n",
    "rmse_pcr_test = np.sqrt(mse_pcr_test)\n",
    "\n",
    "# Results\n",
    "pcr_results = pd.DataFrame({\n",
    "    \"Selected M\": [best_m],\n",
    "    \"Test RSS\": [rss_pcr_test],\n",
    "    \"Test MSE\": [mse_pcr_test],\n",
    "    \"Test RMSE\": [rmse_pcr_test]\n",
    "})\n",
    "\n",
    "\n",
    "accuracy_scores = [score for score in mse_scores]\n",
    "\n",
    "# Plot accuracy vs. number of principal components\n",
    "plt.figure(figsize=(10,6))\n",
    "plt.plot(m_values, accuracy_scores, marker='o')\n",
    "plt.xlabel('Number of Principal Components (m)')\n",
    "plt.ylabel('Accuracy (1 - MSE)')\n",
    "plt.title('Accuracy vs. Number of Principal Components')\n",
    "plt.grid(True)\n",
    "plt.show()\n",
    "pcr_results"
   ]
  },
  {
   "cell_type": "code",
   "execution_count": 54,
   "id": "89af4de4-900c-4723-86b5-63224efd3edd",
   "metadata": {},
   "outputs": [
    {
     "data": {
      "text/html": [
       "<div>\n",
       "<style scoped>\n",
       "    .dataframe tbody tr th:only-of-type {\n",
       "        vertical-align: middle;\n",
       "    }\n",
       "\n",
       "    .dataframe tbody tr th {\n",
       "        vertical-align: top;\n",
       "    }\n",
       "\n",
       "    .dataframe thead th {\n",
       "        text-align: right;\n",
       "    }\n",
       "</style>\n",
       "<table border=\"1\" class=\"dataframe\">\n",
       "  <thead>\n",
       "    <tr style=\"text-align: right;\">\n",
       "      <th></th>\n",
       "      <th>Test RSS</th>\n",
       "      <th>Test MSE</th>\n",
       "      <th>Test RMSE</th>\n",
       "    </tr>\n",
       "  </thead>\n",
       "  <tbody>\n",
       "    <tr>\n",
       "      <th>0</th>\n",
       "      <td>2643.185237</td>\n",
       "      <td>20.812482</td>\n",
       "      <td>4.56207</td>\n",
       "    </tr>\n",
       "  </tbody>\n",
       "</table>\n",
       "</div>"
      ],
      "text/plain": [
       "      Test RSS   Test MSE  Test RMSE\n",
       "0  2643.185237  20.812482    4.56207"
      ]
     },
     "execution_count": 54,
     "metadata": {},
     "output_type": "execute_result"
    }
   ],
   "source": [
    "from sklearn.linear_model import RidgeCV\n",
    "\n",
    "ridge = RidgeCV(cv=None)\n",
    "ridge.fit(X_train, y_train)\n",
    "\n",
    "# Get selected features from Lasso (non-zero coefficients)\n",
    "ridge_coefs = ridge.coef_\n",
    "selected_features_ridge = [X_train.columns[i] for i in range(len(ridge_coefs)) if ridge_coefs[i] != 0]\n",
    "\n",
    "# Display results\n",
    "ridge_coefs\n",
    "selected_features_ridge\n",
    "\n",
    "y_pred_ridge = ridge.predict(X_test)\n",
    "\n",
    "rss_ridge_test = ((y_test - y_pred_ridge) ** 2).sum()\n",
    "mse_ridge_test = rss_ridge_test / len(y_test)\n",
    "rmse_ridge_test = np.sqrt(mse_ridge_test)\n",
    "\n",
    "# Results\n",
    "pcr_results = pd.DataFrame({\n",
    "    \"Test RSS\": [rss_ridge_test],\n",
    "    \"Test MSE\": [mse_ridge_test],\n",
    "    \"Test RMSE\": [rmse_ridge_test]\n",
    "})\n",
    "pcr_results"
   ]
  },
  {
   "cell_type": "code",
   "execution_count": 59,
   "id": "d92e31da-9d82-4f95-9971-720747a59b05",
   "metadata": {},
   "outputs": [
    {
     "data": {
      "text/html": [
       "<div>\n",
       "<style scoped>\n",
       "    .dataframe tbody tr th:only-of-type {\n",
       "        vertical-align: middle;\n",
       "    }\n",
       "\n",
       "    .dataframe tbody tr th {\n",
       "        vertical-align: top;\n",
       "    }\n",
       "\n",
       "    .dataframe thead th {\n",
       "        text-align: right;\n",
       "    }\n",
       "</style>\n",
       "<table border=\"1\" class=\"dataframe\">\n",
       "  <thead>\n",
       "    <tr style=\"text-align: right;\">\n",
       "      <th></th>\n",
       "      <th>Selected M (Number of Components)</th>\n",
       "      <th>Test RSS (Residual Sum of Squares)</th>\n",
       "      <th>Test MSE (Mean Squared Error)</th>\n",
       "      <th>Test RMSE (Root Mean Squared Error)</th>\n",
       "    </tr>\n",
       "  </thead>\n",
       "  <tbody>\n",
       "    <tr>\n",
       "      <th>0</th>\n",
       "      <td>9</td>\n",
       "      <td>2600.36175</td>\n",
       "      <td>20.475289</td>\n",
       "      <td>4.524963</td>\n",
       "    </tr>\n",
       "  </tbody>\n",
       "</table>\n",
       "</div>"
      ],
      "text/plain": [
       "   Selected M (Number of Components)  Test RSS (Residual Sum of Squares)  \\\n",
       "0                                  9                          2600.36175   \n",
       "\n",
       "   Test MSE (Mean Squared Error)  Test RMSE (Root Mean Squared Error)  \n",
       "0                      20.475289                             4.524963  "
      ]
     },
     "execution_count": 59,
     "metadata": {},
     "output_type": "execute_result"
    }
   ],
   "source": [
    "from sklearn.cross_decomposition import PLSRegression\n",
    "\n",
    "# Define the range of components to test\n",
    "m_values = np.arange(1, X_train.shape[1] + 1)\n",
    "pls_mse_scores = []\n",
    "\n",
    "# Perform cross-validation to select the best number of components M\n",
    "for m in m_values:\n",
    "    pls_model = PLSRegression(n_components=m)\n",
    "    scores = cross_val_score(pls_model, X_train, y_train, cv=10, scoring='neg_mean_squared_error')\n",
    "    pls_mse_scores.append(-scores.mean())  # Convert negative MSE to positive\n",
    "\n",
    "# Select the best M (minimum MSE)\n",
    "best_m_pls = m_values[np.argmin(pls_mse_scores)]\n",
    "\n",
    "# Train final PLS model using the best M components\n",
    "pls_final_model = PLSRegression(n_components=best_m_pls)\n",
    "pls_final_model.fit(X_train, y_train)\n",
    "\n",
    "# Predict on test data\n",
    "Y_pred_pls = pls_final_model.predict(X_test).flatten()\n",
    "\n",
    "# Compute test error\n",
    "rss_pls_test = np.sum((y_test - Y_pred_pls) ** 2)\n",
    "mse_pls_test = rss_pls_test / len(y_test)\n",
    "rmse_pls_test = np.sqrt(mse_pls_test)\n",
    "\n",
    "# Display results\n",
    "pls_results = pd.DataFrame({\n",
    "    \"Selected M (Number of Components)\": [best_m_pls],\n",
    "    \"Test RSS (Residual Sum of Squares)\": [rss_pls_test],\n",
    "    \"Test MSE (Mean Squared Error)\": [mse_pls_test],\n",
    "    \"Test RMSE (Root Mean Squared Error)\": [rmse_pls_test]\n",
    "})\n",
    "pls_results"
   ]
  },
  {
   "cell_type": "code",
   "execution_count": 66,
   "id": "74baa6de-82f2-4284-b246-c6b6578dd4d0",
   "metadata": {},
   "outputs": [
    {
     "data": {
      "image/png": "[encoded data removed]",
      "text/plain": [
       "<Figure size 800x500 with 1 Axes>"
      ]
     },
     "metadata": {},
     "output_type": "display_data"
    },
    {
     "data": {
      "image/png": "[encoded data removed]",
      "text/plain": [
       "<Figure size 800x500 with 1 Axes>"
      ]
     },
     "metadata": {},
     "output_type": "display_data"
    },
    {
     "data": {
      "text/html": [
       "<div>\n",
       "<style scoped>\n",
       "    .dataframe tbody tr th:only-of-type {\n",
       "        vertical-align: middle;\n",
       "    }\n",
       "\n",
       "    .dataframe tbody tr th {\n",
       "        vertical-align: top;\n",
       "    }\n",
       "\n",
       "    .dataframe thead th {\n",
       "        text-align: right;\n",
       "    }\n",
       "</style>\n",
       "<table border=\"1\" class=\"dataframe\">\n",
       "  <thead>\n",
       "    <tr style=\"text-align: right;\">\n",
       "      <th></th>\n",
       "      <th>Selected M (Number of Predictors)</th>\n",
       "      <th>Test RSS (Residual Sum of Squares)</th>\n",
       "      <th>Test MSE (Mean Squared Error)</th>\n",
       "      <th>Test RMSE (Root Mean Squared Error)</th>\n",
       "    </tr>\n",
       "  </thead>\n",
       "  <tbody>\n",
       "    <tr>\n",
       "      <th>0</th>\n",
       "      <td>12</td>\n",
       "      <td>2600.36175</td>\n",
       "      <td>20.475289</td>\n",
       "      <td>4.524963</td>\n",
       "    </tr>\n",
       "  </tbody>\n",
       "</table>\n",
       "</div>"
      ],
      "text/plain": [
       "   Selected M (Number of Predictors)  Test RSS (Residual Sum of Squares)  \\\n",
       "0                                 12                          2600.36175   \n",
       "\n",
       "   Test MSE (Mean Squared Error)  Test RMSE (Root Mean Squared Error)  \n",
       "0                      20.475289                             4.524963  "
      ]
     },
     "execution_count": 66,
     "metadata": {},
     "output_type": "execute_result"
    }
   ],
   "source": [
    "subset_results = best_subset_selection(X_train, y_train)\n",
    "\n",
    "subset_sizes = [res[0] for res in subset_results]\n",
    "train_mse_values = [res[1] for res in subset_results]\n",
    "best_models = [res[3] for res in subset_results]  \n",
    "\n",
    "test_mse_values = []\n",
    "for i, res in enumerate(subset_results):\n",
    "    best_subset = list(res[2])  \n",
    "    X_test_subset = X_test[best_subset]  \n",
    "    X_test_subset = sm.add_constant(X_test_subset)  \n",
    "\n",
    "    y_pred = best_models[i].predict(X_test_subset)\n",
    "    test_mse = mean_squared_error(y_test, y_pred)\n",
    "    test_mse_values.append(test_mse)\n",
    "\n",
    "    number_of_predictors = len(best_subset)\n",
    "    rss_bss_test = np.sum((y_test - y_pred) ** 2)\n",
    "    mse_bss_test = rss_bss_test / len(y_test)\n",
    "    rmse_bss_test = np.sqrt(mse_bss_test)\n",
    "\n",
    "\n",
    "\n",
    "# Display results\n",
    "pls_results = pd.DataFrame({\n",
    "    \"Selected M (Number of Predictors)\": [number_of_predictors],\n",
    "    \"Test RSS (Residual Sum of Squares)\": [rss_pls_test],\n",
    "    \"Test MSE (Mean Squared Error)\": [mse_pls_test],\n",
    "    \"Test RMSE (Root Mean Squared Error)\": [rmse_pls_test]\n",
    "})\n",
    "# Plot Training MSE vs. Model Size\n",
    "plt.figure(figsize=(8, 5))\n",
    "plt.plot(subset_sizes, train_mse_values, marker='o', linestyle='-', label=\"Training MSE\")\n",
    "plt.xlabel(\"Number of Predictors\")\n",
    "plt.ylabel(\"MSE\")\n",
    "plt.title(\"Best Subset Selection: Training MSE vs. Model Size\")\n",
    "plt.grid(True)\n",
    "plt.legend()\n",
    "plt.show()\n",
    "\n",
    "plt.figure(figsize=(8, 5))\n",
    "plt.plot(subset_sizes, test_mse_values, marker='o', linestyle='-', color='r', label=\"Test MSE\")\n",
    "plt.xlabel(\"Number of Predictors\")\n",
    "plt.ylabel(\"Test MSE\")\n",
    "plt.title(\"Best Subset Selection: Test MSE vs. Model Size\")\n",
    "plt.grid(True)\n",
    "plt.legend()\n",
    "plt.show()\n",
    "\n",
    "pls_results"
   ]
  },
  {
   "cell_type": "markdown",
   "id": "4b07d2ba-efd5-40c6-8929-f38f883f61d5",
   "metadata": {},
   "source": [
    "##### <span style=\"font-family: 'NewComputerModernMath';\">PCR gave the best result"
   ]
  },
  {
   "cell_type": "markdown",
   "id": "47e94f4d-55e8-44a1-8013-2f5f4234defc",
   "metadata": {},
   "source": [
    "#### <span style=\"font-family: 'NewComputerModernMath';\">(b) Propose a model (or set of models) that seem to perform well on this data set, and justify your answer. Make sure that you are evaluating model performance using validation set error, cross-validation, or some other reasonable alternative, as opposed to using training error.</span>"
   ]
  },
  {
   "cell_type": "code",
   "execution_count": 113,
   "id": "c0a9db22-57c6-461d-8215-73e544701e61",
   "metadata": {},
   "outputs": [
    {
     "name": "stdout",
     "output_type": "stream",
     "text": [
      "Average cross-validation RSS: 5337.492894541147\n",
      "Average cross-validation MSE: 5.930547660601274\n",
      "Average cross-validation RMSE: 2.430254617154604\n"
     ]
    }
   ],
   "source": [
    "from sklearn.model_selection import KFold\n",
    "\n",
    "pca = PCA()\n",
    "X_cv = pca.fit_transform(Boston)\n",
    "Y_cv = y\n",
    "\n",
    "X_cv = sm.add_constant(X_cv)\n",
    "\n",
    "pcr_model = sm.OLS(Y_cv, X_cv[:,0:1]).fit()  # Handles intercept\n",
    "\n",
    "kf = KFold(n_splits=10, shuffle=True, random_state=42)\n",
    "\n",
    "# List to hold MSE for each fold\n",
    "rss_list = []\n",
    "mse_list = []\n",
    "rmse_list = []\n",
    "# Perform cross-validation\n",
    "for train_idx, test_idx in kf.split(X):\n",
    "    # Split the data into training and testing sets\n",
    "    X_train, X_test = X[train_idx][:,0:9], X[test_idx][:,0:9]\n",
    "    y_train, y_test = y[train_idx], y[test_idx]\n",
    "    \n",
    "    # Fit the OLS model on the training data\n",
    "    model = sm.OLS(y_train, X_train).fit()\n",
    "    \n",
    "    # Predict on the test set\n",
    "    y_pred = model.predict(X_test)\n",
    "    \n",
    "    # Calculate Mean Squared Error (MSE) for the fold\n",
    "    rss_pcr_test = ((y_pred - y_test) ** 2).sum()\n",
    "    mse_pcr_test = rss_pcr_test / len(Y_test)\n",
    "    rmse_pcr_test = np.sqrt(mse_pcr_test)\n",
    "\n",
    "    rss_list.append(rss_pcr_test)\n",
    "    mse_list.append(mse_pcr_test)\n",
    "    rmse_list.append(rmse_pcr_test)\n",
    "\n",
    "\n",
    "# Calculate the average MSE across all folds\n",
    "avg_rss = np.mean(rss_list)\n",
    "avg_mse = np.mean(mse_list)\n",
    "avg_rmse = np.mean(rmse_list)\n",
    "print(\"Average cross-validation RSS:\", avg_rss)\n",
    "print(\"Average cross-validation MSE:\", avg_mse)\n",
    "print(\"Average cross-validation RMSE:\", avg_rmse)"
   ]
  },
  {
   "cell_type": "markdown",
   "id": "659fee27-c287-4760-9ec0-de2914aca708",
   "metadata": {},
   "source": [
    "#### <span style=\"font-family: 'NewComputerModernMath';\">(c) Does your chosen model involve all of the features in the data set? Why or why not?</span>\n",
    "</span>"
   ]
  },
  {
   "cell_type": "markdown",
   "id": "158785d8-ffc0-48ff-b720-c2ed04812cfc",
   "metadata": {},
   "source": [
    "##### <span style=\"font-family: 'NewComputerModernMath';\"> Includes not the features but the principal components. Because the best model is chosen according to best accuracy. However, if we apply cross validation for all data and then choose the principle compoments, we would see that best_m will be 9. But we know that we should split first to be able to simulate more realistic event (Assuming that we don't know the test part before training)."
   ]
  }
 ],
 "metadata": {
  "kernelspec": {
   "display_name": "Python 3 (ipykernel)",
   "language": "python",
   "name": "python3"
  },
  "language_info": {
   "codemirror_mode": {
    "name": "ipython",
    "version": 3
   },
   "file_extension": ".py",
   "mimetype": "text/x-python",
   "name": "python",
   "nbconvert_exporter": "python",
   "pygments_lexer": "ipython3",
   "version": "3.10.16"
  }
 },
 "nbformat": 4,
 "nbformat_minor": 5
}
